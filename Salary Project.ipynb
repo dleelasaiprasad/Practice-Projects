{
 "cells": [
  {
   "cell_type": "markdown",
   "id": "97232978",
   "metadata": {},
   "source": [
    "# Salary Project"
   ]
  },
  {
   "cell_type": "code",
   "execution_count": 12,
   "id": "e0cffd08",
   "metadata": {},
   "outputs": [],
   "source": [
    "import pandas as pd\n",
    "import numpy as np"
   ]
  },
  {
   "cell_type": "code",
   "execution_count": 13,
   "id": "6d8bdd02",
   "metadata": {},
   "outputs": [],
   "source": [
    "#importing the csv dataset\n",
    "df = pd.read_csv(\"https://raw.githubusercontent.com/dsrscientist/dataset3/main/Salaries.csv\")"
   ]
  },
  {
   "cell_type": "code",
   "execution_count": 14,
   "id": "2c0e9adc",
   "metadata": {},
   "outputs": [
    {
     "data": {
      "text/plain": [
       "pandas.core.frame.DataFrame"
      ]
     },
     "execution_count": 14,
     "metadata": {},
     "output_type": "execute_result"
    }
   ],
   "source": [
    "type(df)"
   ]
  },
  {
   "cell_type": "code",
   "execution_count": 15,
   "id": "afe5537e",
   "metadata": {},
   "outputs": [
    {
     "data": {
      "text/html": [
       "<div>\n",
       "<style scoped>\n",
       "    .dataframe tbody tr th:only-of-type {\n",
       "        vertical-align: middle;\n",
       "    }\n",
       "\n",
       "    .dataframe tbody tr th {\n",
       "        vertical-align: top;\n",
       "    }\n",
       "\n",
       "    .dataframe thead th {\n",
       "        text-align: right;\n",
       "    }\n",
       "</style>\n",
       "<table border=\"1\" class=\"dataframe\">\n",
       "  <thead>\n",
       "    <tr style=\"text-align: right;\">\n",
       "      <th></th>\n",
       "      <th>rank</th>\n",
       "      <th>discipline</th>\n",
       "      <th>yrs.since.phd</th>\n",
       "      <th>yrs.service</th>\n",
       "      <th>sex</th>\n",
       "      <th>salary</th>\n",
       "    </tr>\n",
       "  </thead>\n",
       "  <tbody>\n",
       "    <tr>\n",
       "      <th>0</th>\n",
       "      <td>Prof</td>\n",
       "      <td>B</td>\n",
       "      <td>19</td>\n",
       "      <td>18</td>\n",
       "      <td>Male</td>\n",
       "      <td>139750</td>\n",
       "    </tr>\n",
       "    <tr>\n",
       "      <th>1</th>\n",
       "      <td>Prof</td>\n",
       "      <td>B</td>\n",
       "      <td>20</td>\n",
       "      <td>16</td>\n",
       "      <td>Male</td>\n",
       "      <td>173200</td>\n",
       "    </tr>\n",
       "    <tr>\n",
       "      <th>2</th>\n",
       "      <td>AsstProf</td>\n",
       "      <td>B</td>\n",
       "      <td>4</td>\n",
       "      <td>3</td>\n",
       "      <td>Male</td>\n",
       "      <td>79750</td>\n",
       "    </tr>\n",
       "    <tr>\n",
       "      <th>3</th>\n",
       "      <td>Prof</td>\n",
       "      <td>B</td>\n",
       "      <td>45</td>\n",
       "      <td>39</td>\n",
       "      <td>Male</td>\n",
       "      <td>115000</td>\n",
       "    </tr>\n",
       "    <tr>\n",
       "      <th>4</th>\n",
       "      <td>Prof</td>\n",
       "      <td>B</td>\n",
       "      <td>40</td>\n",
       "      <td>41</td>\n",
       "      <td>Male</td>\n",
       "      <td>141500</td>\n",
       "    </tr>\n",
       "    <tr>\n",
       "      <th>...</th>\n",
       "      <td>...</td>\n",
       "      <td>...</td>\n",
       "      <td>...</td>\n",
       "      <td>...</td>\n",
       "      <td>...</td>\n",
       "      <td>...</td>\n",
       "    </tr>\n",
       "    <tr>\n",
       "      <th>392</th>\n",
       "      <td>Prof</td>\n",
       "      <td>A</td>\n",
       "      <td>33</td>\n",
       "      <td>30</td>\n",
       "      <td>Male</td>\n",
       "      <td>103106</td>\n",
       "    </tr>\n",
       "    <tr>\n",
       "      <th>393</th>\n",
       "      <td>Prof</td>\n",
       "      <td>A</td>\n",
       "      <td>31</td>\n",
       "      <td>19</td>\n",
       "      <td>Male</td>\n",
       "      <td>150564</td>\n",
       "    </tr>\n",
       "    <tr>\n",
       "      <th>394</th>\n",
       "      <td>Prof</td>\n",
       "      <td>A</td>\n",
       "      <td>42</td>\n",
       "      <td>25</td>\n",
       "      <td>Male</td>\n",
       "      <td>101738</td>\n",
       "    </tr>\n",
       "    <tr>\n",
       "      <th>395</th>\n",
       "      <td>Prof</td>\n",
       "      <td>A</td>\n",
       "      <td>25</td>\n",
       "      <td>15</td>\n",
       "      <td>Male</td>\n",
       "      <td>95329</td>\n",
       "    </tr>\n",
       "    <tr>\n",
       "      <th>396</th>\n",
       "      <td>AsstProf</td>\n",
       "      <td>A</td>\n",
       "      <td>8</td>\n",
       "      <td>4</td>\n",
       "      <td>Male</td>\n",
       "      <td>81035</td>\n",
       "    </tr>\n",
       "  </tbody>\n",
       "</table>\n",
       "<p>397 rows × 6 columns</p>\n",
       "</div>"
      ],
      "text/plain": [
       "         rank discipline  yrs.since.phd  yrs.service   sex  salary\n",
       "0        Prof          B             19           18  Male  139750\n",
       "1        Prof          B             20           16  Male  173200\n",
       "2    AsstProf          B              4            3  Male   79750\n",
       "3        Prof          B             45           39  Male  115000\n",
       "4        Prof          B             40           41  Male  141500\n",
       "..        ...        ...            ...          ...   ...     ...\n",
       "392      Prof          A             33           30  Male  103106\n",
       "393      Prof          A             31           19  Male  150564\n",
       "394      Prof          A             42           25  Male  101738\n",
       "395      Prof          A             25           15  Male   95329\n",
       "396  AsstProf          A              8            4  Male   81035\n",
       "\n",
       "[397 rows x 6 columns]"
      ]
     },
     "execution_count": 15,
     "metadata": {},
     "output_type": "execute_result"
    }
   ],
   "source": [
    "df"
   ]
  },
  {
   "cell_type": "code",
   "execution_count": 16,
   "id": "32e72a78",
   "metadata": {},
   "outputs": [
    {
     "data": {
      "text/plain": [
       "Index(['rank', 'discipline', 'yrs.since.phd', 'yrs.service', 'sex', 'salary'], dtype='object')"
      ]
     },
     "execution_count": 16,
     "metadata": {},
     "output_type": "execute_result"
    }
   ],
   "source": [
    "df.columns"
   ]
  },
  {
   "cell_type": "code",
   "execution_count": 17,
   "id": "b3e0b942",
   "metadata": {},
   "outputs": [
    {
     "data": {
      "text/html": [
       "<div>\n",
       "<style scoped>\n",
       "    .dataframe tbody tr th:only-of-type {\n",
       "        vertical-align: middle;\n",
       "    }\n",
       "\n",
       "    .dataframe tbody tr th {\n",
       "        vertical-align: top;\n",
       "    }\n",
       "\n",
       "    .dataframe thead th {\n",
       "        text-align: right;\n",
       "    }\n",
       "</style>\n",
       "<table border=\"1\" class=\"dataframe\">\n",
       "  <thead>\n",
       "    <tr style=\"text-align: right;\">\n",
       "      <th></th>\n",
       "      <th>rank</th>\n",
       "      <th>discipline</th>\n",
       "      <th>yrs.since.phd</th>\n",
       "      <th>yrs.service</th>\n",
       "      <th>sex</th>\n",
       "      <th>salary</th>\n",
       "    </tr>\n",
       "  </thead>\n",
       "  <tbody>\n",
       "    <tr>\n",
       "      <th>75</th>\n",
       "      <td>AsstProf</td>\n",
       "      <td>B</td>\n",
       "      <td>8</td>\n",
       "      <td>3</td>\n",
       "      <td>Male</td>\n",
       "      <td>73266</td>\n",
       "    </tr>\n",
       "  </tbody>\n",
       "</table>\n",
       "</div>"
      ],
      "text/plain": [
       "        rank discipline  yrs.since.phd  yrs.service   sex  salary\n",
       "75  AsstProf          B              8            3  Male   73266"
      ]
     },
     "execution_count": 17,
     "metadata": {},
     "output_type": "execute_result"
    }
   ],
   "source": [
    "df.sample()  #taking a sample record for reference"
   ]
  },
  {
   "cell_type": "code",
   "execution_count": 18,
   "id": "e10d13c1",
   "metadata": {},
   "outputs": [
    {
     "data": {
      "text/plain": [
       "rank             0\n",
       "discipline       0\n",
       "yrs.since.phd    0\n",
       "yrs.service      0\n",
       "sex              0\n",
       "salary           0\n",
       "dtype: int64"
      ]
     },
     "execution_count": 18,
     "metadata": {},
     "output_type": "execute_result"
    }
   ],
   "source": [
    "df.isnull().sum()    #finding the total number of null values present in each field"
   ]
  },
  {
   "cell_type": "markdown",
   "id": "392164e7",
   "metadata": {},
   "source": [
    "# Explorartory Data Analisys\n",
    "ScatterPlot  "
   ]
  },
  {
   "cell_type": "markdown",
   "id": "acaf5504",
   "metadata": {},
   "source": [
    "Visualizing data to understand Distribution of data in columns"
   ]
  },
  {
   "cell_type": "code",
   "execution_count": 19,
   "id": "3e3781ae",
   "metadata": {},
   "outputs": [
    {
     "data": {
      "text/plain": [
       "Index(['rank', 'discipline', 'yrs.since.phd', 'yrs.service', 'sex', 'salary'], dtype='object')"
      ]
     },
     "execution_count": 19,
     "metadata": {},
     "output_type": "execute_result"
    }
   ],
   "source": [
    "import seaborn as sns   #importing seaborn library as sns\n",
    "df.columns"
   ]
  },
  {
   "cell_type": "code",
   "execution_count": 20,
   "id": "4eeebfa4",
   "metadata": {},
   "outputs": [
    {
     "data": {
      "text/plain": [
       "<AxesSubplot:xlabel='rank', ylabel='salary'>"
      ]
     },
     "execution_count": 20,
     "metadata": {},
     "output_type": "execute_result"
    },
    {
     "data": {
      "image/png": "[encoded data removed]",
      "text/plain": [
       "<Figure size 432x288 with 1 Axes>"
      ]
     },
     "metadata": {
      "needs_background": "light"
     },
     "output_type": "display_data"
    }
   ],
   "source": [
    "sns.scatterplot(x=\"rank\",y=\"salary\", data=df)"
   ]
  },
  {
   "cell_type": "raw",
   "id": "08aa0a50",
   "metadata": {},
   "source": [
    "Here Rank is categorical data\n",
    "    Range of prof salary is uniformly distributed from 60k to 190k\n",
    "    Range of Asstprof salary is uniformly distributed from 60k to 100k\n",
    "    Range of Assocprof salary is uniformly distributed from 75k to 125k"
   ]
  },
  {
   "cell_type": "code",
   "execution_count": 21,
   "id": "d7aaac4d",
   "metadata": {},
   "outputs": [
    {
     "data": {
      "text/plain": [
       "<AxesSubplot:xlabel='discipline', ylabel='salary'>"
      ]
     },
     "execution_count": 21,
     "metadata": {},
     "output_type": "execute_result"
    },
    {
     "data": {
      "image/png": "[encoded data removed]",
      "text/plain": [
       "<Figure size 432x288 with 1 Axes>"
      ]
     },
     "metadata": {
      "needs_background": "light"
     },
     "output_type": "display_data"
    }
   ],
   "source": [
    "sns.scatterplot(x=\"discipline\",y=\"salary\", data=df)"
   ]
  },
  {
   "cell_type": "code",
   "execution_count": 23,
   "id": "a2a23d5c",
   "metadata": {},
   "outputs": [
    {
     "data": {
      "text/plain": [
       "<seaborn.axisgrid.PairGrid at 0x27dadb96610>"
      ]
     },
     "execution_count": 23,
     "metadata": {},
     "output_type": "execute_result"
    },
    {
     "data": {
      "image/png": "[encoded data removed]",
      "text/plain": [
       "<Figure size 540x540 with 12 Axes>"
      ]
     },
     "metadata": {
      "needs_background": "light"
     },
     "output_type": "display_data"
    }
   ],
   "source": [
    "#for easy analysis we use pair plot to display all combinatios of plots in a single go\n",
    "sns.pairplot(df)"
   ]
  },
  {
   "cell_type": "markdown",
   "id": "cf734af5",
   "metadata": {},
   "source": [
    "Rank, Discipline, Sex is categorical data hence not fetched by the graph"
   ]
  },
  {
   "cell_type": "markdown",
   "id": "aac1ff14",
   "metadata": {},
   "source": [
    "# Correlation:"
   ]
  },
  {
   "cell_type": "code",
   "execution_count": 24,
   "id": "dfbe7805",
   "metadata": {},
   "outputs": [
    {
     "data": {
      "text/html": [
       "<div>\n",
       "<style scoped>\n",
       "    .dataframe tbody tr th:only-of-type {\n",
       "        vertical-align: middle;\n",
       "    }\n",
       "\n",
       "    .dataframe tbody tr th {\n",
       "        vertical-align: top;\n",
       "    }\n",
       "\n",
       "    .dataframe thead th {\n",
       "        text-align: right;\n",
       "    }\n",
       "</style>\n",
       "<table border=\"1\" class=\"dataframe\">\n",
       "  <thead>\n",
       "    <tr style=\"text-align: right;\">\n",
       "      <th></th>\n",
       "      <th>yrs.since.phd</th>\n",
       "      <th>yrs.service</th>\n",
       "      <th>salary</th>\n",
       "    </tr>\n",
       "  </thead>\n",
       "  <tbody>\n",
       "    <tr>\n",
       "      <th>yrs.since.phd</th>\n",
       "      <td>1.000000</td>\n",
       "      <td>0.909649</td>\n",
       "      <td>0.419231</td>\n",
       "    </tr>\n",
       "    <tr>\n",
       "      <th>yrs.service</th>\n",
       "      <td>0.909649</td>\n",
       "      <td>1.000000</td>\n",
       "      <td>0.334745</td>\n",
       "    </tr>\n",
       "    <tr>\n",
       "      <th>salary</th>\n",
       "      <td>0.419231</td>\n",
       "      <td>0.334745</td>\n",
       "      <td>1.000000</td>\n",
       "    </tr>\n",
       "  </tbody>\n",
       "</table>\n",
       "</div>"
      ],
      "text/plain": [
       "               yrs.since.phd  yrs.service    salary\n",
       "yrs.since.phd       1.000000     0.909649  0.419231\n",
       "yrs.service         0.909649     1.000000  0.334745\n",
       "salary              0.419231     0.334745  1.000000"
      ]
     },
     "execution_count": 24,
     "metadata": {},
     "output_type": "execute_result"
    }
   ],
   "source": [
    "#Finding the correlation between the columns\n",
    "df.corr()"
   ]
  },
  {
   "cell_type": "code",
   "execution_count": 25,
   "id": "8e1ef71d",
   "metadata": {},
   "outputs": [
    {
     "data": {
      "text/plain": [
       "yrs.service      0.334745\n",
       "yrs.since.phd    0.419231\n",
       "salary           1.000000\n",
       "Name: salary, dtype: float64"
      ]
     },
     "execution_count": 25,
     "metadata": {},
     "output_type": "execute_result"
    }
   ],
   "source": [
    "df.corr()[\"salary\"].sort_values()"
   ]
  },
  {
   "cell_type": "markdown",
   "id": "7f8728b6",
   "metadata": {},
   "source": [
    "Visualizing correlation using heatmap"
   ]
  },
  {
   "cell_type": "code",
   "execution_count": 26,
   "id": "e2948931",
   "metadata": {},
   "outputs": [
    {
     "data": {
      "text/plain": [
       "<AxesSubplot:>"
      ]
     },
     "execution_count": 26,
     "metadata": {},
     "output_type": "execute_result"
    },
    {
     "data": {
      "image/png": "[encoded data removed]",
      "text/plain": [
       "<Figure size 432x144 with 2 Axes>"
      ]
     },
     "metadata": {
      "needs_background": "light"
     },
     "output_type": "display_data"
    }
   ],
   "source": [
    "import matplotlib.pyplot as plt\n",
    "#size of canvas\n",
    "plt.figure(figsize=(6,2))\n",
    "sns.heatmap(df.corr(), annot=True, linewidths=0.5, linecolor='black',fmt='.2f')"
   ]
  },
  {
   "cell_type": "markdown",
   "id": "d34d407f",
   "metadata": {},
   "source": [
    "Outcome of coreleation heatmap\n",
    "\n",
    "    All the columns of the datasets is positively correlated with the target column i.e salary.\n",
    "        yrs.since.phd have 42% correlation with salary\n",
    "        yrs.service have 33% correlation with salary"
   ]
  },
  {
   "cell_type": "markdown",
   "id": "94fd7f5d",
   "metadata": {},
   "source": [
    "# Descreptive Statistics"
   ]
  },
  {
   "cell_type": "markdown",
   "id": "85aa254c",
   "metadata": {},
   "source": [
    "Describing DataSets:"
   ]
  },
  {
   "cell_type": "code",
   "execution_count": 27,
   "id": "0b5c6045",
   "metadata": {},
   "outputs": [
    {
     "data": {
      "text/html": [
       "<div>\n",
       "<style scoped>\n",
       "    .dataframe tbody tr th:only-of-type {\n",
       "        vertical-align: middle;\n",
       "    }\n",
       "\n",
       "    .dataframe tbody tr th {\n",
       "        vertical-align: top;\n",
       "    }\n",
       "\n",
       "    .dataframe thead th {\n",
       "        text-align: right;\n",
       "    }\n",
       "</style>\n",
       "<table border=\"1\" class=\"dataframe\">\n",
       "  <thead>\n",
       "    <tr style=\"text-align: right;\">\n",
       "      <th></th>\n",
       "      <th>yrs.since.phd</th>\n",
       "      <th>yrs.service</th>\n",
       "      <th>salary</th>\n",
       "    </tr>\n",
       "  </thead>\n",
       "  <tbody>\n",
       "    <tr>\n",
       "      <th>count</th>\n",
       "      <td>397.000000</td>\n",
       "      <td>397.000000</td>\n",
       "      <td>397.000000</td>\n",
       "    </tr>\n",
       "    <tr>\n",
       "      <th>mean</th>\n",
       "      <td>22.314861</td>\n",
       "      <td>17.614610</td>\n",
       "      <td>113706.458438</td>\n",
       "    </tr>\n",
       "    <tr>\n",
       "      <th>std</th>\n",
       "      <td>12.887003</td>\n",
       "      <td>13.006024</td>\n",
       "      <td>30289.038695</td>\n",
       "    </tr>\n",
       "    <tr>\n",
       "      <th>min</th>\n",
       "      <td>1.000000</td>\n",
       "      <td>0.000000</td>\n",
       "      <td>57800.000000</td>\n",
       "    </tr>\n",
       "    <tr>\n",
       "      <th>25%</th>\n",
       "      <td>12.000000</td>\n",
       "      <td>7.000000</td>\n",
       "      <td>91000.000000</td>\n",
       "    </tr>\n",
       "    <tr>\n",
       "      <th>50%</th>\n",
       "      <td>21.000000</td>\n",
       "      <td>16.000000</td>\n",
       "      <td>107300.000000</td>\n",
       "    </tr>\n",
       "    <tr>\n",
       "      <th>75%</th>\n",
       "      <td>32.000000</td>\n",
       "      <td>27.000000</td>\n",
       "      <td>134185.000000</td>\n",
       "    </tr>\n",
       "    <tr>\n",
       "      <th>max</th>\n",
       "      <td>56.000000</td>\n",
       "      <td>60.000000</td>\n",
       "      <td>231545.000000</td>\n",
       "    </tr>\n",
       "  </tbody>\n",
       "</table>\n",
       "</div>"
      ],
      "text/plain": [
       "       yrs.since.phd  yrs.service         salary\n",
       "count     397.000000   397.000000     397.000000\n",
       "mean       22.314861    17.614610  113706.458438\n",
       "std        12.887003    13.006024   30289.038695\n",
       "min         1.000000     0.000000   57800.000000\n",
       "25%        12.000000     7.000000   91000.000000\n",
       "50%        21.000000    16.000000  107300.000000\n",
       "75%        32.000000    27.000000  134185.000000\n",
       "max        56.000000    60.000000  231545.000000"
      ]
     },
     "execution_count": 27,
     "metadata": {},
     "output_type": "execute_result"
    }
   ],
   "source": [
    "df.describe()"
   ]
  },
  {
   "cell_type": "code",
   "execution_count": 28,
   "id": "ff1392fd",
   "metadata": {},
   "outputs": [
    {
     "name": "stdout",
     "output_type": "stream",
     "text": [
      "diff 1 =  33200.0\n",
      "diff 2 =  16300.0\n",
      "diff 3 =  26885.0\n",
      "diff 4 =  97360.0\n"
     ]
    }
   ],
   "source": [
    "#first quartile - min\n",
    "print(\"diff 1 = \",91000.000000 - 57800.000000)\n",
    "#second quartile - first quartile\n",
    "print(\"diff 2 = \",107300.000000-91000.000000)\n",
    "#third quartile - second quartile\n",
    "print(\"diff 3 = \",134185.000000-107300.000000)\n",
    "#max - third quartile\n",
    "print(\"diff 4 = \",231545.000000-134185.000000)"
   ]
  },
  {
   "cell_type": "markdown",
   "id": "a7bd4464",
   "metadata": {},
   "source": [
    "Here the values are distinct, hence can be concluded that the data is not equally distributed"
   ]
  },
  {
   "cell_type": "code",
   "execution_count": 29,
   "id": "46af29e3",
   "metadata": {},
   "outputs": [
    {
     "data": {
      "text/plain": [
       "Text(0.5, 1.0, 'Variables summary')"
      ]
     },
     "execution_count": 29,
     "metadata": {},
     "output_type": "execute_result"
    },
    {
     "data": {
      "image/png": "[encoded data removed]",
      "text/plain": [
       "<Figure size 720x576 with 2 Axes>"
      ]
     },
     "metadata": {
      "needs_background": "light"
     },
     "output_type": "display_data"
    }
   ],
   "source": [
    "plt.figure(figsize=(10,8))\n",
    "sns.heatmap(round(df.describe()[1:].transpose(),2),linewidth=2,annot=True,fmt=\"f\")\n",
    "plt.xticks(fontsize=18)  #name of x axis to be displayed in fontsize of 18\n",
    "plt.yticks(fontsize=12)\n",
    "plt.title(\"Variables summary\")"
   ]
  },
  {
   "cell_type": "code",
   "execution_count": 30,
   "id": "9549ac45",
   "metadata": {},
   "outputs": [
    {
     "name": "stdout",
     "output_type": "stream",
     "text": [
      "<class 'pandas.core.frame.DataFrame'>\n",
      "RangeIndex: 397 entries, 0 to 396\n",
      "Data columns (total 6 columns):\n",
      " #   Column         Non-Null Count  Dtype \n",
      "---  ------         --------------  ----- \n",
      " 0   rank           397 non-null    object\n",
      " 1   discipline     397 non-null    object\n",
      " 2   yrs.since.phd  397 non-null    int64 \n",
      " 3   yrs.service    397 non-null    int64 \n",
      " 4   sex            397 non-null    object\n",
      " 5   salary         397 non-null    int64 \n",
      "dtypes: int64(3), object(3)\n",
      "memory usage: 18.7+ KB\n"
     ]
    }
   ],
   "source": [
    "df.info()  #gives info on dataframe"
   ]
  },
  {
   "cell_type": "markdown",
   "id": "7b491e56",
   "metadata": {},
   "source": [
    "# Outliners Checking"
   ]
  },
  {
   "cell_type": "code",
   "execution_count": 31,
   "id": "aa1a4ad4",
   "metadata": {},
   "outputs": [],
   "source": [
    "import warnings\n",
    "warnings.filterwarnings(\"ignore\")"
   ]
  },
  {
   "cell_type": "code",
   "execution_count": 32,
   "id": "d040a576",
   "metadata": {},
   "outputs": [
    {
     "data": {
      "text/plain": [
       "Index(['rank', 'discipline', 'yrs.since.phd', 'yrs.service', 'sex', 'salary'], dtype='object')"
      ]
     },
     "execution_count": 32,
     "metadata": {},
     "output_type": "execute_result"
    }
   ],
   "source": [
    "df.columns"
   ]
  },
  {
   "cell_type": "code",
   "execution_count": 33,
   "id": "66f1dfa9",
   "metadata": {},
   "outputs": [
    {
     "data": {
      "image/png": "[encoded data removed]",
      "text/plain": [
       "<Figure size 2160x6480 with 3 Axes>"
      ]
     },
     "metadata": {
      "needs_background": "light"
     },
     "output_type": "display_data"
    }
   ],
   "source": [
    "#As the data have categorical data, droping those columns for now\n",
    "df_ints = df.drop(['rank','discipline','sex'], axis=1)\n",
    "\n",
    "\n",
    "collist=df_ints.columns.values    #column names into collist\n",
    "ncol=30                           #no of columns 30\n",
    "nrows=14                          #no of columns 14\n",
    "plt.figure(figsize=(ncol,3*ncol))\n",
    "\n",
    "for i in range (0, len(collist)):\n",
    "    plt.subplot(nrows,ncol,i+1)\n",
    "    sns.boxplot(data = df[collist[i]],color='green',orient='v') #v represents the vertical orientation\n",
    "    plt.tight_layout()"
   ]
  },
  {
   "cell_type": "markdown",
   "id": "6fd4fb2d",
   "metadata": {},
   "source": [
    "Outliers are present in to fields"
   ]
  },
  {
   "cell_type": "markdown",
   "id": "2df43529",
   "metadata": {},
   "source": [
    "# Skewness"
   ]
  },
  {
   "cell_type": "code",
   "execution_count": 34,
   "id": "de20bd9c",
   "metadata": {},
   "outputs": [
    {
     "data": {
      "text/plain": [
       "yrs.since.phd    0.300880\n",
       "yrs.service      0.650569\n",
       "salary           0.714568\n",
       "dtype: float64"
      ]
     },
     "execution_count": 34,
     "metadata": {},
     "output_type": "execute_result"
    }
   ],
   "source": [
    "#Normal distribution has skewness = 0\n",
    "df.skew()"
   ]
  },
  {
   "cell_type": "markdown",
   "id": "bf61980f",
   "metadata": {},
   "source": [
    "Skewness is present here in all fields\n",
    "\n",
    "Hence skewness is present we need to remove it to make the data normally distributed"
   ]
  },
  {
   "cell_type": "code",
   "execution_count": 35,
   "id": "705bc41e",
   "metadata": {},
   "outputs": [
    {
     "data": {
      "text/plain": [
       "<AxesSubplot:xlabel='yrs.since.phd', ylabel='Density'>"
      ]
     },
     "execution_count": 35,
     "metadata": {},
     "output_type": "execute_result"
    },
    {
     "data": {
      "image/png": "[encoded data removed]",
      "text/plain": [
       "<Figure size 432x288 with 1 Axes>"
      ]
     },
     "metadata": {
      "needs_background": "light"
     },
     "output_type": "display_data"
    }
   ],
   "source": [
    "#Normal Distribution Curve\n",
    "#taking Normal distribution cure to confirm if the data is normally distributed or not\n",
    "\n",
    "sns.distplot(df['yrs.since.phd'])"
   ]
  },
  {
   "cell_type": "markdown",
   "id": "a40c6a48",
   "metadata": {},
   "source": [
    "The data of the column is not normalised. The building blocks is out of the normalised curve"
   ]
  },
  {
   "cell_type": "code",
   "execution_count": 36,
   "id": "020e431e",
   "metadata": {},
   "outputs": [
    {
     "data": {
      "text/plain": [
       "<AxesSubplot:xlabel='yrs.service', ylabel='Density'>"
      ]
     },
     "execution_count": 36,
     "metadata": {},
     "output_type": "execute_result"
    },
    {
     "data": {
      "image/png": "[encoded data removed]",
      "text/plain": [
       "<Figure size 432x288 with 1 Axes>"
      ]
     },
     "metadata": {
      "needs_background": "light"
     },
     "output_type": "display_data"
    }
   ],
   "source": [
    "sns.distplot(df['yrs.service'])"
   ]
  },
  {
   "cell_type": "code",
   "execution_count": 37,
   "id": "bac65d96",
   "metadata": {},
   "outputs": [
    {
     "data": {
      "text/plain": [
       "<AxesSubplot:xlabel='salary', ylabel='Density'>"
      ]
     },
     "execution_count": 37,
     "metadata": {},
     "output_type": "execute_result"
    },
    {
     "data": {
      "image/png": "[encoded data removed]",
      "text/plain": [
       "<Figure size 432x288 with 1 Axes>"
      ]
     },
     "metadata": {
      "needs_background": "light"
     },
     "output_type": "display_data"
    }
   ],
   "source": [
    "sns.distplot(df['salary'])"
   ]
  },
  {
   "cell_type": "markdown",
   "id": "00902c32",
   "metadata": {},
   "source": [
    "We initiate data cleansing technique to normalise the data as ML models performs well when the data is normalised"
   ]
  },
  {
   "cell_type": "markdown",
   "id": "c2c7e8be",
   "metadata": {},
   "source": [
    "Here we preprocess the data and get the data ready to pass it through ML algorithm"
   ]
  },
  {
   "cell_type": "code",
   "execution_count": 38,
   "id": "c286fabb",
   "metadata": {},
   "outputs": [
    {
     "data": {
      "text/plain": [
       "yrs.since.phd    0.419231\n",
       "yrs.service      0.334745\n",
       "salary           1.000000\n",
       "Name: salary, dtype: float64"
      ]
     },
     "execution_count": 38,
     "metadata": {},
     "output_type": "execute_result"
    }
   ],
   "source": [
    "df.corr()['salary']"
   ]
  },
  {
   "cell_type": "markdown",
   "id": "130de8a0",
   "metadata": {},
   "source": [
    "Removing Outliers:\n",
    "\n",
    "1.IQR proximity rule\n",
    "\n",
    "#in this we donot drop the outlier we just reassign the values of outliers\n",
    "\n",
    "2.Z-Score Technique:\n",
    "\n",
    "#in zscore we drop the outliers"
   ]
  },
  {
   "cell_type": "code",
   "execution_count": 39,
   "id": "0aaea7e4",
   "metadata": {},
   "outputs": [],
   "source": [
    "from scipy.stats import zscore"
   ]
  },
  {
   "cell_type": "code",
   "execution_count": 40,
   "id": "7836ec28",
   "metadata": {},
   "outputs": [
    {
     "data": {
      "text/plain": [
       "array([[-0.25754973,  0.02966908,  0.86091884],\n",
       "       [-0.17985426, -0.12429986,  1.96667226],\n",
       "       [-1.42298184, -1.12509795, -1.12249537],\n",
       "       ...,\n",
       "       [ 1.52944617,  0.56856036, -0.39564018],\n",
       "       [ 0.20862311, -0.20128433, -0.60750187],\n",
       "       [-1.11219995, -1.04811348, -1.08001725]])"
      ]
     },
     "execution_count": 40,
     "metadata": {},
     "output_type": "execute_result"
    }
   ],
   "source": [
    "zscore(df_ints)"
   ]
  },
  {
   "cell_type": "code",
   "execution_count": 41,
   "id": "a326f913",
   "metadata": {},
   "outputs": [
    {
     "data": {
      "text/plain": [
       "(397, 3)"
      ]
     },
     "execution_count": 41,
     "metadata": {},
     "output_type": "execute_result"
    }
   ],
   "source": [
    "import numpy as np\n",
    "z=np.abs(zscore(df_ints))\n",
    "z.shape"
   ]
  },
  {
   "cell_type": "code",
   "execution_count": 42,
   "id": "3b9ea343",
   "metadata": {},
   "outputs": [
    {
     "data": {
      "text/plain": [
       "array([[-0.25754973,  0.02966908,  0.86091884],\n",
       "       [-0.17985426, -0.12429986,  1.96667226],\n",
       "       [-1.42298184, -1.12509795, -1.12249537],\n",
       "       ...,\n",
       "       [ 1.52944617,  0.56856036, -0.39564018],\n",
       "       [ 0.20862311, -0.20128433, -0.60750187],\n",
       "       [-1.11219995, -1.04811348, -1.08001725]])"
      ]
     },
     "execution_count": 42,
     "metadata": {},
     "output_type": "execute_result"
    }
   ],
   "source": [
    "zscore(df_ints)"
   ]
  },
  {
   "cell_type": "code",
   "execution_count": 43,
   "id": "6ebdb3f0",
   "metadata": {},
   "outputs": [
    {
     "data": {
      "text/plain": [
       "array([[False, False, False],\n",
       "       [False, False, False],\n",
       "       [False, False, False],\n",
       "       ...,\n",
       "       [False, False, False],\n",
       "       [False, False, False],\n",
       "       [False, False, False]])"
      ]
     },
     "execution_count": 43,
     "metadata": {},
     "output_type": "execute_result"
    }
   ],
   "source": [
    "np.abs(zscore(df_ints))<0"
   ]
  },
  {
   "cell_type": "code",
   "execution_count": 44,
   "id": "d8249838",
   "metadata": {},
   "outputs": [
    {
     "data": {
      "text/plain": [
       "0"
      ]
     },
     "execution_count": 44,
     "metadata": {},
     "output_type": "execute_result"
    }
   ],
   "source": [
    "(np.abs(zscore(df_ints))<0).sum()"
   ]
  },
  {
   "cell_type": "code",
   "execution_count": 45,
   "id": "0a94c3c8",
   "metadata": {},
   "outputs": [
    {
     "data": {
      "text/plain": [
       "array([[0.25754973, 0.02966908, 0.86091884],\n",
       "       [0.17985426, 0.12429986, 1.96667226],\n",
       "       [1.42298184, 1.12509795, 1.12249537],\n",
       "       ...,\n",
       "       [1.52944617, 0.56856036, 0.39564018],\n",
       "       [0.20862311, 0.20128433, 0.60750187],\n",
       "       [1.11219995, 1.04811348, 1.08001725]])"
      ]
     },
     "execution_count": 45,
     "metadata": {},
     "output_type": "execute_result"
    }
   ],
   "source": [
    "z"
   ]
  },
  {
   "cell_type": "code",
   "execution_count": 46,
   "id": "4d603500",
   "metadata": {},
   "outputs": [
    {
     "name": "stdout",
     "output_type": "stream",
     "text": [
      "(array([  6,   7,  43,  71,  77, 125, 125, 131, 131, 161, 169, 190, 194,\n",
      "       198, 249, 261, 268, 271, 276, 276, 279, 282, 282, 285, 285, 290,\n",
      "       292, 298, 304, 317, 330, 330, 330, 350, 350, 350, 356, 364, 383,\n",
      "       389], dtype=int64), array([2, 1, 2, 1, 2, 0, 1, 0, 1, 2, 2, 2, 1, 2, 2, 1, 1, 2, 0, 1, 1, 0,\n",
      "       1, 0, 1, 2, 2, 0, 1, 1, 0, 1, 2, 0, 1, 2, 0, 2, 1, 2], dtype=int64))\n"
     ]
    }
   ],
   "source": [
    "#taking threshold as 3\n",
    "#and finding which postitions have outliers\n",
    "print(np.where(z>2))"
   ]
  },
  {
   "cell_type": "code",
   "execution_count": 47,
   "id": "a874e88c",
   "metadata": {},
   "outputs": [
    {
     "data": {
      "text/plain": [
       "yrs.since.phd        45\n",
       "yrs.service          45\n",
       "salary           107550\n",
       "Name: 261, dtype: int64"
      ]
     },
     "execution_count": 47,
     "metadata": {},
     "output_type": "execute_result"
    }
   ],
   "source": [
    "df_ints.iloc[261]"
   ]
  },
  {
   "cell_type": "code",
   "execution_count": 48,
   "id": "660b3e14",
   "metadata": {},
   "outputs": [
    {
     "data": {
      "text/plain": [
       "40"
      ]
     },
     "execution_count": 48,
     "metadata": {},
     "output_type": "execute_result"
    }
   ],
   "source": [
    "#calculation total num of outliers\n",
    "len(np.where(z>2)[0])"
   ]
  },
  {
   "cell_type": "code",
   "execution_count": 49,
   "id": "65d20f9a",
   "metadata": {},
   "outputs": [
    {
     "data": {
      "text/html": [
       "<div>\n",
       "<style scoped>\n",
       "    .dataframe tbody tr th:only-of-type {\n",
       "        vertical-align: middle;\n",
       "    }\n",
       "\n",
       "    .dataframe tbody tr th {\n",
       "        vertical-align: top;\n",
       "    }\n",
       "\n",
       "    .dataframe thead th {\n",
       "        text-align: right;\n",
       "    }\n",
       "</style>\n",
       "<table border=\"1\" class=\"dataframe\">\n",
       "  <thead>\n",
       "    <tr style=\"text-align: right;\">\n",
       "      <th></th>\n",
       "      <th>yrs.since.phd</th>\n",
       "      <th>yrs.service</th>\n",
       "      <th>salary</th>\n",
       "    </tr>\n",
       "  </thead>\n",
       "  <tbody>\n",
       "    <tr>\n",
       "      <th>0</th>\n",
       "      <td>19</td>\n",
       "      <td>18</td>\n",
       "      <td>139750</td>\n",
       "    </tr>\n",
       "    <tr>\n",
       "      <th>1</th>\n",
       "      <td>20</td>\n",
       "      <td>16</td>\n",
       "      <td>173200</td>\n",
       "    </tr>\n",
       "    <tr>\n",
       "      <th>2</th>\n",
       "      <td>4</td>\n",
       "      <td>3</td>\n",
       "      <td>79750</td>\n",
       "    </tr>\n",
       "    <tr>\n",
       "      <th>3</th>\n",
       "      <td>45</td>\n",
       "      <td>39</td>\n",
       "      <td>115000</td>\n",
       "    </tr>\n",
       "    <tr>\n",
       "      <th>4</th>\n",
       "      <td>40</td>\n",
       "      <td>41</td>\n",
       "      <td>141500</td>\n",
       "    </tr>\n",
       "    <tr>\n",
       "      <th>...</th>\n",
       "      <td>...</td>\n",
       "      <td>...</td>\n",
       "      <td>...</td>\n",
       "    </tr>\n",
       "    <tr>\n",
       "      <th>392</th>\n",
       "      <td>33</td>\n",
       "      <td>30</td>\n",
       "      <td>103106</td>\n",
       "    </tr>\n",
       "    <tr>\n",
       "      <th>393</th>\n",
       "      <td>31</td>\n",
       "      <td>19</td>\n",
       "      <td>150564</td>\n",
       "    </tr>\n",
       "    <tr>\n",
       "      <th>394</th>\n",
       "      <td>42</td>\n",
       "      <td>25</td>\n",
       "      <td>101738</td>\n",
       "    </tr>\n",
       "    <tr>\n",
       "      <th>395</th>\n",
       "      <td>25</td>\n",
       "      <td>15</td>\n",
       "      <td>95329</td>\n",
       "    </tr>\n",
       "    <tr>\n",
       "      <th>396</th>\n",
       "      <td>8</td>\n",
       "      <td>4</td>\n",
       "      <td>81035</td>\n",
       "    </tr>\n",
       "  </tbody>\n",
       "</table>\n",
       "<p>366 rows × 3 columns</p>\n",
       "</div>"
      ],
      "text/plain": [
       "     yrs.since.phd  yrs.service  salary\n",
       "0               19           18  139750\n",
       "1               20           16  173200\n",
       "2                4            3   79750\n",
       "3               45           39  115000\n",
       "4               40           41  141500\n",
       "..             ...          ...     ...\n",
       "392             33           30  103106\n",
       "393             31           19  150564\n",
       "394             42           25  101738\n",
       "395             25           15   95329\n",
       "396              8            4   81035\n",
       "\n",
       "[366 rows x 3 columns]"
      ]
     },
     "execution_count": 49,
     "metadata": {},
     "output_type": "execute_result"
    }
   ],
   "source": [
    "#dropping the rows with outliers\n",
    "df_ints.drop([  6,   7,  43,  71,  77, 125, 125, 131, 131, 161, 169, 190, 194,\n",
    "       198, 249, 261, 268, 271, 276, 276, 279, 282, 282, 285, 285, 290,\n",
    "       292, 298, 304, 317, 330, 330, 330, 350, 350, 350, 356, 364, 383,\n",
    "       389])"
   ]
  },
  {
   "cell_type": "code",
   "execution_count": 50,
   "id": "36d59a44",
   "metadata": {},
   "outputs": [
    {
     "name": "stdout",
     "output_type": "stream",
     "text": [
      "7.8085642317380355 %\n"
     ]
    }
   ],
   "source": [
    "#Percentage of data loss\n",
    "loss_percent=(397-366)/397*100\n",
    "print(loss_percent,'%')"
   ]
  },
  {
   "cell_type": "markdown",
   "id": "142f1151",
   "metadata": {},
   "source": [
    "Splitting dataframe into two"
   ]
  },
  {
   "cell_type": "code",
   "execution_count": 52,
   "id": "212712af",
   "metadata": {},
   "outputs": [
    {
     "data": {
      "text/html": [
       "<div>\n",
       "<style scoped>\n",
       "    .dataframe tbody tr th:only-of-type {\n",
       "        vertical-align: middle;\n",
       "    }\n",
       "\n",
       "    .dataframe tbody tr th {\n",
       "        vertical-align: top;\n",
       "    }\n",
       "\n",
       "    .dataframe thead th {\n",
       "        text-align: right;\n",
       "    }\n",
       "</style>\n",
       "<table border=\"1\" class=\"dataframe\">\n",
       "  <thead>\n",
       "    <tr style=\"text-align: right;\">\n",
       "      <th></th>\n",
       "      <th>yrs.since.phd</th>\n",
       "      <th>yrs.service</th>\n",
       "      <th>salary</th>\n",
       "    </tr>\n",
       "  </thead>\n",
       "  <tbody>\n",
       "    <tr>\n",
       "      <th>0</th>\n",
       "      <td>19</td>\n",
       "      <td>18</td>\n",
       "      <td>139750</td>\n",
       "    </tr>\n",
       "    <tr>\n",
       "      <th>1</th>\n",
       "      <td>20</td>\n",
       "      <td>16</td>\n",
       "      <td>173200</td>\n",
       "    </tr>\n",
       "    <tr>\n",
       "      <th>2</th>\n",
       "      <td>4</td>\n",
       "      <td>3</td>\n",
       "      <td>79750</td>\n",
       "    </tr>\n",
       "    <tr>\n",
       "      <th>3</th>\n",
       "      <td>45</td>\n",
       "      <td>39</td>\n",
       "      <td>115000</td>\n",
       "    </tr>\n",
       "    <tr>\n",
       "      <th>4</th>\n",
       "      <td>40</td>\n",
       "      <td>41</td>\n",
       "      <td>141500</td>\n",
       "    </tr>\n",
       "    <tr>\n",
       "      <th>...</th>\n",
       "      <td>...</td>\n",
       "      <td>...</td>\n",
       "      <td>...</td>\n",
       "    </tr>\n",
       "    <tr>\n",
       "      <th>392</th>\n",
       "      <td>33</td>\n",
       "      <td>30</td>\n",
       "      <td>103106</td>\n",
       "    </tr>\n",
       "    <tr>\n",
       "      <th>393</th>\n",
       "      <td>31</td>\n",
       "      <td>19</td>\n",
       "      <td>150564</td>\n",
       "    </tr>\n",
       "    <tr>\n",
       "      <th>394</th>\n",
       "      <td>42</td>\n",
       "      <td>25</td>\n",
       "      <td>101738</td>\n",
       "    </tr>\n",
       "    <tr>\n",
       "      <th>395</th>\n",
       "      <td>25</td>\n",
       "      <td>15</td>\n",
       "      <td>95329</td>\n",
       "    </tr>\n",
       "    <tr>\n",
       "      <th>396</th>\n",
       "      <td>8</td>\n",
       "      <td>4</td>\n",
       "      <td>81035</td>\n",
       "    </tr>\n",
       "  </tbody>\n",
       "</table>\n",
       "<p>397 rows × 3 columns</p>\n",
       "</div>"
      ],
      "text/plain": [
       "     yrs.since.phd  yrs.service  salary\n",
       "0               19           18  139750\n",
       "1               20           16  173200\n",
       "2                4            3   79750\n",
       "3               45           39  115000\n",
       "4               40           41  141500\n",
       "..             ...          ...     ...\n",
       "392             33           30  103106\n",
       "393             31           19  150564\n",
       "394             42           25  101738\n",
       "395             25           15   95329\n",
       "396              8            4   81035\n",
       "\n",
       "[397 rows x 3 columns]"
      ]
     },
     "execution_count": 52,
     "metadata": {},
     "output_type": "execute_result"
    }
   ],
   "source": [
    "df_ints"
   ]
  },
  {
   "cell_type": "code",
   "execution_count": 56,
   "id": "9bcc452f",
   "metadata": {},
   "outputs": [],
   "source": [
    "#independent column\n",
    "x=df_ints.iloc[:,:-1]   #taking all columns without target column\n",
    "\n",
    "#target column\n",
    "y=df_ints.iloc[:,-1]  #taking only target column"
   ]
  },
  {
   "cell_type": "code",
   "execution_count": 57,
   "id": "6571102f",
   "metadata": {},
   "outputs": [],
   "source": [
    "from sklearn.preprocessing import power_transform\n",
    "x=power_transform(x,method='yeo-johnson')"
   ]
  },
  {
   "cell_type": "code",
   "execution_count": 58,
   "id": "ec036b3d",
   "metadata": {},
   "outputs": [
    {
     "data": {
      "text/plain": [
       "array([[-0.12729454,  0.25061906],\n",
       "       [-0.04917821,  0.10511199],\n",
       "       [-1.62812069, -1.28803213],\n",
       "       [ 1.56516174,  1.41686049],\n",
       "       [ 1.27968007,  1.50652442],\n",
       "       [-1.36662747, -0.84489671],\n",
       "       [ 0.6608523 ,  0.57885447],\n",
       "       [ 1.56516174,  1.67860196],\n",
       "       [ 0.02740154,  0.38737753],\n",
       "       [-0.20705755,  0.25061906],\n",
       "       [-0.7285818 , -0.61009389],\n",
       "       [-1.24777483, -1.47901149],\n",
       "       [-2.12747058, -1.71247338],\n",
       "       [-1.9388819 , -2.03140174],\n",
       "       [-0.04917821,  0.25061906],\n",
       "       [-0.7285818 , -1.28803213],\n",
       "       [-0.12729454,  0.38737753],\n",
       "       [ 1.16145363,  1.18049073],\n",
       "       [ 1.10139339,  0.57885447],\n",
       "       [ 1.22087502,  1.27727883],\n",
       "       [ 0.72615521,  0.75672565],\n",
       "       [ 1.04067034,  1.02900708],\n",
       "       [ 0.91713196,  0.9766667 ],\n",
       "       [ 0.24885274,  0.32000337],\n",
       "       [-0.63559362, -0.61009389],\n",
       "       [ 0.02740154, -0.61009389],\n",
       "       [ 0.97925895,  0.57885447],\n",
       "       [-1.49280671, -1.28803213],\n",
       "       [-0.82460482, -2.03140174],\n",
       "       [-0.7285818 , -0.61009389],\n",
       "       [-0.04917821, -1.12348349],\n",
       "       [-1.24777483, -1.47901149],\n",
       "       [-0.63559362, -0.50418335],\n",
       "       [-1.62812069, -1.47901149],\n",
       "       [-1.62812069, -1.47901149],\n",
       "       [-1.49280671, -2.03140174],\n",
       "       [ 0.10254283,  0.45289152],\n",
       "       [-1.24777483, -1.12348349],\n",
       "       [ 1.33789   ,  1.02900708],\n",
       "       [-1.02729947, -0.50418335],\n",
       "       [ 0.17633353, -1.47901149],\n",
       "       [ 0.17633353,  0.57885447],\n",
       "       [ 1.27968007,  0.81341501],\n",
       "       [ 1.16145363,  1.37103882],\n",
       "       [-0.12729454,  0.32000337],\n",
       "       [ 0.32017198,  0.02856739],\n",
       "       [ 1.27968007,  0.86892664],\n",
       "       [ 0.17633353,  0.32000337],\n",
       "       [ 0.32017198,  0.69878852],\n",
       "       [-2.12747058, -1.71247338],\n",
       "       [ 0.52755074,  0.86892664],\n",
       "       [-0.7285818 , -0.30968068],\n",
       "       [-0.82460482, -1.28803213],\n",
       "       [-0.37203759, -0.50418335],\n",
       "       [-0.7285818 , -0.30968068],\n",
       "       [-0.54533709, -0.97733271],\n",
       "       [ 0.17633353,  0.45289152],\n",
       "       [-1.02729947, -0.61009389],\n",
       "       [-0.92402816, -0.50418335],\n",
       "       [-1.13497737, -1.28803213],\n",
       "       [-1.02729947, -0.61009389],\n",
       "       [-1.77530463, -1.47901149],\n",
       "       [ 0.85426022,  1.02900708],\n",
       "       [-0.82460482, -0.30968068],\n",
       "       [-1.62812069, -1.28803213],\n",
       "       [-1.02729947, -0.61009389],\n",
       "       [ 0.10254283, -0.21956133],\n",
       "       [ 0.97925895,  1.02900708],\n",
       "       [-0.2885915 ,  0.17905385],\n",
       "       [ 0.52755074,  1.27727883],\n",
       "       [-0.2885915 , -1.47901149],\n",
       "       [ 1.56516174,  1.67860196],\n",
       "       [ 0.59466485,  0.32000337],\n",
       "       [ 0.97925895,  1.18049073],\n",
       "       [ 0.52755074,  0.57885447],\n",
       "       [-1.13497737, -1.28803213],\n",
       "       [-0.2885915 , -1.28803213],\n",
       "       [ 0.39035614,  0.32000337],\n",
       "       [-1.77530463, -1.71247338],\n",
       "       [-1.36662747, -1.47901149],\n",
       "       [ 1.45260325,  0.86892664],\n",
       "       [-0.2885915 ,  0.10511199],\n",
       "       [ 0.10254283,  0.38737753],\n",
       "       [-1.36662747, -1.47901149],\n",
       "       [-0.2885915 ,  0.25061906],\n",
       "       [-0.45755735, -0.05084337],\n",
       "       [ 1.10139339,  1.32452137],\n",
       "       [-1.9388819 , -1.47901149],\n",
       "       [ 0.32017198,  0.69878852],\n",
       "       [-1.02729947, -0.72317056],\n",
       "       [-0.92402816, -0.97733271],\n",
       "       [-0.92402816, -0.72317056],\n",
       "       [-0.92402816, -0.72317056],\n",
       "       [ 1.16145363,  1.37103882],\n",
       "       [ 0.02740154,  0.38737753],\n",
       "       [-1.62812069, -2.03140174],\n",
       "       [-0.2885915 , -0.21956133],\n",
       "       [-0.63559362, -0.72317056],\n",
       "       [ 0.6608523 , -0.05084337],\n",
       "       [ 1.33789   ,  0.75672565],\n",
       "       [ 1.39552477,  0.69878852],\n",
       "       [ 0.52755074,  0.57885447],\n",
       "       [-0.37203759, -0.97733271],\n",
       "       [-0.04917821, -0.05084337],\n",
       "       [-0.20705755, -0.4043302 ],\n",
       "       [ 0.72615521,  0.86892664],\n",
       "       [-0.82460482, -0.61009389],\n",
       "       [-0.92402816, -0.61009389],\n",
       "       [-0.45755735, -0.61009389],\n",
       "       [ 1.27968007,  1.02900708],\n",
       "       [-0.04917821,  0.10511199],\n",
       "       [-0.12729454,  0.10511199],\n",
       "       [-1.77530463, -1.71247338],\n",
       "       [ 1.10139339,  1.32452137],\n",
       "       [-0.7285818 , -2.03140174],\n",
       "       [ 0.02740154, -0.50418335],\n",
       "       [ 0.6608523 ,  0.92332441],\n",
       "       [ 1.22087502,  1.27727883],\n",
       "       [-1.62812069, -1.71247338],\n",
       "       [-1.49280671, -1.28803213],\n",
       "       [-0.54533709, -0.05084337],\n",
       "       [ 0.79061248,  1.08039482],\n",
       "       [ 0.24885274,  0.51667789],\n",
       "       [ 0.32017198,  0.51667789],\n",
       "       [ 0.24885274,  0.51667789],\n",
       "       [ 2.04825083,  1.8420933 ],\n",
       "       [ 0.52755074,  0.75672565],\n",
       "       [-1.9388819 , -2.03140174],\n",
       "       [ 0.79061248,  0.9766667 ],\n",
       "       [-1.62812069, -1.47901149],\n",
       "       [-0.82460482, -0.50418335],\n",
       "       [ 2.15099702,  2.14738717],\n",
       "       [-0.92402816, -0.61009389],\n",
       "       [-1.77530463, -1.71247338],\n",
       "       [ 0.97925895,  0.69878852],\n",
       "       [-0.04917821,  0.25061906],\n",
       "       [-0.37203759, -0.05084337],\n",
       "       [-0.2885915 , -0.05084337],\n",
       "       [-0.92402816, -0.72317056],\n",
       "       [ 0.02740154,  0.25061906],\n",
       "       [-0.54533709, -0.61009389],\n",
       "       [-0.45755735, -0.4043302 ],\n",
       "       [-0.12729454, -0.30968068],\n",
       "       [-1.77530463, -1.28803213],\n",
       "       [ 0.45946437,  0.81341501],\n",
       "       [ 0.52755074,  0.86892664],\n",
       "       [-1.62812069, -1.12348349],\n",
       "       [ 0.45946437,  0.81341501],\n",
       "       [ 1.04067034,  0.75672565],\n",
       "       [-1.62812069, -1.28803213],\n",
       "       [-0.54533709, -0.21956133],\n",
       "       [-1.62812069, -1.12348349],\n",
       "       [ 0.02740154, -0.50418335],\n",
       "       [-0.7285818 , -0.4043302 ],\n",
       "       [-1.62812069, -2.03140174],\n",
       "       [ 0.02740154,  0.45289152],\n",
       "       [-0.7285818 ,  0.25061906],\n",
       "       [-2.12747058, -2.03140174],\n",
       "       [-1.36662747, -0.84489671],\n",
       "       [-0.45755735,  0.10511199],\n",
       "       [-1.9388819 , -1.47901149],\n",
       "       [ 0.39035614,  0.32000337],\n",
       "       [ 0.10254283, -0.72317056],\n",
       "       [-1.77530463, -1.28803213],\n",
       "       [-2.12747058, -2.03140174],\n",
       "       [ 0.02740154, -0.61009389],\n",
       "       [-0.37203759,  0.10511199],\n",
       "       [-0.20705755,  0.32000337],\n",
       "       [-1.13497737, -0.84489671],\n",
       "       [ 0.32017198,  0.25061906],\n",
       "       [-1.49280671, -0.97733271],\n",
       "       [-0.12729454,  0.32000337],\n",
       "       [ 1.10139339,  0.63952652],\n",
       "       [-0.04917821,  0.38737753],\n",
       "       [-0.2885915 , -0.84489671],\n",
       "       [ 0.52755074,  0.69878852],\n",
       "       [-0.92402816, -0.72317056],\n",
       "       [-0.63559362, -0.50418335],\n",
       "       [ 0.45946437, -0.05084337],\n",
       "       [-1.77530463, -1.28803213],\n",
       "       [-0.82460482, -0.30968068],\n",
       "       [-0.20705755, -0.97733271],\n",
       "       [-1.13497737, -0.61009389],\n",
       "       [ 0.39035614,  0.51667789],\n",
       "       [ 0.17633353,  0.57885447],\n",
       "       [ 0.85426022,  0.9766667 ],\n",
       "       [-0.63559362, -0.4043302 ],\n",
       "       [-0.20705755, -0.4043302 ],\n",
       "       [ 0.52755074,  0.86892664],\n",
       "       [ 0.32017198,  0.32000337],\n",
       "       [ 0.10254283, -0.50418335],\n",
       "       [ 1.45260325,  0.51667789],\n",
       "       [-0.12729454,  0.25061906],\n",
       "       [-0.12729454,  0.32000337],\n",
       "       [ 1.73024362,  1.99806608],\n",
       "       [-1.02729947, -0.72317056],\n",
       "       [-1.62812069, -1.12348349],\n",
       "       [-1.62812069, -1.12348349],\n",
       "       [ 0.91713196,  1.13087536],\n",
       "       [ 1.16145363,  0.51667789],\n",
       "       [-1.62812069, -1.12348349],\n",
       "       [ 1.27968007,  1.46201379],\n",
       "       [ 0.52755074,  0.17905385],\n",
       "       [-0.2885915 ,  0.17905385],\n",
       "       [-0.12729454, -0.97733271],\n",
       "       [ 0.02740154, -1.47901149],\n",
       "       [ 0.97925895,  1.13087536],\n",
       "       [-0.20705755,  0.25061906],\n",
       "       [-1.24777483, -1.47901149],\n",
       "       [-0.04917821,  0.38737753],\n",
       "       [-1.62812069, -1.28803213],\n",
       "       [ 1.22087502,  1.41686049],\n",
       "       [-0.45755735, -0.72317056],\n",
       "       [ 0.39035614,  0.32000337],\n",
       "       [-0.82460482, -1.71247338],\n",
       "       [-0.37203759, -0.30968068],\n",
       "       [-0.45755735, -0.30968068],\n",
       "       [ 0.59466485,  0.51667789],\n",
       "       [-0.54533709, -0.72317056],\n",
       "       [-0.63559362, -0.30968068],\n",
       "       [ 0.02740154,  0.45289152],\n",
       "       [ 0.17633353, -0.4043302 ],\n",
       "       [-0.63559362, -0.84489671],\n",
       "       [ 0.91713196,  0.38737753],\n",
       "       [ 1.16145363,  1.22927983],\n",
       "       [-0.04917821,  0.38737753],\n",
       "       [-1.77530463, -1.71247338],\n",
       "       [-1.02729947, -0.72317056],\n",
       "       [-0.37203759, -0.30968068],\n",
       "       [ 1.22087502,  1.37103882],\n",
       "       [ 0.59466485,  0.81341501],\n",
       "       [ 0.39035614,  0.63952652],\n",
       "       [ 1.16145363,  0.32000337],\n",
       "       [ 1.04067034,  0.32000337],\n",
       "       [-1.13497737, -1.28803213],\n",
       "       [ 0.52755074,  0.17905385],\n",
       "       [ 0.32017198,  0.69878852],\n",
       "       [-1.24777483, -0.84489671],\n",
       "       [ 1.62067463,  1.46201379],\n",
       "       [-0.12729454, -0.84489671],\n",
       "       [-1.49280671, -1.28803213],\n",
       "       [ 0.72615521,  0.9766667 ],\n",
       "       [ 1.16145363,  1.32452137],\n",
       "       [ 0.17633353,  0.57885447],\n",
       "       [-0.12729454,  0.57885447],\n",
       "       [-0.2885915 , -0.30968068],\n",
       "       [ 0.6608523 ,  0.57885447],\n",
       "       [ 0.02740154,  0.25061906],\n",
       "       [ 0.52755074,  0.57885447],\n",
       "       [ 0.59466485, -0.72317056],\n",
       "       [ 1.22087502,  1.41686049],\n",
       "       [-0.04917821, -0.61009389],\n",
       "       [ 0.72615521, -0.21956133],\n",
       "       [-1.62812069, -1.47901149],\n",
       "       [ 0.52755074, -0.72317056],\n",
       "       [-0.7285818 , -0.61009389],\n",
       "       [ 0.10254283,  0.51667789],\n",
       "       [ 0.6608523 ,  0.57885447],\n",
       "       [-1.02729947, -1.28803213],\n",
       "       [ 0.79061248,  0.9766667 ],\n",
       "       [ 1.33789   ,  1.13087536],\n",
       "       [ 1.56516174,  1.67860196],\n",
       "       [ 0.72615521,  0.75672565],\n",
       "       [ 0.72615521,  1.02900708],\n",
       "       [ 1.10139339,  1.22927983],\n",
       "       [ 1.04067034,  0.9766667 ],\n",
       "       [ 1.45260325,  1.59371278],\n",
       "       [-0.54533709, -0.4043302 ],\n",
       "       [ 1.67569711,  1.63643454],\n",
       "       [-0.63559362, -0.72317056],\n",
       "       [ 1.39552477,  1.46201379],\n",
       "       [ 1.39552477,  0.25061906],\n",
       "       [-1.62812069, -1.71247338],\n",
       "       [-1.13497737, -1.12348349],\n",
       "       [-1.13497737, -1.28803213],\n",
       "       [-0.7285818 , -0.84489671],\n",
       "       [ 1.94393433,  1.80196315],\n",
       "       [ 0.72615521,  0.81341501],\n",
       "       [ 0.24885274,  0.25061906],\n",
       "       [ 1.62067463,  1.72023405],\n",
       "       [ 1.22087502,  1.37103882],\n",
       "       [ 1.10139339,  0.81341501],\n",
       "       [ 1.89116106,  1.92096128],\n",
       "       [ 1.56516174,  1.59371278],\n",
       "       [-1.13497737, -0.84489671],\n",
       "       [ 1.78432784,  1.8420933 ],\n",
       "       [ 0.52755074,  0.81341501],\n",
       "       [-1.9388819 , -2.03140174],\n",
       "       [ 0.59466485,  0.81341501],\n",
       "       [-1.13497737, -0.97733271],\n",
       "       [ 0.85426022, -0.72317056],\n",
       "       [ 0.79061248,  0.86892664],\n",
       "       [ 1.22087502, -0.50418335],\n",
       "       [-0.82460482, -1.71247338],\n",
       "       [-0.12729454, -0.72317056],\n",
       "       [ 1.27968007,  1.27727883],\n",
       "       [-0.20705755,  0.25061906],\n",
       "       [-0.2885915 , -0.30968068],\n",
       "       [ 1.78432784,  1.59371278],\n",
       "       [ 1.56516174,  1.41686049],\n",
       "       [ 1.22087502,  1.27727883],\n",
       "       [ 0.45946437,  0.10511199],\n",
       "       [ 0.52755074, -0.13343012],\n",
       "       [-0.54533709, -1.12348349],\n",
       "       [ 1.62067463,  1.63643454],\n",
       "       [ 0.85426022,  1.02900708],\n",
       "       [-1.24777483, -1.12348349],\n",
       "       [ 0.72615521,  0.86892664],\n",
       "       [-1.49280671, -2.03140174],\n",
       "       [ 0.10254283,  0.02856739],\n",
       "       [-0.04917821, -0.72317056],\n",
       "       [-0.54533709, -0.50418335],\n",
       "       [ 0.59466485,  0.32000337],\n",
       "       [ 0.97925895,  1.22927983],\n",
       "       [ 0.10254283, -0.84489671],\n",
       "       [-1.36662747, -1.28803213],\n",
       "       [-0.7285818 , -0.50418335],\n",
       "       [ 1.62067463,  1.67860196],\n",
       "       [-0.37203759,  0.10511199],\n",
       "       [-0.37203759,  0.02856739],\n",
       "       [ 0.24885274,  0.57885447],\n",
       "       [-1.02729947, -0.50418335],\n",
       "       [-0.63559362, -0.30968068],\n",
       "       [ 0.24885274,  0.02856739],\n",
       "       [ 0.6608523 ,  1.02900708],\n",
       "       [-1.13497737, -1.12348349],\n",
       "       [ 0.17633353,  0.02856739],\n",
       "       [ 1.10139339,  1.32452137],\n",
       "       [-0.92402816, -0.4043302 ],\n",
       "       [ 0.17633353,  0.57885447],\n",
       "       [ 1.78432784,  2.25544755],\n",
       "       [-0.04917821, -0.50418335],\n",
       "       [-0.20705755, -0.4043302 ],\n",
       "       [ 0.85426022,  0.32000337],\n",
       "       [-0.12729454, -0.84489671],\n",
       "       [ 1.04067034,  1.37103882],\n",
       "       [ 0.97925895,  0.57885447],\n",
       "       [-0.63559362, -0.21956133],\n",
       "       [ 0.79061248,  0.69878852],\n",
       "       [ 1.10139339,  0.02856739],\n",
       "       [-0.63559362, -0.30968068],\n",
       "       [-0.2885915 ,  0.17905385],\n",
       "       [ 1.16145363,  1.37103882],\n",
       "       [ 0.72615521,  1.02900708],\n",
       "       [ 0.79061248,  1.22927983],\n",
       "       [-0.45755735, -0.4043302 ],\n",
       "       [ 1.33789   ,  0.81341501],\n",
       "       [ 1.22087502,  1.13087536],\n",
       "       [-1.62812069, -1.28803213],\n",
       "       [ 0.45946437,  0.86892664],\n",
       "       [ 2.15099702,  1.8420933 ],\n",
       "       [ 1.16145363,  1.37103882],\n",
       "       [ 0.39035614,  0.81341501],\n",
       "       [ 0.10254283,  0.38737753],\n",
       "       [-1.13497737, -1.71247338],\n",
       "       [ 0.32017198,  0.45289152],\n",
       "       [ 1.78432784,  1.46201379],\n",
       "       [ 1.22087502,  1.22927983],\n",
       "       [ 0.52755074, -0.05084337],\n",
       "       [-0.82460482, -1.12348349],\n",
       "       [-0.54533709, -0.30968068],\n",
       "       [ 0.17633353,  0.02856739],\n",
       "       [ 0.6608523 ,  0.9766667 ],\n",
       "       [-0.04917821,  0.17905385],\n",
       "       [ 1.45260325,  1.59371278],\n",
       "       [ 1.45260325,  1.46201379],\n",
       "       [-0.45755735, -0.4043302 ],\n",
       "       [-0.92402816, -1.71247338],\n",
       "       [ 0.97925895,  0.9766667 ],\n",
       "       [ 0.85426022,  1.02900708],\n",
       "       [-0.63559362, -0.61009389],\n",
       "       [ 0.17633353,  0.38737753],\n",
       "       [-0.7285818 , -0.72317056],\n",
       "       [ 0.6608523 ,  0.75672565],\n",
       "       [ 0.45946437,  0.32000337],\n",
       "       [ 0.52755074,  0.75672565],\n",
       "       [-1.62812069, -1.71247338],\n",
       "       [-1.36662747, -1.28803213],\n",
       "       [ 1.16145363,  1.37103882],\n",
       "       [-0.82460482, -0.61009389],\n",
       "       [-1.13497737, -1.28803213],\n",
       "       [ 0.45946437,  0.57885447],\n",
       "       [-1.13497737, -0.97733271],\n",
       "       [ 1.50914328,  1.63643454],\n",
       "       [ 0.45946437,  0.45289152],\n",
       "       [-0.45755735, -0.50418335],\n",
       "       [ 0.59466485,  0.81341501],\n",
       "       [ 0.59466485,  0.02856739],\n",
       "       [ 1.16145363,  1.27727883],\n",
       "       [ 0.85426022,  0.25061906],\n",
       "       [ 1.27968007,  0.32000337],\n",
       "       [ 0.6608523 ,  0.32000337],\n",
       "       [ 0.85426022,  0.9766667 ],\n",
       "       [ 0.72615521,  0.32000337],\n",
       "       [ 1.39552477,  0.69878852],\n",
       "       [ 0.32017198,  0.02856739],\n",
       "       [-1.13497737, -1.12348349]])"
      ]
     },
     "execution_count": 58,
     "metadata": {},
     "output_type": "execute_result"
    }
   ],
   "source": [
    "x"
   ]
  },
  {
   "cell_type": "code",
   "execution_count": 59,
   "id": "7d7e6ff0",
   "metadata": {},
   "outputs": [
    {
     "data": {
      "text/plain": [
       "array([[-0.12729454,  0.25061906],\n",
       "       [-0.04917821,  0.10511199],\n",
       "       [-1.62812069, -1.28803213],\n",
       "       [ 1.56516174,  1.41686049],\n",
       "       [ 1.27968007,  1.50652442],\n",
       "       [-1.36662747, -0.84489671],\n",
       "       [ 0.6608523 ,  0.57885447],\n",
       "       [ 1.56516174,  1.67860196],\n",
       "       [ 0.02740154,  0.38737753],\n",
       "       [-0.20705755,  0.25061906],\n",
       "       [-0.7285818 , -0.61009389],\n",
       "       [-1.24777483, -1.47901149],\n",
       "       [-2.12747058, -1.71247338],\n",
       "       [-1.9388819 , -2.03140174],\n",
       "       [-0.04917821,  0.25061906],\n",
       "       [-0.7285818 , -1.28803213],\n",
       "       [-0.12729454,  0.38737753],\n",
       "       [ 1.16145363,  1.18049073],\n",
       "       [ 1.10139339,  0.57885447],\n",
       "       [ 1.22087502,  1.27727883],\n",
       "       [ 0.72615521,  0.75672565],\n",
       "       [ 1.04067034,  1.02900708],\n",
       "       [ 0.91713196,  0.9766667 ],\n",
       "       [ 0.24885274,  0.32000337],\n",
       "       [-0.63559362, -0.61009389],\n",
       "       [ 0.02740154, -0.61009389],\n",
       "       [ 0.97925895,  0.57885447],\n",
       "       [-1.49280671, -1.28803213],\n",
       "       [-0.82460482, -2.03140174],\n",
       "       [-0.7285818 , -0.61009389],\n",
       "       [-0.04917821, -1.12348349],\n",
       "       [-1.24777483, -1.47901149],\n",
       "       [-0.63559362, -0.50418335],\n",
       "       [-1.62812069, -1.47901149],\n",
       "       [-1.62812069, -1.47901149],\n",
       "       [-1.49280671, -2.03140174],\n",
       "       [ 0.10254283,  0.45289152],\n",
       "       [-1.24777483, -1.12348349],\n",
       "       [ 1.33789   ,  1.02900708],\n",
       "       [-1.02729947, -0.50418335],\n",
       "       [ 0.17633353, -1.47901149],\n",
       "       [ 0.17633353,  0.57885447],\n",
       "       [ 1.27968007,  0.81341501],\n",
       "       [ 1.16145363,  1.37103882],\n",
       "       [-0.12729454,  0.32000337],\n",
       "       [ 0.32017198,  0.02856739],\n",
       "       [ 1.27968007,  0.86892664],\n",
       "       [ 0.17633353,  0.32000337],\n",
       "       [ 0.32017198,  0.69878852],\n",
       "       [-2.12747058, -1.71247338],\n",
       "       [ 0.52755074,  0.86892664],\n",
       "       [-0.7285818 , -0.30968068],\n",
       "       [-0.82460482, -1.28803213],\n",
       "       [-0.37203759, -0.50418335],\n",
       "       [-0.7285818 , -0.30968068],\n",
       "       [-0.54533709, -0.97733271],\n",
       "       [ 0.17633353,  0.45289152],\n",
       "       [-1.02729947, -0.61009389],\n",
       "       [-0.92402816, -0.50418335],\n",
       "       [-1.13497737, -1.28803213],\n",
       "       [-1.02729947, -0.61009389],\n",
       "       [-1.77530463, -1.47901149],\n",
       "       [ 0.85426022,  1.02900708],\n",
       "       [-0.82460482, -0.30968068],\n",
       "       [-1.62812069, -1.28803213],\n",
       "       [-1.02729947, -0.61009389],\n",
       "       [ 0.10254283, -0.21956133],\n",
       "       [ 0.97925895,  1.02900708],\n",
       "       [-0.2885915 ,  0.17905385],\n",
       "       [ 0.52755074,  1.27727883],\n",
       "       [-0.2885915 , -1.47901149],\n",
       "       [ 1.56516174,  1.67860196],\n",
       "       [ 0.59466485,  0.32000337],\n",
       "       [ 0.97925895,  1.18049073],\n",
       "       [ 0.52755074,  0.57885447],\n",
       "       [-1.13497737, -1.28803213],\n",
       "       [-0.2885915 , -1.28803213],\n",
       "       [ 0.39035614,  0.32000337],\n",
       "       [-1.77530463, -1.71247338],\n",
       "       [-1.36662747, -1.47901149],\n",
       "       [ 1.45260325,  0.86892664],\n",
       "       [-0.2885915 ,  0.10511199],\n",
       "       [ 0.10254283,  0.38737753],\n",
       "       [-1.36662747, -1.47901149],\n",
       "       [-0.2885915 ,  0.25061906],\n",
       "       [-0.45755735, -0.05084337],\n",
       "       [ 1.10139339,  1.32452137],\n",
       "       [-1.9388819 , -1.47901149],\n",
       "       [ 0.32017198,  0.69878852],\n",
       "       [-1.02729947, -0.72317056],\n",
       "       [-0.92402816, -0.97733271],\n",
       "       [-0.92402816, -0.72317056],\n",
       "       [-0.92402816, -0.72317056],\n",
       "       [ 1.16145363,  1.37103882],\n",
       "       [ 0.02740154,  0.38737753],\n",
       "       [-1.62812069, -2.03140174],\n",
       "       [-0.2885915 , -0.21956133],\n",
       "       [-0.63559362, -0.72317056],\n",
       "       [ 0.6608523 , -0.05084337],\n",
       "       [ 1.33789   ,  0.75672565],\n",
       "       [ 1.39552477,  0.69878852],\n",
       "       [ 0.52755074,  0.57885447],\n",
       "       [-0.37203759, -0.97733271],\n",
       "       [-0.04917821, -0.05084337],\n",
       "       [-0.20705755, -0.4043302 ],\n",
       "       [ 0.72615521,  0.86892664],\n",
       "       [-0.82460482, -0.61009389],\n",
       "       [-0.92402816, -0.61009389],\n",
       "       [-0.45755735, -0.61009389],\n",
       "       [ 1.27968007,  1.02900708],\n",
       "       [-0.04917821,  0.10511199],\n",
       "       [-0.12729454,  0.10511199],\n",
       "       [-1.77530463, -1.71247338],\n",
       "       [ 1.10139339,  1.32452137],\n",
       "       [-0.7285818 , -2.03140174],\n",
       "       [ 0.02740154, -0.50418335],\n",
       "       [ 0.6608523 ,  0.92332441],\n",
       "       [ 1.22087502,  1.27727883],\n",
       "       [-1.62812069, -1.71247338],\n",
       "       [-1.49280671, -1.28803213],\n",
       "       [-0.54533709, -0.05084337],\n",
       "       [ 0.79061248,  1.08039482],\n",
       "       [ 0.24885274,  0.51667789],\n",
       "       [ 0.32017198,  0.51667789],\n",
       "       [ 0.24885274,  0.51667789],\n",
       "       [ 2.04825083,  1.8420933 ],\n",
       "       [ 0.52755074,  0.75672565],\n",
       "       [-1.9388819 , -2.03140174],\n",
       "       [ 0.79061248,  0.9766667 ],\n",
       "       [-1.62812069, -1.47901149],\n",
       "       [-0.82460482, -0.50418335],\n",
       "       [ 2.15099702,  2.14738717],\n",
       "       [-0.92402816, -0.61009389],\n",
       "       [-1.77530463, -1.71247338],\n",
       "       [ 0.97925895,  0.69878852],\n",
       "       [-0.04917821,  0.25061906],\n",
       "       [-0.37203759, -0.05084337],\n",
       "       [-0.2885915 , -0.05084337],\n",
       "       [-0.92402816, -0.72317056],\n",
       "       [ 0.02740154,  0.25061906],\n",
       "       [-0.54533709, -0.61009389],\n",
       "       [-0.45755735, -0.4043302 ],\n",
       "       [-0.12729454, -0.30968068],\n",
       "       [-1.77530463, -1.28803213],\n",
       "       [ 0.45946437,  0.81341501],\n",
       "       [ 0.52755074,  0.86892664],\n",
       "       [-1.62812069, -1.12348349],\n",
       "       [ 0.45946437,  0.81341501],\n",
       "       [ 1.04067034,  0.75672565],\n",
       "       [-1.62812069, -1.28803213],\n",
       "       [-0.54533709, -0.21956133],\n",
       "       [-1.62812069, -1.12348349],\n",
       "       [ 0.02740154, -0.50418335],\n",
       "       [-0.7285818 , -0.4043302 ],\n",
       "       [-1.62812069, -2.03140174],\n",
       "       [ 0.02740154,  0.45289152],\n",
       "       [-0.7285818 ,  0.25061906],\n",
       "       [-2.12747058, -2.03140174],\n",
       "       [-1.36662747, -0.84489671],\n",
       "       [-0.45755735,  0.10511199],\n",
       "       [-1.9388819 , -1.47901149],\n",
       "       [ 0.39035614,  0.32000337],\n",
       "       [ 0.10254283, -0.72317056],\n",
       "       [-1.77530463, -1.28803213],\n",
       "       [-2.12747058, -2.03140174],\n",
       "       [ 0.02740154, -0.61009389],\n",
       "       [-0.37203759,  0.10511199],\n",
       "       [-0.20705755,  0.32000337],\n",
       "       [-1.13497737, -0.84489671],\n",
       "       [ 0.32017198,  0.25061906],\n",
       "       [-1.49280671, -0.97733271],\n",
       "       [-0.12729454,  0.32000337],\n",
       "       [ 1.10139339,  0.63952652],\n",
       "       [-0.04917821,  0.38737753],\n",
       "       [-0.2885915 , -0.84489671],\n",
       "       [ 0.52755074,  0.69878852],\n",
       "       [-0.92402816, -0.72317056],\n",
       "       [-0.63559362, -0.50418335],\n",
       "       [ 0.45946437, -0.05084337],\n",
       "       [-1.77530463, -1.28803213],\n",
       "       [-0.82460482, -0.30968068],\n",
       "       [-0.20705755, -0.97733271],\n",
       "       [-1.13497737, -0.61009389],\n",
       "       [ 0.39035614,  0.51667789],\n",
       "       [ 0.17633353,  0.57885447],\n",
       "       [ 0.85426022,  0.9766667 ],\n",
       "       [-0.63559362, -0.4043302 ],\n",
       "       [-0.20705755, -0.4043302 ],\n",
       "       [ 0.52755074,  0.86892664],\n",
       "       [ 0.32017198,  0.32000337],\n",
       "       [ 0.10254283, -0.50418335],\n",
       "       [ 1.45260325,  0.51667789],\n",
       "       [-0.12729454,  0.25061906],\n",
       "       [-0.12729454,  0.32000337],\n",
       "       [ 1.73024362,  1.99806608],\n",
       "       [-1.02729947, -0.72317056],\n",
       "       [-1.62812069, -1.12348349],\n",
       "       [-1.62812069, -1.12348349],\n",
       "       [ 0.91713196,  1.13087536],\n",
       "       [ 1.16145363,  0.51667789],\n",
       "       [-1.62812069, -1.12348349],\n",
       "       [ 1.27968007,  1.46201379],\n",
       "       [ 0.52755074,  0.17905385],\n",
       "       [-0.2885915 ,  0.17905385],\n",
       "       [-0.12729454, -0.97733271],\n",
       "       [ 0.02740154, -1.47901149],\n",
       "       [ 0.97925895,  1.13087536],\n",
       "       [-0.20705755,  0.25061906],\n",
       "       [-1.24777483, -1.47901149],\n",
       "       [-0.04917821,  0.38737753],\n",
       "       [-1.62812069, -1.28803213],\n",
       "       [ 1.22087502,  1.41686049],\n",
       "       [-0.45755735, -0.72317056],\n",
       "       [ 0.39035614,  0.32000337],\n",
       "       [-0.82460482, -1.71247338],\n",
       "       [-0.37203759, -0.30968068],\n",
       "       [-0.45755735, -0.30968068],\n",
       "       [ 0.59466485,  0.51667789],\n",
       "       [-0.54533709, -0.72317056],\n",
       "       [-0.63559362, -0.30968068],\n",
       "       [ 0.02740154,  0.45289152],\n",
       "       [ 0.17633353, -0.4043302 ],\n",
       "       [-0.63559362, -0.84489671],\n",
       "       [ 0.91713196,  0.38737753],\n",
       "       [ 1.16145363,  1.22927983],\n",
       "       [-0.04917821,  0.38737753],\n",
       "       [-1.77530463, -1.71247338],\n",
       "       [-1.02729947, -0.72317056],\n",
       "       [-0.37203759, -0.30968068],\n",
       "       [ 1.22087502,  1.37103882],\n",
       "       [ 0.59466485,  0.81341501],\n",
       "       [ 0.39035614,  0.63952652],\n",
       "       [ 1.16145363,  0.32000337],\n",
       "       [ 1.04067034,  0.32000337],\n",
       "       [-1.13497737, -1.28803213],\n",
       "       [ 0.52755074,  0.17905385],\n",
       "       [ 0.32017198,  0.69878852],\n",
       "       [-1.24777483, -0.84489671],\n",
       "       [ 1.62067463,  1.46201379],\n",
       "       [-0.12729454, -0.84489671],\n",
       "       [-1.49280671, -1.28803213],\n",
       "       [ 0.72615521,  0.9766667 ],\n",
       "       [ 1.16145363,  1.32452137],\n",
       "       [ 0.17633353,  0.57885447],\n",
       "       [-0.12729454,  0.57885447],\n",
       "       [-0.2885915 , -0.30968068],\n",
       "       [ 0.6608523 ,  0.57885447],\n",
       "       [ 0.02740154,  0.25061906],\n",
       "       [ 0.52755074,  0.57885447],\n",
       "       [ 0.59466485, -0.72317056],\n",
       "       [ 1.22087502,  1.41686049],\n",
       "       [-0.04917821, -0.61009389],\n",
       "       [ 0.72615521, -0.21956133],\n",
       "       [-1.62812069, -1.47901149],\n",
       "       [ 0.52755074, -0.72317056],\n",
       "       [-0.7285818 , -0.61009389],\n",
       "       [ 0.10254283,  0.51667789],\n",
       "       [ 0.6608523 ,  0.57885447],\n",
       "       [-1.02729947, -1.28803213],\n",
       "       [ 0.79061248,  0.9766667 ],\n",
       "       [ 1.33789   ,  1.13087536],\n",
       "       [ 1.56516174,  1.67860196],\n",
       "       [ 0.72615521,  0.75672565],\n",
       "       [ 0.72615521,  1.02900708],\n",
       "       [ 1.10139339,  1.22927983],\n",
       "       [ 1.04067034,  0.9766667 ],\n",
       "       [ 1.45260325,  1.59371278],\n",
       "       [-0.54533709, -0.4043302 ],\n",
       "       [ 1.67569711,  1.63643454],\n",
       "       [-0.63559362, -0.72317056],\n",
       "       [ 1.39552477,  1.46201379],\n",
       "       [ 1.39552477,  0.25061906],\n",
       "       [-1.62812069, -1.71247338],\n",
       "       [-1.13497737, -1.12348349],\n",
       "       [-1.13497737, -1.28803213],\n",
       "       [-0.7285818 , -0.84489671],\n",
       "       [ 1.94393433,  1.80196315],\n",
       "       [ 0.72615521,  0.81341501],\n",
       "       [ 0.24885274,  0.25061906],\n",
       "       [ 1.62067463,  1.72023405],\n",
       "       [ 1.22087502,  1.37103882],\n",
       "       [ 1.10139339,  0.81341501],\n",
       "       [ 1.89116106,  1.92096128],\n",
       "       [ 1.56516174,  1.59371278],\n",
       "       [-1.13497737, -0.84489671],\n",
       "       [ 1.78432784,  1.8420933 ],\n",
       "       [ 0.52755074,  0.81341501],\n",
       "       [-1.9388819 , -2.03140174],\n",
       "       [ 0.59466485,  0.81341501],\n",
       "       [-1.13497737, -0.97733271],\n",
       "       [ 0.85426022, -0.72317056],\n",
       "       [ 0.79061248,  0.86892664],\n",
       "       [ 1.22087502, -0.50418335],\n",
       "       [-0.82460482, -1.71247338],\n",
       "       [-0.12729454, -0.72317056],\n",
       "       [ 1.27968007,  1.27727883],\n",
       "       [-0.20705755,  0.25061906],\n",
       "       [-0.2885915 , -0.30968068],\n",
       "       [ 1.78432784,  1.59371278],\n",
       "       [ 1.56516174,  1.41686049],\n",
       "       [ 1.22087502,  1.27727883],\n",
       "       [ 0.45946437,  0.10511199],\n",
       "       [ 0.52755074, -0.13343012],\n",
       "       [-0.54533709, -1.12348349],\n",
       "       [ 1.62067463,  1.63643454],\n",
       "       [ 0.85426022,  1.02900708],\n",
       "       [-1.24777483, -1.12348349],\n",
       "       [ 0.72615521,  0.86892664],\n",
       "       [-1.49280671, -2.03140174],\n",
       "       [ 0.10254283,  0.02856739],\n",
       "       [-0.04917821, -0.72317056],\n",
       "       [-0.54533709, -0.50418335],\n",
       "       [ 0.59466485,  0.32000337],\n",
       "       [ 0.97925895,  1.22927983],\n",
       "       [ 0.10254283, -0.84489671],\n",
       "       [-1.36662747, -1.28803213],\n",
       "       [-0.7285818 , -0.50418335],\n",
       "       [ 1.62067463,  1.67860196],\n",
       "       [-0.37203759,  0.10511199],\n",
       "       [-0.37203759,  0.02856739],\n",
       "       [ 0.24885274,  0.57885447],\n",
       "       [-1.02729947, -0.50418335],\n",
       "       [-0.63559362, -0.30968068],\n",
       "       [ 0.24885274,  0.02856739],\n",
       "       [ 0.6608523 ,  1.02900708],\n",
       "       [-1.13497737, -1.12348349],\n",
       "       [ 0.17633353,  0.02856739],\n",
       "       [ 1.10139339,  1.32452137],\n",
       "       [-0.92402816, -0.4043302 ],\n",
       "       [ 0.17633353,  0.57885447],\n",
       "       [ 1.78432784,  2.25544755],\n",
       "       [-0.04917821, -0.50418335],\n",
       "       [-0.20705755, -0.4043302 ],\n",
       "       [ 0.85426022,  0.32000337],\n",
       "       [-0.12729454, -0.84489671],\n",
       "       [ 1.04067034,  1.37103882],\n",
       "       [ 0.97925895,  0.57885447],\n",
       "       [-0.63559362, -0.21956133],\n",
       "       [ 0.79061248,  0.69878852],\n",
       "       [ 1.10139339,  0.02856739],\n",
       "       [-0.63559362, -0.30968068],\n",
       "       [-0.2885915 ,  0.17905385],\n",
       "       [ 1.16145363,  1.37103882],\n",
       "       [ 0.72615521,  1.02900708],\n",
       "       [ 0.79061248,  1.22927983],\n",
       "       [-0.45755735, -0.4043302 ],\n",
       "       [ 1.33789   ,  0.81341501],\n",
       "       [ 1.22087502,  1.13087536],\n",
       "       [-1.62812069, -1.28803213],\n",
       "       [ 0.45946437,  0.86892664],\n",
       "       [ 2.15099702,  1.8420933 ],\n",
       "       [ 1.16145363,  1.37103882],\n",
       "       [ 0.39035614,  0.81341501],\n",
       "       [ 0.10254283,  0.38737753],\n",
       "       [-1.13497737, -1.71247338],\n",
       "       [ 0.32017198,  0.45289152],\n",
       "       [ 1.78432784,  1.46201379],\n",
       "       [ 1.22087502,  1.22927983],\n",
       "       [ 0.52755074, -0.05084337],\n",
       "       [-0.82460482, -1.12348349],\n",
       "       [-0.54533709, -0.30968068],\n",
       "       [ 0.17633353,  0.02856739],\n",
       "       [ 0.6608523 ,  0.9766667 ],\n",
       "       [-0.04917821,  0.17905385],\n",
       "       [ 1.45260325,  1.59371278],\n",
       "       [ 1.45260325,  1.46201379],\n",
       "       [-0.45755735, -0.4043302 ],\n",
       "       [-0.92402816, -1.71247338],\n",
       "       [ 0.97925895,  0.9766667 ],\n",
       "       [ 0.85426022,  1.02900708],\n",
       "       [-0.63559362, -0.61009389],\n",
       "       [ 0.17633353,  0.38737753],\n",
       "       [-0.7285818 , -0.72317056],\n",
       "       [ 0.6608523 ,  0.75672565],\n",
       "       [ 0.45946437,  0.32000337],\n",
       "       [ 0.52755074,  0.75672565],\n",
       "       [-1.62812069, -1.71247338],\n",
       "       [-1.36662747, -1.28803213],\n",
       "       [ 1.16145363,  1.37103882],\n",
       "       [-0.82460482, -0.61009389],\n",
       "       [-1.13497737, -1.28803213],\n",
       "       [ 0.45946437,  0.57885447],\n",
       "       [-1.13497737, -0.97733271],\n",
       "       [ 1.50914328,  1.63643454],\n",
       "       [ 0.45946437,  0.45289152],\n",
       "       [-0.45755735, -0.50418335],\n",
       "       [ 0.59466485,  0.81341501],\n",
       "       [ 0.59466485,  0.02856739],\n",
       "       [ 1.16145363,  1.27727883],\n",
       "       [ 0.85426022,  0.25061906],\n",
       "       [ 1.27968007,  0.32000337],\n",
       "       [ 0.6608523 ,  0.32000337],\n",
       "       [ 0.85426022,  0.9766667 ],\n",
       "       [ 0.72615521,  0.32000337],\n",
       "       [ 1.39552477,  0.69878852],\n",
       "       [ 0.32017198,  0.02856739],\n",
       "       [-1.13497737, -1.12348349]])"
      ]
     },
     "execution_count": 59,
     "metadata": {},
     "output_type": "execute_result"
    }
   ],
   "source": [
    "#applying scaling to normalise data\n",
    "from sklearn.preprocessing import StandardScaler\n",
    "sc=StandardScaler()\n",
    "x=sc.fit_transform(x)\n",
    "x"
   ]
  },
  {
   "cell_type": "markdown",
   "id": "a6a87076",
   "metadata": {},
   "source": [
    "Data Modelling"
   ]
  },
  {
   "cell_type": "code",
   "execution_count": 65,
   "id": "7221b6ad",
   "metadata": {},
   "outputs": [],
   "source": [
    "#selecting the data model from sklearn library for data modelling\n",
    "from sklearn.model_selection import train_test_split\n",
    "#selecting logistic regression from linear model\n",
    "from sklearn.linear_model import LogisticRegression\n",
    "#creating an instance for logistic regresion for future use\n",
    "lr=LogisticRegression()\n",
    "from sklearn.metrics import accuracy_score"
   ]
  },
  {
   "cell_type": "markdown",
   "id": "2d8e662e",
   "metadata": {},
   "source": [
    "splitting Dataframe"
   ]
  },
  {
   "cell_type": "code",
   "execution_count": 68,
   "id": "d702cdd1",
   "metadata": {},
   "outputs": [
    {
     "name": "stdout",
     "output_type": "stream",
     "text": [
      "At random state 3 the model performs very well\n",
      "At random state: -  3\n",
      "Training accuracy_score is:-  3.7854889589905363\n",
      "Testing accuracy_score is:-  3.75\n",
      "At random state 69 the model performs very well\n",
      "At random state: -  69\n",
      "Training accuracy_score is:-  3.7854889589905363\n",
      "Testing accuracy_score is:-  3.75\n",
      "At random state 171 the model performs very well\n",
      "At random state: -  171\n",
      "Training accuracy_score is:-  3.7854889589905363\n",
      "Testing accuracy_score is:-  3.75\n",
      "At random state 208 the model performs very well\n",
      "At random state: -  208\n",
      "Training accuracy_score is:-  3.7854889589905363\n",
      "Testing accuracy_score is:-  3.75\n",
      "At random state 213 the model performs very well\n",
      "At random state: -  213\n",
      "Training accuracy_score is:-  2.5236593059936907\n",
      "Testing accuracy_score is:-  2.5\n",
      "At random state 463 the model performs very well\n",
      "At random state: -  463\n",
      "Training accuracy_score is:-  2.5236593059936907\n",
      "Testing accuracy_score is:-  2.5\n",
      "At random state 565 the model performs very well\n",
      "At random state: -  565\n",
      "Training accuracy_score is:-  2.5236593059936907\n",
      "Testing accuracy_score is:-  2.5\n",
      "At random state 584 the model performs very well\n",
      "At random state: -  584\n",
      "Training accuracy_score is:-  3.7854889589905363\n",
      "Testing accuracy_score is:-  3.75\n",
      "At random state 617 the model performs very well\n",
      "At random state: -  617\n",
      "Training accuracy_score is:-  3.7854889589905363\n",
      "Testing accuracy_score is:-  3.75\n",
      "At random state 673 the model performs very well\n",
      "At random state: -  673\n",
      "Training accuracy_score is:-  2.5236593059936907\n",
      "Testing accuracy_score is:-  2.5\n",
      "At random state 717 the model performs very well\n",
      "At random state: -  717\n",
      "Training accuracy_score is:-  2.5236593059936907\n",
      "Testing accuracy_score is:-  2.5\n",
      "At random state 777 the model performs very well\n",
      "At random state: -  777\n",
      "Training accuracy_score is:-  3.7854889589905363\n",
      "Testing accuracy_score is:-  3.75\n",
      "At random state 950 the model performs very well\n",
      "At random state: -  950\n",
      "Training accuracy_score is:-  2.5236593059936907\n",
      "Testing accuracy_score is:-  2.5\n",
      "At random state 954 the model performs very well\n",
      "At random state: -  954\n",
      "Training accuracy_score is:-  3.7854889589905363\n",
      "Testing accuracy_score is:-  3.75\n",
      "At random state 998 the model performs very well\n",
      "At random state: -  998\n",
      "Training accuracy_score is:-  2.5236593059936907\n",
      "Testing accuracy_score is:-  2.5\n"
     ]
    }
   ],
   "source": [
    "for i in range(0,1000):\n",
    "    x_train,x_test,y_train,y_test=train_test_split(x,y,random_state=i,test_size=0.20)\n",
    "    lr.fit(x_train,y_train)\n",
    "    pred_train=lr.predict(x_train)\n",
    "    pred_test=lr.predict(x_test)\n",
    "    if round(accuracy_score(y_train,pred_train)*100,1)==round(accuracy_score(y_test, pred_test)*100,1):\n",
    "        print(\"At random state\",i, \"the model performs very well\")\n",
    "        print(\"At random state: - \",i)\n",
    "        print(\"Training accuracy_score is:- \",accuracy_score(y_train,pred_train)*100)\n",
    "        print(\"Testing accuracy_score is:- \",accuracy_score(y_test,pred_test)*100)"
   ]
  },
  {
   "cell_type": "code",
   "execution_count": 69,
   "id": "800b1f17",
   "metadata": {},
   "outputs": [],
   "source": [
    "x_train,x_test,y_train,y_test = train_test_split(x,y,test_size=.20,random_state=986)"
   ]
  },
  {
   "cell_type": "code",
   "execution_count": 70,
   "id": "57231325",
   "metadata": {},
   "outputs": [
    {
     "name": "stdout",
     "output_type": "stream",
     "text": [
      "              precision    recall  f1-score   support\n",
      "\n",
      "       62884       0.00      0.00      0.00         1\n",
      "       69700       0.00      0.00      0.00         1\n",
      "       70768       0.00      0.00      0.00         1\n",
      "       72500       0.00      0.00      0.00         0\n",
      "       73500       0.00      0.00      0.00         1\n",
      "       74000       0.00      0.00      0.00         0\n",
      "       75996       0.00      0.00      0.00         1\n",
      "       76840       0.00      0.00      0.00         1\n",
      "       77500       0.00      0.00      0.00         1\n",
      "       78162       0.00      0.00      0.00         1\n",
      "       80225       0.00      0.00      0.00         1\n",
      "       81800       0.00      0.00      0.00         1\n",
      "       86250       0.00      0.00      0.00         1\n",
      "       88600       0.06      1.00      0.11         1\n",
      "       88650       0.00      0.00      0.00         1\n",
      "       89942       0.00      0.00      0.00         1\n",
      "       90215       0.00      0.00      0.00         1\n",
      "       91000       0.00      0.00      0.00         2\n",
      "       91300       0.00      0.00      0.00         1\n",
      "       92000       0.00      0.00      0.00         1\n",
      "       92391       0.00      0.00      0.00         1\n",
      "       92550       0.00      0.00      0.00         1\n",
      "       92700       0.00      0.00      0.00         2\n",
      "       93000       0.00      0.00      0.00         1\n",
      "       94350       0.00      0.00      0.00         1\n",
      "       94384       0.00      0.00      0.00         1\n",
      "       95408       0.00      0.00      0.00         1\n",
      "       96614       0.00      0.00      0.00         1\n",
      "       97262       0.00      0.00      0.00         1\n",
      "       98053       0.00      0.00      0.00         1\n",
      "      101000       0.00      0.00      0.00         0\n",
      "      101210       0.00      0.00      0.00         1\n",
      "      101738       0.00      0.00      0.00         1\n",
      "      102235       0.00      0.00      0.00         1\n",
      "      103649       0.00      0.00      0.00         1\n",
      "      103750       0.00      0.00      0.00         1\n",
      "      104121       0.00      0.00      0.00         1\n",
      "      104350       0.00      0.00      0.00         1\n",
      "      104428       0.00      0.00      0.00         1\n",
      "      104542       0.00      0.00      0.00         1\n",
      "      105000       0.00      0.00      0.00         0\n",
      "      106231       0.00      0.00      0.00         1\n",
      "      106689       0.00      0.00      0.00         1\n",
      "      107150       0.00      0.00      0.00         1\n",
      "      108200       0.00      0.00      0.00         1\n",
      "      111350       0.00      0.00      0.00         0\n",
      "      113068       0.00      0.00      0.00         1\n",
      "      113341       0.00      0.00      0.00         1\n",
      "      113543       0.00      0.00      0.00         1\n",
      "      118223       0.00      0.00      0.00         1\n",
      "      119250       0.00      0.00      0.00         1\n",
      "      120000       0.00      0.00      0.00         1\n",
      "      122400       0.00      0.00      0.00         1\n",
      "      126320       0.00      0.00      0.00         1\n",
      "      126431       0.00      0.00      0.00         1\n",
      "      126621       0.00      0.00      0.00         1\n",
      "      128400       0.00      0.00      0.00         1\n",
      "      128800       0.00      0.00      0.00         1\n",
      "      129000       0.00      0.00      0.00         1\n",
      "      130664       0.00      0.00      0.00         1\n",
      "      132000       0.00      0.00      0.00         1\n",
      "      132261       0.00      0.00      0.00         1\n",
      "      133700       0.00      0.00      0.00         1\n",
      "      134885       0.00      0.00      0.00         1\n",
      "      137167       0.00      0.00      0.00         1\n",
      "      140300       0.00      0.00      0.00         1\n",
      "      143940       0.00      0.00      0.00         1\n",
      "      145350       0.00      0.00      0.00         1\n",
      "      146800       0.00      0.00      0.00         1\n",
      "      150480       0.00      0.00      0.00         1\n",
      "      150743       0.00      0.00      0.00         1\n",
      "      153303       0.00      0.00      0.00         1\n",
      "      155750       0.00      0.00      0.00         1\n",
      "      160400       0.00      0.00      0.00         1\n",
      "      161101       0.00      0.00      0.00         1\n",
      "      162150       0.00      0.00      0.00         1\n",
      "      162200       0.00      0.00      0.00         1\n",
      "      172272       0.00      0.00      0.00         1\n",
      "      172505       0.00      0.00      0.00         1\n",
      "      173200       0.00      0.00      0.00         1\n",
      "      186960       0.00      0.00      0.00         1\n",
      "      192253       0.00      0.00      0.00         1\n",
      "      205500       0.00      0.00      0.00         1\n",
      "\n",
      "    accuracy                           0.01        80\n",
      "   macro avg       0.00      0.01      0.00        80\n",
      "weighted avg       0.00      0.01      0.00        80\n",
      "\n"
     ]
    }
   ],
   "source": [
    "from sklearn.metrics import classification_report\n",
    "print(classification_report(y_test,pred_test))"
   ]
  },
  {
   "cell_type": "markdown",
   "id": "fd582b95",
   "metadata": {},
   "source": [
    "# Cross validation score for logestic regression:"
   ]
  },
  {
   "cell_type": "code",
   "execution_count": 80,
   "id": "16e21915",
   "metadata": {},
   "outputs": [
    {
     "name": "stdout",
     "output_type": "stream",
     "text": [
      "At cv:-  2\n",
      "Cross validation score is: - 1.511344601796863\n",
      "accuracy _score is :- 2.5\n",
      "\n",
      "\n",
      "At cv:-  3\n",
      "Cross validation score is: - 1.5075567707146653\n",
      "accuracy _score is :- 2.5\n",
      "\n",
      "\n",
      "At cv:-  4\n",
      "Cross validation score is: - 1.5126262626262628\n",
      "accuracy _score is :- 2.5\n",
      "\n",
      "\n",
      "At cv:-  5\n",
      "Cross validation score is: - 1.259493670886076\n",
      "accuracy _score is :- 2.5\n",
      "\n",
      "\n"
     ]
    },
    {
     "ename": "ValueError",
     "evalue": "n_splits=6 cannot be greater than the number of members in each class.",
     "output_type": "error",
     "traceback": [
      "\u001b[1;31m---------------------------------------------------------------------------\u001b[0m",
      "\u001b[1;31mEmpty\u001b[0m                                     Traceback (most recent call last)",
      "\u001b[1;32m~\\Anaconda3\\lib\\site-packages\\joblib\\parallel.py\u001b[0m in \u001b[0;36mdispatch_one_batch\u001b[1;34m(self, iterator)\u001b[0m\n\u001b[0;32m    819\u001b[0m             \u001b[1;32mtry\u001b[0m\u001b[1;33m:\u001b[0m\u001b[1;33m\u001b[0m\u001b[1;33m\u001b[0m\u001b[0m\n\u001b[1;32m--> 820\u001b[1;33m                 \u001b[0mtasks\u001b[0m \u001b[1;33m=\u001b[0m \u001b[0mself\u001b[0m\u001b[1;33m.\u001b[0m\u001b[0m_ready_batches\u001b[0m\u001b[1;33m.\u001b[0m\u001b[0mget\u001b[0m\u001b[1;33m(\u001b[0m\u001b[0mblock\u001b[0m\u001b[1;33m=\u001b[0m\u001b[1;32mFalse\u001b[0m\u001b[1;33m)\u001b[0m\u001b[1;33m\u001b[0m\u001b[1;33m\u001b[0m\u001b[0m\n\u001b[0m\u001b[0;32m    821\u001b[0m             \u001b[1;32mexcept\u001b[0m \u001b[0mqueue\u001b[0m\u001b[1;33m.\u001b[0m\u001b[0mEmpty\u001b[0m\u001b[1;33m:\u001b[0m\u001b[1;33m\u001b[0m\u001b[1;33m\u001b[0m\u001b[0m\n",
      "\u001b[1;32m~\\Anaconda3\\lib\\queue.py\u001b[0m in \u001b[0;36mget\u001b[1;34m(self, block, timeout)\u001b[0m\n\u001b[0;32m    166\u001b[0m                 \u001b[1;32mif\u001b[0m \u001b[1;32mnot\u001b[0m \u001b[0mself\u001b[0m\u001b[1;33m.\u001b[0m\u001b[0m_qsize\u001b[0m\u001b[1;33m(\u001b[0m\u001b[1;33m)\u001b[0m\u001b[1;33m:\u001b[0m\u001b[1;33m\u001b[0m\u001b[1;33m\u001b[0m\u001b[0m\n\u001b[1;32m--> 167\u001b[1;33m                     \u001b[1;32mraise\u001b[0m \u001b[0mEmpty\u001b[0m\u001b[1;33m\u001b[0m\u001b[1;33m\u001b[0m\u001b[0m\n\u001b[0m\u001b[0;32m    168\u001b[0m             \u001b[1;32melif\u001b[0m \u001b[0mtimeout\u001b[0m \u001b[1;32mis\u001b[0m \u001b[1;32mNone\u001b[0m\u001b[1;33m:\u001b[0m\u001b[1;33m\u001b[0m\u001b[1;33m\u001b[0m\u001b[0m\n",
      "\u001b[1;31mEmpty\u001b[0m: ",
      "\nDuring handling of the above exception, another exception occurred:\n",
      "\u001b[1;31mValueError\u001b[0m                                Traceback (most recent call last)",
      "\u001b[1;32m<ipython-input-80-74261b057fb1>\u001b[0m in \u001b[0;36m<module>\u001b[1;34m\u001b[0m\n\u001b[0;32m      3\u001b[0m \u001b[0mlss\u001b[0m \u001b[1;33m=\u001b[0m \u001b[0maccuracy_score\u001b[0m\u001b[1;33m(\u001b[0m\u001b[0my_test\u001b[0m\u001b[1;33m,\u001b[0m\u001b[0mpred_lr\u001b[0m\u001b[1;33m)\u001b[0m\u001b[1;33m\u001b[0m\u001b[1;33m\u001b[0m\u001b[0m\n\u001b[0;32m      4\u001b[0m \u001b[1;32mfor\u001b[0m \u001b[0mj\u001b[0m \u001b[1;32min\u001b[0m \u001b[0mrange\u001b[0m\u001b[1;33m(\u001b[0m\u001b[1;36m2\u001b[0m\u001b[1;33m,\u001b[0m\u001b[1;36m10\u001b[0m\u001b[1;33m)\u001b[0m\u001b[1;33m:\u001b[0m\u001b[1;33m\u001b[0m\u001b[1;33m\u001b[0m\u001b[0m\n\u001b[1;32m----> 5\u001b[1;33m     \u001b[0mlsscore\u001b[0m \u001b[1;33m=\u001b[0m \u001b[0mcross_val_score\u001b[0m\u001b[1;33m(\u001b[0m\u001b[0mlr\u001b[0m\u001b[1;33m,\u001b[0m\u001b[0mx\u001b[0m\u001b[1;33m,\u001b[0m\u001b[0my\u001b[0m\u001b[1;33m,\u001b[0m\u001b[0mcv\u001b[0m\u001b[1;33m=\u001b[0m\u001b[0mj\u001b[0m\u001b[1;33m)\u001b[0m\u001b[1;33m\u001b[0m\u001b[1;33m\u001b[0m\u001b[0m\n\u001b[0m\u001b[0;32m      6\u001b[0m     \u001b[0mlsc\u001b[0m \u001b[1;33m=\u001b[0m \u001b[0mlsscore\u001b[0m\u001b[1;33m.\u001b[0m\u001b[0mmean\u001b[0m\u001b[1;33m(\u001b[0m\u001b[1;33m)\u001b[0m\u001b[1;33m\u001b[0m\u001b[1;33m\u001b[0m\u001b[0m\n\u001b[0;32m      7\u001b[0m     \u001b[0mprint\u001b[0m \u001b[1;33m(\u001b[0m\u001b[1;34m\"At cv:- \"\u001b[0m\u001b[1;33m,\u001b[0m \u001b[0mj\u001b[0m\u001b[1;33m)\u001b[0m\u001b[1;33m\u001b[0m\u001b[1;33m\u001b[0m\u001b[0m\n",
      "\u001b[1;32m~\\Anaconda3\\lib\\site-packages\\sklearn\\utils\\validation.py\u001b[0m in \u001b[0;36minner_f\u001b[1;34m(*args, **kwargs)\u001b[0m\n\u001b[0;32m     61\u001b[0m             \u001b[0mextra_args\u001b[0m \u001b[1;33m=\u001b[0m \u001b[0mlen\u001b[0m\u001b[1;33m(\u001b[0m\u001b[0margs\u001b[0m\u001b[1;33m)\u001b[0m \u001b[1;33m-\u001b[0m \u001b[0mlen\u001b[0m\u001b[1;33m(\u001b[0m\u001b[0mall_args\u001b[0m\u001b[1;33m)\u001b[0m\u001b[1;33m\u001b[0m\u001b[1;33m\u001b[0m\u001b[0m\n\u001b[0;32m     62\u001b[0m             \u001b[1;32mif\u001b[0m \u001b[0mextra_args\u001b[0m \u001b[1;33m<=\u001b[0m \u001b[1;36m0\u001b[0m\u001b[1;33m:\u001b[0m\u001b[1;33m\u001b[0m\u001b[1;33m\u001b[0m\u001b[0m\n\u001b[1;32m---> 63\u001b[1;33m                 \u001b[1;32mreturn\u001b[0m \u001b[0mf\u001b[0m\u001b[1;33m(\u001b[0m\u001b[1;33m*\u001b[0m\u001b[0margs\u001b[0m\u001b[1;33m,\u001b[0m \u001b[1;33m**\u001b[0m\u001b[0mkwargs\u001b[0m\u001b[1;33m)\u001b[0m\u001b[1;33m\u001b[0m\u001b[1;33m\u001b[0m\u001b[0m\n\u001b[0m\u001b[0;32m     64\u001b[0m \u001b[1;33m\u001b[0m\u001b[0m\n\u001b[0;32m     65\u001b[0m             \u001b[1;31m# extra_args > 0\u001b[0m\u001b[1;33m\u001b[0m\u001b[1;33m\u001b[0m\u001b[1;33m\u001b[0m\u001b[0m\n",
      "\u001b[1;32m~\\Anaconda3\\lib\\site-packages\\sklearn\\model_selection\\_validation.py\u001b[0m in \u001b[0;36mcross_val_score\u001b[1;34m(estimator, X, y, groups, scoring, cv, n_jobs, verbose, fit_params, pre_dispatch, error_score)\u001b[0m\n\u001b[0;32m    438\u001b[0m     \u001b[0mscorer\u001b[0m \u001b[1;33m=\u001b[0m \u001b[0mcheck_scoring\u001b[0m\u001b[1;33m(\u001b[0m\u001b[0mestimator\u001b[0m\u001b[1;33m,\u001b[0m \u001b[0mscoring\u001b[0m\u001b[1;33m=\u001b[0m\u001b[0mscoring\u001b[0m\u001b[1;33m)\u001b[0m\u001b[1;33m\u001b[0m\u001b[1;33m\u001b[0m\u001b[0m\n\u001b[0;32m    439\u001b[0m \u001b[1;33m\u001b[0m\u001b[0m\n\u001b[1;32m--> 440\u001b[1;33m     cv_results = cross_validate(estimator=estimator, X=X, y=y, groups=groups,\n\u001b[0m\u001b[0;32m    441\u001b[0m                                 \u001b[0mscoring\u001b[0m\u001b[1;33m=\u001b[0m\u001b[1;33m{\u001b[0m\u001b[1;34m'score'\u001b[0m\u001b[1;33m:\u001b[0m \u001b[0mscorer\u001b[0m\u001b[1;33m}\u001b[0m\u001b[1;33m,\u001b[0m \u001b[0mcv\u001b[0m\u001b[1;33m=\u001b[0m\u001b[0mcv\u001b[0m\u001b[1;33m,\u001b[0m\u001b[1;33m\u001b[0m\u001b[1;33m\u001b[0m\u001b[0m\n\u001b[0;32m    442\u001b[0m                                 \u001b[0mn_jobs\u001b[0m\u001b[1;33m=\u001b[0m\u001b[0mn_jobs\u001b[0m\u001b[1;33m,\u001b[0m \u001b[0mverbose\u001b[0m\u001b[1;33m=\u001b[0m\u001b[0mverbose\u001b[0m\u001b[1;33m,\u001b[0m\u001b[1;33m\u001b[0m\u001b[1;33m\u001b[0m\u001b[0m\n",
      "\u001b[1;32m~\\Anaconda3\\lib\\site-packages\\sklearn\\utils\\validation.py\u001b[0m in \u001b[0;36minner_f\u001b[1;34m(*args, **kwargs)\u001b[0m\n\u001b[0;32m     61\u001b[0m             \u001b[0mextra_args\u001b[0m \u001b[1;33m=\u001b[0m \u001b[0mlen\u001b[0m\u001b[1;33m(\u001b[0m\u001b[0margs\u001b[0m\u001b[1;33m)\u001b[0m \u001b[1;33m-\u001b[0m \u001b[0mlen\u001b[0m\u001b[1;33m(\u001b[0m\u001b[0mall_args\u001b[0m\u001b[1;33m)\u001b[0m\u001b[1;33m\u001b[0m\u001b[1;33m\u001b[0m\u001b[0m\n\u001b[0;32m     62\u001b[0m             \u001b[1;32mif\u001b[0m \u001b[0mextra_args\u001b[0m \u001b[1;33m<=\u001b[0m \u001b[1;36m0\u001b[0m\u001b[1;33m:\u001b[0m\u001b[1;33m\u001b[0m\u001b[1;33m\u001b[0m\u001b[0m\n\u001b[1;32m---> 63\u001b[1;33m                 \u001b[1;32mreturn\u001b[0m \u001b[0mf\u001b[0m\u001b[1;33m(\u001b[0m\u001b[1;33m*\u001b[0m\u001b[0margs\u001b[0m\u001b[1;33m,\u001b[0m \u001b[1;33m**\u001b[0m\u001b[0mkwargs\u001b[0m\u001b[1;33m)\u001b[0m\u001b[1;33m\u001b[0m\u001b[1;33m\u001b[0m\u001b[0m\n\u001b[0m\u001b[0;32m     64\u001b[0m \u001b[1;33m\u001b[0m\u001b[0m\n\u001b[0;32m     65\u001b[0m             \u001b[1;31m# extra_args > 0\u001b[0m\u001b[1;33m\u001b[0m\u001b[1;33m\u001b[0m\u001b[1;33m\u001b[0m\u001b[0m\n",
      "\u001b[1;32m~\\Anaconda3\\lib\\site-packages\\sklearn\\model_selection\\_validation.py\u001b[0m in \u001b[0;36mcross_validate\u001b[1;34m(estimator, X, y, groups, scoring, cv, n_jobs, verbose, fit_params, pre_dispatch, return_train_score, return_estimator, error_score)\u001b[0m\n\u001b[0;32m    244\u001b[0m     parallel = Parallel(n_jobs=n_jobs, verbose=verbose,\n\u001b[0;32m    245\u001b[0m                         pre_dispatch=pre_dispatch)\n\u001b[1;32m--> 246\u001b[1;33m     results = parallel(\n\u001b[0m\u001b[0;32m    247\u001b[0m         delayed(_fit_and_score)(\n\u001b[0;32m    248\u001b[0m             \u001b[0mclone\u001b[0m\u001b[1;33m(\u001b[0m\u001b[0mestimator\u001b[0m\u001b[1;33m)\u001b[0m\u001b[1;33m,\u001b[0m \u001b[0mX\u001b[0m\u001b[1;33m,\u001b[0m \u001b[0my\u001b[0m\u001b[1;33m,\u001b[0m \u001b[0mscorers\u001b[0m\u001b[1;33m,\u001b[0m \u001b[0mtrain\u001b[0m\u001b[1;33m,\u001b[0m \u001b[0mtest\u001b[0m\u001b[1;33m,\u001b[0m \u001b[0mverbose\u001b[0m\u001b[1;33m,\u001b[0m \u001b[1;32mNone\u001b[0m\u001b[1;33m,\u001b[0m\u001b[1;33m\u001b[0m\u001b[1;33m\u001b[0m\u001b[0m\n",
      "\u001b[1;32m~\\Anaconda3\\lib\\site-packages\\joblib\\parallel.py\u001b[0m in \u001b[0;36m__call__\u001b[1;34m(self, iterable)\u001b[0m\n\u001b[0;32m   1039\u001b[0m             \u001b[1;31m# remaining jobs.\u001b[0m\u001b[1;33m\u001b[0m\u001b[1;33m\u001b[0m\u001b[1;33m\u001b[0m\u001b[0m\n\u001b[0;32m   1040\u001b[0m             \u001b[0mself\u001b[0m\u001b[1;33m.\u001b[0m\u001b[0m_iterating\u001b[0m \u001b[1;33m=\u001b[0m \u001b[1;32mFalse\u001b[0m\u001b[1;33m\u001b[0m\u001b[1;33m\u001b[0m\u001b[0m\n\u001b[1;32m-> 1041\u001b[1;33m             \u001b[1;32mif\u001b[0m \u001b[0mself\u001b[0m\u001b[1;33m.\u001b[0m\u001b[0mdispatch_one_batch\u001b[0m\u001b[1;33m(\u001b[0m\u001b[0miterator\u001b[0m\u001b[1;33m)\u001b[0m\u001b[1;33m:\u001b[0m\u001b[1;33m\u001b[0m\u001b[1;33m\u001b[0m\u001b[0m\n\u001b[0m\u001b[0;32m   1042\u001b[0m                 \u001b[0mself\u001b[0m\u001b[1;33m.\u001b[0m\u001b[0m_iterating\u001b[0m \u001b[1;33m=\u001b[0m \u001b[0mself\u001b[0m\u001b[1;33m.\u001b[0m\u001b[0m_original_iterator\u001b[0m \u001b[1;32mis\u001b[0m \u001b[1;32mnot\u001b[0m \u001b[1;32mNone\u001b[0m\u001b[1;33m\u001b[0m\u001b[1;33m\u001b[0m\u001b[0m\n\u001b[0;32m   1043\u001b[0m \u001b[1;33m\u001b[0m\u001b[0m\n",
      "\u001b[1;32m~\\Anaconda3\\lib\\site-packages\\joblib\\parallel.py\u001b[0m in \u001b[0;36mdispatch_one_batch\u001b[1;34m(self, iterator)\u001b[0m\n\u001b[0;32m    829\u001b[0m                 \u001b[0mbig_batch_size\u001b[0m \u001b[1;33m=\u001b[0m \u001b[0mbatch_size\u001b[0m \u001b[1;33m*\u001b[0m \u001b[0mn_jobs\u001b[0m\u001b[1;33m\u001b[0m\u001b[1;33m\u001b[0m\u001b[0m\n\u001b[0;32m    830\u001b[0m \u001b[1;33m\u001b[0m\u001b[0m\n\u001b[1;32m--> 831\u001b[1;33m                 \u001b[0mislice\u001b[0m \u001b[1;33m=\u001b[0m \u001b[0mlist\u001b[0m\u001b[1;33m(\u001b[0m\u001b[0mitertools\u001b[0m\u001b[1;33m.\u001b[0m\u001b[0mislice\u001b[0m\u001b[1;33m(\u001b[0m\u001b[0miterator\u001b[0m\u001b[1;33m,\u001b[0m \u001b[0mbig_batch_size\u001b[0m\u001b[1;33m)\u001b[0m\u001b[1;33m)\u001b[0m\u001b[1;33m\u001b[0m\u001b[1;33m\u001b[0m\u001b[0m\n\u001b[0m\u001b[0;32m    832\u001b[0m                 \u001b[1;32mif\u001b[0m \u001b[0mlen\u001b[0m\u001b[1;33m(\u001b[0m\u001b[0mislice\u001b[0m\u001b[1;33m)\u001b[0m \u001b[1;33m==\u001b[0m \u001b[1;36m0\u001b[0m\u001b[1;33m:\u001b[0m\u001b[1;33m\u001b[0m\u001b[1;33m\u001b[0m\u001b[0m\n\u001b[0;32m    833\u001b[0m                     \u001b[1;32mreturn\u001b[0m \u001b[1;32mFalse\u001b[0m\u001b[1;33m\u001b[0m\u001b[1;33m\u001b[0m\u001b[0m\n",
      "\u001b[1;32m~\\Anaconda3\\lib\\site-packages\\sklearn\\model_selection\\_validation.py\u001b[0m in \u001b[0;36m<genexpr>\u001b[1;34m(.0)\u001b[0m\n\u001b[0;32m    244\u001b[0m     parallel = Parallel(n_jobs=n_jobs, verbose=verbose,\n\u001b[0;32m    245\u001b[0m                         pre_dispatch=pre_dispatch)\n\u001b[1;32m--> 246\u001b[1;33m     results = parallel(\n\u001b[0m\u001b[0;32m    247\u001b[0m         delayed(_fit_and_score)(\n\u001b[0;32m    248\u001b[0m             \u001b[0mclone\u001b[0m\u001b[1;33m(\u001b[0m\u001b[0mestimator\u001b[0m\u001b[1;33m)\u001b[0m\u001b[1;33m,\u001b[0m \u001b[0mX\u001b[0m\u001b[1;33m,\u001b[0m \u001b[0my\u001b[0m\u001b[1;33m,\u001b[0m \u001b[0mscorers\u001b[0m\u001b[1;33m,\u001b[0m \u001b[0mtrain\u001b[0m\u001b[1;33m,\u001b[0m \u001b[0mtest\u001b[0m\u001b[1;33m,\u001b[0m \u001b[0mverbose\u001b[0m\u001b[1;33m,\u001b[0m \u001b[1;32mNone\u001b[0m\u001b[1;33m,\u001b[0m\u001b[1;33m\u001b[0m\u001b[1;33m\u001b[0m\u001b[0m\n",
      "\u001b[1;32m~\\Anaconda3\\lib\\site-packages\\sklearn\\model_selection\\_split.py\u001b[0m in \u001b[0;36msplit\u001b[1;34m(self, X, y, groups)\u001b[0m\n\u001b[0;32m    330\u001b[0m                 .format(self.n_splits, n_samples))\n\u001b[0;32m    331\u001b[0m \u001b[1;33m\u001b[0m\u001b[0m\n\u001b[1;32m--> 332\u001b[1;33m         \u001b[1;32mfor\u001b[0m \u001b[0mtrain\u001b[0m\u001b[1;33m,\u001b[0m \u001b[0mtest\u001b[0m \u001b[1;32min\u001b[0m \u001b[0msuper\u001b[0m\u001b[1;33m(\u001b[0m\u001b[1;33m)\u001b[0m\u001b[1;33m.\u001b[0m\u001b[0msplit\u001b[0m\u001b[1;33m(\u001b[0m\u001b[0mX\u001b[0m\u001b[1;33m,\u001b[0m \u001b[0my\u001b[0m\u001b[1;33m,\u001b[0m \u001b[0mgroups\u001b[0m\u001b[1;33m)\u001b[0m\u001b[1;33m:\u001b[0m\u001b[1;33m\u001b[0m\u001b[1;33m\u001b[0m\u001b[0m\n\u001b[0m\u001b[0;32m    333\u001b[0m             \u001b[1;32myield\u001b[0m \u001b[0mtrain\u001b[0m\u001b[1;33m,\u001b[0m \u001b[0mtest\u001b[0m\u001b[1;33m\u001b[0m\u001b[1;33m\u001b[0m\u001b[0m\n\u001b[0;32m    334\u001b[0m \u001b[1;33m\u001b[0m\u001b[0m\n",
      "\u001b[1;32m~\\Anaconda3\\lib\\site-packages\\sklearn\\model_selection\\_split.py\u001b[0m in \u001b[0;36msplit\u001b[1;34m(self, X, y, groups)\u001b[0m\n\u001b[0;32m     78\u001b[0m         \u001b[0mX\u001b[0m\u001b[1;33m,\u001b[0m \u001b[0my\u001b[0m\u001b[1;33m,\u001b[0m \u001b[0mgroups\u001b[0m \u001b[1;33m=\u001b[0m \u001b[0mindexable\u001b[0m\u001b[1;33m(\u001b[0m\u001b[0mX\u001b[0m\u001b[1;33m,\u001b[0m \u001b[0my\u001b[0m\u001b[1;33m,\u001b[0m \u001b[0mgroups\u001b[0m\u001b[1;33m)\u001b[0m\u001b[1;33m\u001b[0m\u001b[1;33m\u001b[0m\u001b[0m\n\u001b[0;32m     79\u001b[0m         \u001b[0mindices\u001b[0m \u001b[1;33m=\u001b[0m \u001b[0mnp\u001b[0m\u001b[1;33m.\u001b[0m\u001b[0marange\u001b[0m\u001b[1;33m(\u001b[0m\u001b[0m_num_samples\u001b[0m\u001b[1;33m(\u001b[0m\u001b[0mX\u001b[0m\u001b[1;33m)\u001b[0m\u001b[1;33m)\u001b[0m\u001b[1;33m\u001b[0m\u001b[1;33m\u001b[0m\u001b[0m\n\u001b[1;32m---> 80\u001b[1;33m         \u001b[1;32mfor\u001b[0m \u001b[0mtest_index\u001b[0m \u001b[1;32min\u001b[0m \u001b[0mself\u001b[0m\u001b[1;33m.\u001b[0m\u001b[0m_iter_test_masks\u001b[0m\u001b[1;33m(\u001b[0m\u001b[0mX\u001b[0m\u001b[1;33m,\u001b[0m \u001b[0my\u001b[0m\u001b[1;33m,\u001b[0m \u001b[0mgroups\u001b[0m\u001b[1;33m)\u001b[0m\u001b[1;33m:\u001b[0m\u001b[1;33m\u001b[0m\u001b[1;33m\u001b[0m\u001b[0m\n\u001b[0m\u001b[0;32m     81\u001b[0m             \u001b[0mtrain_index\u001b[0m \u001b[1;33m=\u001b[0m \u001b[0mindices\u001b[0m\u001b[1;33m[\u001b[0m\u001b[0mnp\u001b[0m\u001b[1;33m.\u001b[0m\u001b[0mlogical_not\u001b[0m\u001b[1;33m(\u001b[0m\u001b[0mtest_index\u001b[0m\u001b[1;33m)\u001b[0m\u001b[1;33m]\u001b[0m\u001b[1;33m\u001b[0m\u001b[1;33m\u001b[0m\u001b[0m\n\u001b[0;32m     82\u001b[0m             \u001b[0mtest_index\u001b[0m \u001b[1;33m=\u001b[0m \u001b[0mindices\u001b[0m\u001b[1;33m[\u001b[0m\u001b[0mtest_index\u001b[0m\u001b[1;33m]\u001b[0m\u001b[1;33m\u001b[0m\u001b[1;33m\u001b[0m\u001b[0m\n",
      "\u001b[1;32m~\\Anaconda3\\lib\\site-packages\\sklearn\\model_selection\\_split.py\u001b[0m in \u001b[0;36m_iter_test_masks\u001b[1;34m(self, X, y, groups)\u001b[0m\n\u001b[0;32m    691\u001b[0m \u001b[1;33m\u001b[0m\u001b[0m\n\u001b[0;32m    692\u001b[0m     \u001b[1;32mdef\u001b[0m \u001b[0m_iter_test_masks\u001b[0m\u001b[1;33m(\u001b[0m\u001b[0mself\u001b[0m\u001b[1;33m,\u001b[0m \u001b[0mX\u001b[0m\u001b[1;33m,\u001b[0m \u001b[0my\u001b[0m\u001b[1;33m=\u001b[0m\u001b[1;32mNone\u001b[0m\u001b[1;33m,\u001b[0m \u001b[0mgroups\u001b[0m\u001b[1;33m=\u001b[0m\u001b[1;32mNone\u001b[0m\u001b[1;33m)\u001b[0m\u001b[1;33m:\u001b[0m\u001b[1;33m\u001b[0m\u001b[1;33m\u001b[0m\u001b[0m\n\u001b[1;32m--> 693\u001b[1;33m         \u001b[0mtest_folds\u001b[0m \u001b[1;33m=\u001b[0m \u001b[0mself\u001b[0m\u001b[1;33m.\u001b[0m\u001b[0m_make_test_folds\u001b[0m\u001b[1;33m(\u001b[0m\u001b[0mX\u001b[0m\u001b[1;33m,\u001b[0m \u001b[0my\u001b[0m\u001b[1;33m)\u001b[0m\u001b[1;33m\u001b[0m\u001b[1;33m\u001b[0m\u001b[0m\n\u001b[0m\u001b[0;32m    694\u001b[0m         \u001b[1;32mfor\u001b[0m \u001b[0mi\u001b[0m \u001b[1;32min\u001b[0m \u001b[0mrange\u001b[0m\u001b[1;33m(\u001b[0m\u001b[0mself\u001b[0m\u001b[1;33m.\u001b[0m\u001b[0mn_splits\u001b[0m\u001b[1;33m)\u001b[0m\u001b[1;33m:\u001b[0m\u001b[1;33m\u001b[0m\u001b[1;33m\u001b[0m\u001b[0m\n\u001b[0;32m    695\u001b[0m             \u001b[1;32myield\u001b[0m \u001b[0mtest_folds\u001b[0m \u001b[1;33m==\u001b[0m \u001b[0mi\u001b[0m\u001b[1;33m\u001b[0m\u001b[1;33m\u001b[0m\u001b[0m\n",
      "\u001b[1;32m~\\Anaconda3\\lib\\site-packages\\sklearn\\model_selection\\_split.py\u001b[0m in \u001b[0;36m_make_test_folds\u001b[1;34m(self, X, y)\u001b[0m\n\u001b[0;32m    660\u001b[0m         \u001b[0mmin_groups\u001b[0m \u001b[1;33m=\u001b[0m \u001b[0mnp\u001b[0m\u001b[1;33m.\u001b[0m\u001b[0mmin\u001b[0m\u001b[1;33m(\u001b[0m\u001b[0my_counts\u001b[0m\u001b[1;33m)\u001b[0m\u001b[1;33m\u001b[0m\u001b[1;33m\u001b[0m\u001b[0m\n\u001b[0;32m    661\u001b[0m         \u001b[1;32mif\u001b[0m \u001b[0mnp\u001b[0m\u001b[1;33m.\u001b[0m\u001b[0mall\u001b[0m\u001b[1;33m(\u001b[0m\u001b[0mself\u001b[0m\u001b[1;33m.\u001b[0m\u001b[0mn_splits\u001b[0m \u001b[1;33m>\u001b[0m \u001b[0my_counts\u001b[0m\u001b[1;33m)\u001b[0m\u001b[1;33m:\u001b[0m\u001b[1;33m\u001b[0m\u001b[1;33m\u001b[0m\u001b[0m\n\u001b[1;32m--> 662\u001b[1;33m             raise ValueError(\"n_splits=%d cannot be greater than the\"\n\u001b[0m\u001b[0;32m    663\u001b[0m                              \u001b[1;34m\" number of members in each class.\"\u001b[0m\u001b[1;33m\u001b[0m\u001b[1;33m\u001b[0m\u001b[0m\n\u001b[0;32m    664\u001b[0m                              % (self.n_splits))\n",
      "\u001b[1;31mValueError\u001b[0m: n_splits=6 cannot be greater than the number of members in each class."
     ]
    }
   ],
   "source": [
    "pred_lr = lr.predict(x_test)\n",
    "from sklearn.model_selection import cross_val_score\n",
    "lss = accuracy_score(y_test,pred_lr)\n",
    "for j in range(2,10):\n",
    "    lsscore = cross_val_score(lr,x,y,cv=j)\n",
    "    lsc = lsscore.mean()\n",
    "    print (\"At cv:- \", j)\n",
    "    print (\"Cross validation score is: -\",lsc*100)\n",
    "    print(\"accuracy _score is :-\",lss*100)\n",
    "    print(\"\\n\")"
   ]
  },
  {
   "cell_type": "markdown",
   "id": "b91c6069",
   "metadata": {},
   "source": [
    "Since cross validation score accuracy score are almost same. we are heading with a good approach"
   ]
  },
  {
   "cell_type": "code",
   "execution_count": 82,
   "id": "f2713306",
   "metadata": {},
   "outputs": [
    {
     "ename": "ValueError",
     "evalue": "n_splits=6 cannot be greater than the number of members in each class.",
     "output_type": "error",
     "traceback": [
      "\u001b[1;31m---------------------------------------------------------------------------\u001b[0m",
      "\u001b[1;31mEmpty\u001b[0m                                     Traceback (most recent call last)",
      "\u001b[1;32m~\\Anaconda3\\lib\\site-packages\\joblib\\parallel.py\u001b[0m in \u001b[0;36mdispatch_one_batch\u001b[1;34m(self, iterator)\u001b[0m\n\u001b[0;32m    819\u001b[0m             \u001b[1;32mtry\u001b[0m\u001b[1;33m:\u001b[0m\u001b[1;33m\u001b[0m\u001b[1;33m\u001b[0m\u001b[0m\n\u001b[1;32m--> 820\u001b[1;33m                 \u001b[0mtasks\u001b[0m \u001b[1;33m=\u001b[0m \u001b[0mself\u001b[0m\u001b[1;33m.\u001b[0m\u001b[0m_ready_batches\u001b[0m\u001b[1;33m.\u001b[0m\u001b[0mget\u001b[0m\u001b[1;33m(\u001b[0m\u001b[0mblock\u001b[0m\u001b[1;33m=\u001b[0m\u001b[1;32mFalse\u001b[0m\u001b[1;33m)\u001b[0m\u001b[1;33m\u001b[0m\u001b[1;33m\u001b[0m\u001b[0m\n\u001b[0m\u001b[0;32m    821\u001b[0m             \u001b[1;32mexcept\u001b[0m \u001b[0mqueue\u001b[0m\u001b[1;33m.\u001b[0m\u001b[0mEmpty\u001b[0m\u001b[1;33m:\u001b[0m\u001b[1;33m\u001b[0m\u001b[1;33m\u001b[0m\u001b[0m\n",
      "\u001b[1;32m~\\Anaconda3\\lib\\queue.py\u001b[0m in \u001b[0;36mget\u001b[1;34m(self, block, timeout)\u001b[0m\n\u001b[0;32m    166\u001b[0m                 \u001b[1;32mif\u001b[0m \u001b[1;32mnot\u001b[0m \u001b[0mself\u001b[0m\u001b[1;33m.\u001b[0m\u001b[0m_qsize\u001b[0m\u001b[1;33m(\u001b[0m\u001b[1;33m)\u001b[0m\u001b[1;33m:\u001b[0m\u001b[1;33m\u001b[0m\u001b[1;33m\u001b[0m\u001b[0m\n\u001b[1;32m--> 167\u001b[1;33m                     \u001b[1;32mraise\u001b[0m \u001b[0mEmpty\u001b[0m\u001b[1;33m\u001b[0m\u001b[1;33m\u001b[0m\u001b[0m\n\u001b[0m\u001b[0;32m    168\u001b[0m             \u001b[1;32melif\u001b[0m \u001b[0mtimeout\u001b[0m \u001b[1;32mis\u001b[0m \u001b[1;32mNone\u001b[0m\u001b[1;33m:\u001b[0m\u001b[1;33m\u001b[0m\u001b[1;33m\u001b[0m\u001b[0m\n",
      "\u001b[1;31mEmpty\u001b[0m: ",
      "\nDuring handling of the above exception, another exception occurred:\n",
      "\u001b[1;31mValueError\u001b[0m                                Traceback (most recent call last)",
      "\u001b[1;32m<ipython-input-82-47dc363f1a97>\u001b[0m in \u001b[0;36m<module>\u001b[1;34m\u001b[0m\n\u001b[1;32m----> 1\u001b[1;33m \u001b[0mlsscore_selected\u001b[0m \u001b[1;33m=\u001b[0m \u001b[0mcross_val_score\u001b[0m\u001b[1;33m(\u001b[0m\u001b[0mlr\u001b[0m\u001b[1;33m,\u001b[0m \u001b[0mx\u001b[0m\u001b[1;33m,\u001b[0m \u001b[0my\u001b[0m\u001b[1;33m,\u001b[0m \u001b[0mcv\u001b[0m \u001b[1;33m=\u001b[0m \u001b[1;36m6\u001b[0m\u001b[1;33m)\u001b[0m\u001b[1;33m.\u001b[0m\u001b[0mmean\u001b[0m\u001b[1;33m(\u001b[0m\u001b[1;33m)\u001b[0m\u001b[1;33m\u001b[0m\u001b[1;33m\u001b[0m\u001b[0m\n\u001b[0m\u001b[0;32m      2\u001b[0m \u001b[0mprint\u001b[0m\u001b[1;33m(\u001b[0m\u001b[1;34m\"this cv score is:\"\u001b[0m\u001b[1;33m,\u001b[0m \u001b[0mlsscore_selected\u001b[0m\u001b[1;33m,\u001b[0m \u001b[1;34m\"\\nThe accuracy score is:\"\u001b[0m\u001b[1;33m,\u001b[0m \u001b[0mlss\u001b[0m\u001b[1;33m)\u001b[0m\u001b[1;33m\u001b[0m\u001b[1;33m\u001b[0m\u001b[0m\n",
      "\u001b[1;32m~\\Anaconda3\\lib\\site-packages\\sklearn\\utils\\validation.py\u001b[0m in \u001b[0;36minner_f\u001b[1;34m(*args, **kwargs)\u001b[0m\n\u001b[0;32m     61\u001b[0m             \u001b[0mextra_args\u001b[0m \u001b[1;33m=\u001b[0m \u001b[0mlen\u001b[0m\u001b[1;33m(\u001b[0m\u001b[0margs\u001b[0m\u001b[1;33m)\u001b[0m \u001b[1;33m-\u001b[0m \u001b[0mlen\u001b[0m\u001b[1;33m(\u001b[0m\u001b[0mall_args\u001b[0m\u001b[1;33m)\u001b[0m\u001b[1;33m\u001b[0m\u001b[1;33m\u001b[0m\u001b[0m\n\u001b[0;32m     62\u001b[0m             \u001b[1;32mif\u001b[0m \u001b[0mextra_args\u001b[0m \u001b[1;33m<=\u001b[0m \u001b[1;36m0\u001b[0m\u001b[1;33m:\u001b[0m\u001b[1;33m\u001b[0m\u001b[1;33m\u001b[0m\u001b[0m\n\u001b[1;32m---> 63\u001b[1;33m                 \u001b[1;32mreturn\u001b[0m \u001b[0mf\u001b[0m\u001b[1;33m(\u001b[0m\u001b[1;33m*\u001b[0m\u001b[0margs\u001b[0m\u001b[1;33m,\u001b[0m \u001b[1;33m**\u001b[0m\u001b[0mkwargs\u001b[0m\u001b[1;33m)\u001b[0m\u001b[1;33m\u001b[0m\u001b[1;33m\u001b[0m\u001b[0m\n\u001b[0m\u001b[0;32m     64\u001b[0m \u001b[1;33m\u001b[0m\u001b[0m\n\u001b[0;32m     65\u001b[0m             \u001b[1;31m# extra_args > 0\u001b[0m\u001b[1;33m\u001b[0m\u001b[1;33m\u001b[0m\u001b[1;33m\u001b[0m\u001b[0m\n",
      "\u001b[1;32m~\\Anaconda3\\lib\\site-packages\\sklearn\\model_selection\\_validation.py\u001b[0m in \u001b[0;36mcross_val_score\u001b[1;34m(estimator, X, y, groups, scoring, cv, n_jobs, verbose, fit_params, pre_dispatch, error_score)\u001b[0m\n\u001b[0;32m    438\u001b[0m     \u001b[0mscorer\u001b[0m \u001b[1;33m=\u001b[0m \u001b[0mcheck_scoring\u001b[0m\u001b[1;33m(\u001b[0m\u001b[0mestimator\u001b[0m\u001b[1;33m,\u001b[0m \u001b[0mscoring\u001b[0m\u001b[1;33m=\u001b[0m\u001b[0mscoring\u001b[0m\u001b[1;33m)\u001b[0m\u001b[1;33m\u001b[0m\u001b[1;33m\u001b[0m\u001b[0m\n\u001b[0;32m    439\u001b[0m \u001b[1;33m\u001b[0m\u001b[0m\n\u001b[1;32m--> 440\u001b[1;33m     cv_results = cross_validate(estimator=estimator, X=X, y=y, groups=groups,\n\u001b[0m\u001b[0;32m    441\u001b[0m                                 \u001b[0mscoring\u001b[0m\u001b[1;33m=\u001b[0m\u001b[1;33m{\u001b[0m\u001b[1;34m'score'\u001b[0m\u001b[1;33m:\u001b[0m \u001b[0mscorer\u001b[0m\u001b[1;33m}\u001b[0m\u001b[1;33m,\u001b[0m \u001b[0mcv\u001b[0m\u001b[1;33m=\u001b[0m\u001b[0mcv\u001b[0m\u001b[1;33m,\u001b[0m\u001b[1;33m\u001b[0m\u001b[1;33m\u001b[0m\u001b[0m\n\u001b[0;32m    442\u001b[0m                                 \u001b[0mn_jobs\u001b[0m\u001b[1;33m=\u001b[0m\u001b[0mn_jobs\u001b[0m\u001b[1;33m,\u001b[0m \u001b[0mverbose\u001b[0m\u001b[1;33m=\u001b[0m\u001b[0mverbose\u001b[0m\u001b[1;33m,\u001b[0m\u001b[1;33m\u001b[0m\u001b[1;33m\u001b[0m\u001b[0m\n",
      "\u001b[1;32m~\\Anaconda3\\lib\\site-packages\\sklearn\\utils\\validation.py\u001b[0m in \u001b[0;36minner_f\u001b[1;34m(*args, **kwargs)\u001b[0m\n\u001b[0;32m     61\u001b[0m             \u001b[0mextra_args\u001b[0m \u001b[1;33m=\u001b[0m \u001b[0mlen\u001b[0m\u001b[1;33m(\u001b[0m\u001b[0margs\u001b[0m\u001b[1;33m)\u001b[0m \u001b[1;33m-\u001b[0m \u001b[0mlen\u001b[0m\u001b[1;33m(\u001b[0m\u001b[0mall_args\u001b[0m\u001b[1;33m)\u001b[0m\u001b[1;33m\u001b[0m\u001b[1;33m\u001b[0m\u001b[0m\n\u001b[0;32m     62\u001b[0m             \u001b[1;32mif\u001b[0m \u001b[0mextra_args\u001b[0m \u001b[1;33m<=\u001b[0m \u001b[1;36m0\u001b[0m\u001b[1;33m:\u001b[0m\u001b[1;33m\u001b[0m\u001b[1;33m\u001b[0m\u001b[0m\n\u001b[1;32m---> 63\u001b[1;33m                 \u001b[1;32mreturn\u001b[0m \u001b[0mf\u001b[0m\u001b[1;33m(\u001b[0m\u001b[1;33m*\u001b[0m\u001b[0margs\u001b[0m\u001b[1;33m,\u001b[0m \u001b[1;33m**\u001b[0m\u001b[0mkwargs\u001b[0m\u001b[1;33m)\u001b[0m\u001b[1;33m\u001b[0m\u001b[1;33m\u001b[0m\u001b[0m\n\u001b[0m\u001b[0;32m     64\u001b[0m \u001b[1;33m\u001b[0m\u001b[0m\n\u001b[0;32m     65\u001b[0m             \u001b[1;31m# extra_args > 0\u001b[0m\u001b[1;33m\u001b[0m\u001b[1;33m\u001b[0m\u001b[1;33m\u001b[0m\u001b[0m\n",
      "\u001b[1;32m~\\Anaconda3\\lib\\site-packages\\sklearn\\model_selection\\_validation.py\u001b[0m in \u001b[0;36mcross_validate\u001b[1;34m(estimator, X, y, groups, scoring, cv, n_jobs, verbose, fit_params, pre_dispatch, return_train_score, return_estimator, error_score)\u001b[0m\n\u001b[0;32m    244\u001b[0m     parallel = Parallel(n_jobs=n_jobs, verbose=verbose,\n\u001b[0;32m    245\u001b[0m                         pre_dispatch=pre_dispatch)\n\u001b[1;32m--> 246\u001b[1;33m     results = parallel(\n\u001b[0m\u001b[0;32m    247\u001b[0m         delayed(_fit_and_score)(\n\u001b[0;32m    248\u001b[0m             \u001b[0mclone\u001b[0m\u001b[1;33m(\u001b[0m\u001b[0mestimator\u001b[0m\u001b[1;33m)\u001b[0m\u001b[1;33m,\u001b[0m \u001b[0mX\u001b[0m\u001b[1;33m,\u001b[0m \u001b[0my\u001b[0m\u001b[1;33m,\u001b[0m \u001b[0mscorers\u001b[0m\u001b[1;33m,\u001b[0m \u001b[0mtrain\u001b[0m\u001b[1;33m,\u001b[0m \u001b[0mtest\u001b[0m\u001b[1;33m,\u001b[0m \u001b[0mverbose\u001b[0m\u001b[1;33m,\u001b[0m \u001b[1;32mNone\u001b[0m\u001b[1;33m,\u001b[0m\u001b[1;33m\u001b[0m\u001b[1;33m\u001b[0m\u001b[0m\n",
      "\u001b[1;32m~\\Anaconda3\\lib\\site-packages\\joblib\\parallel.py\u001b[0m in \u001b[0;36m__call__\u001b[1;34m(self, iterable)\u001b[0m\n\u001b[0;32m   1039\u001b[0m             \u001b[1;31m# remaining jobs.\u001b[0m\u001b[1;33m\u001b[0m\u001b[1;33m\u001b[0m\u001b[1;33m\u001b[0m\u001b[0m\n\u001b[0;32m   1040\u001b[0m             \u001b[0mself\u001b[0m\u001b[1;33m.\u001b[0m\u001b[0m_iterating\u001b[0m \u001b[1;33m=\u001b[0m \u001b[1;32mFalse\u001b[0m\u001b[1;33m\u001b[0m\u001b[1;33m\u001b[0m\u001b[0m\n\u001b[1;32m-> 1041\u001b[1;33m             \u001b[1;32mif\u001b[0m \u001b[0mself\u001b[0m\u001b[1;33m.\u001b[0m\u001b[0mdispatch_one_batch\u001b[0m\u001b[1;33m(\u001b[0m\u001b[0miterator\u001b[0m\u001b[1;33m)\u001b[0m\u001b[1;33m:\u001b[0m\u001b[1;33m\u001b[0m\u001b[1;33m\u001b[0m\u001b[0m\n\u001b[0m\u001b[0;32m   1042\u001b[0m                 \u001b[0mself\u001b[0m\u001b[1;33m.\u001b[0m\u001b[0m_iterating\u001b[0m \u001b[1;33m=\u001b[0m \u001b[0mself\u001b[0m\u001b[1;33m.\u001b[0m\u001b[0m_original_iterator\u001b[0m \u001b[1;32mis\u001b[0m \u001b[1;32mnot\u001b[0m \u001b[1;32mNone\u001b[0m\u001b[1;33m\u001b[0m\u001b[1;33m\u001b[0m\u001b[0m\n\u001b[0;32m   1043\u001b[0m \u001b[1;33m\u001b[0m\u001b[0m\n",
      "\u001b[1;32m~\\Anaconda3\\lib\\site-packages\\joblib\\parallel.py\u001b[0m in \u001b[0;36mdispatch_one_batch\u001b[1;34m(self, iterator)\u001b[0m\n\u001b[0;32m    829\u001b[0m                 \u001b[0mbig_batch_size\u001b[0m \u001b[1;33m=\u001b[0m \u001b[0mbatch_size\u001b[0m \u001b[1;33m*\u001b[0m \u001b[0mn_jobs\u001b[0m\u001b[1;33m\u001b[0m\u001b[1;33m\u001b[0m\u001b[0m\n\u001b[0;32m    830\u001b[0m \u001b[1;33m\u001b[0m\u001b[0m\n\u001b[1;32m--> 831\u001b[1;33m                 \u001b[0mislice\u001b[0m \u001b[1;33m=\u001b[0m \u001b[0mlist\u001b[0m\u001b[1;33m(\u001b[0m\u001b[0mitertools\u001b[0m\u001b[1;33m.\u001b[0m\u001b[0mislice\u001b[0m\u001b[1;33m(\u001b[0m\u001b[0miterator\u001b[0m\u001b[1;33m,\u001b[0m \u001b[0mbig_batch_size\u001b[0m\u001b[1;33m)\u001b[0m\u001b[1;33m)\u001b[0m\u001b[1;33m\u001b[0m\u001b[1;33m\u001b[0m\u001b[0m\n\u001b[0m\u001b[0;32m    832\u001b[0m                 \u001b[1;32mif\u001b[0m \u001b[0mlen\u001b[0m\u001b[1;33m(\u001b[0m\u001b[0mislice\u001b[0m\u001b[1;33m)\u001b[0m \u001b[1;33m==\u001b[0m \u001b[1;36m0\u001b[0m\u001b[1;33m:\u001b[0m\u001b[1;33m\u001b[0m\u001b[1;33m\u001b[0m\u001b[0m\n\u001b[0;32m    833\u001b[0m                     \u001b[1;32mreturn\u001b[0m \u001b[1;32mFalse\u001b[0m\u001b[1;33m\u001b[0m\u001b[1;33m\u001b[0m\u001b[0m\n",
      "\u001b[1;32m~\\Anaconda3\\lib\\site-packages\\sklearn\\model_selection\\_validation.py\u001b[0m in \u001b[0;36m<genexpr>\u001b[1;34m(.0)\u001b[0m\n\u001b[0;32m    244\u001b[0m     parallel = Parallel(n_jobs=n_jobs, verbose=verbose,\n\u001b[0;32m    245\u001b[0m                         pre_dispatch=pre_dispatch)\n\u001b[1;32m--> 246\u001b[1;33m     results = parallel(\n\u001b[0m\u001b[0;32m    247\u001b[0m         delayed(_fit_and_score)(\n\u001b[0;32m    248\u001b[0m             \u001b[0mclone\u001b[0m\u001b[1;33m(\u001b[0m\u001b[0mestimator\u001b[0m\u001b[1;33m)\u001b[0m\u001b[1;33m,\u001b[0m \u001b[0mX\u001b[0m\u001b[1;33m,\u001b[0m \u001b[0my\u001b[0m\u001b[1;33m,\u001b[0m \u001b[0mscorers\u001b[0m\u001b[1;33m,\u001b[0m \u001b[0mtrain\u001b[0m\u001b[1;33m,\u001b[0m \u001b[0mtest\u001b[0m\u001b[1;33m,\u001b[0m \u001b[0mverbose\u001b[0m\u001b[1;33m,\u001b[0m \u001b[1;32mNone\u001b[0m\u001b[1;33m,\u001b[0m\u001b[1;33m\u001b[0m\u001b[1;33m\u001b[0m\u001b[0m\n",
      "\u001b[1;32m~\\Anaconda3\\lib\\site-packages\\sklearn\\model_selection\\_split.py\u001b[0m in \u001b[0;36msplit\u001b[1;34m(self, X, y, groups)\u001b[0m\n\u001b[0;32m    330\u001b[0m                 .format(self.n_splits, n_samples))\n\u001b[0;32m    331\u001b[0m \u001b[1;33m\u001b[0m\u001b[0m\n\u001b[1;32m--> 332\u001b[1;33m         \u001b[1;32mfor\u001b[0m \u001b[0mtrain\u001b[0m\u001b[1;33m,\u001b[0m \u001b[0mtest\u001b[0m \u001b[1;32min\u001b[0m \u001b[0msuper\u001b[0m\u001b[1;33m(\u001b[0m\u001b[1;33m)\u001b[0m\u001b[1;33m.\u001b[0m\u001b[0msplit\u001b[0m\u001b[1;33m(\u001b[0m\u001b[0mX\u001b[0m\u001b[1;33m,\u001b[0m \u001b[0my\u001b[0m\u001b[1;33m,\u001b[0m \u001b[0mgroups\u001b[0m\u001b[1;33m)\u001b[0m\u001b[1;33m:\u001b[0m\u001b[1;33m\u001b[0m\u001b[1;33m\u001b[0m\u001b[0m\n\u001b[0m\u001b[0;32m    333\u001b[0m             \u001b[1;32myield\u001b[0m \u001b[0mtrain\u001b[0m\u001b[1;33m,\u001b[0m \u001b[0mtest\u001b[0m\u001b[1;33m\u001b[0m\u001b[1;33m\u001b[0m\u001b[0m\n\u001b[0;32m    334\u001b[0m \u001b[1;33m\u001b[0m\u001b[0m\n",
      "\u001b[1;32m~\\Anaconda3\\lib\\site-packages\\sklearn\\model_selection\\_split.py\u001b[0m in \u001b[0;36msplit\u001b[1;34m(self, X, y, groups)\u001b[0m\n\u001b[0;32m     78\u001b[0m         \u001b[0mX\u001b[0m\u001b[1;33m,\u001b[0m \u001b[0my\u001b[0m\u001b[1;33m,\u001b[0m \u001b[0mgroups\u001b[0m \u001b[1;33m=\u001b[0m \u001b[0mindexable\u001b[0m\u001b[1;33m(\u001b[0m\u001b[0mX\u001b[0m\u001b[1;33m,\u001b[0m \u001b[0my\u001b[0m\u001b[1;33m,\u001b[0m \u001b[0mgroups\u001b[0m\u001b[1;33m)\u001b[0m\u001b[1;33m\u001b[0m\u001b[1;33m\u001b[0m\u001b[0m\n\u001b[0;32m     79\u001b[0m         \u001b[0mindices\u001b[0m \u001b[1;33m=\u001b[0m \u001b[0mnp\u001b[0m\u001b[1;33m.\u001b[0m\u001b[0marange\u001b[0m\u001b[1;33m(\u001b[0m\u001b[0m_num_samples\u001b[0m\u001b[1;33m(\u001b[0m\u001b[0mX\u001b[0m\u001b[1;33m)\u001b[0m\u001b[1;33m)\u001b[0m\u001b[1;33m\u001b[0m\u001b[1;33m\u001b[0m\u001b[0m\n\u001b[1;32m---> 80\u001b[1;33m         \u001b[1;32mfor\u001b[0m \u001b[0mtest_index\u001b[0m \u001b[1;32min\u001b[0m \u001b[0mself\u001b[0m\u001b[1;33m.\u001b[0m\u001b[0m_iter_test_masks\u001b[0m\u001b[1;33m(\u001b[0m\u001b[0mX\u001b[0m\u001b[1;33m,\u001b[0m \u001b[0my\u001b[0m\u001b[1;33m,\u001b[0m \u001b[0mgroups\u001b[0m\u001b[1;33m)\u001b[0m\u001b[1;33m:\u001b[0m\u001b[1;33m\u001b[0m\u001b[1;33m\u001b[0m\u001b[0m\n\u001b[0m\u001b[0;32m     81\u001b[0m             \u001b[0mtrain_index\u001b[0m \u001b[1;33m=\u001b[0m \u001b[0mindices\u001b[0m\u001b[1;33m[\u001b[0m\u001b[0mnp\u001b[0m\u001b[1;33m.\u001b[0m\u001b[0mlogical_not\u001b[0m\u001b[1;33m(\u001b[0m\u001b[0mtest_index\u001b[0m\u001b[1;33m)\u001b[0m\u001b[1;33m]\u001b[0m\u001b[1;33m\u001b[0m\u001b[1;33m\u001b[0m\u001b[0m\n\u001b[0;32m     82\u001b[0m             \u001b[0mtest_index\u001b[0m \u001b[1;33m=\u001b[0m \u001b[0mindices\u001b[0m\u001b[1;33m[\u001b[0m\u001b[0mtest_index\u001b[0m\u001b[1;33m]\u001b[0m\u001b[1;33m\u001b[0m\u001b[1;33m\u001b[0m\u001b[0m\n",
      "\u001b[1;32m~\\Anaconda3\\lib\\site-packages\\sklearn\\model_selection\\_split.py\u001b[0m in \u001b[0;36m_iter_test_masks\u001b[1;34m(self, X, y, groups)\u001b[0m\n\u001b[0;32m    691\u001b[0m \u001b[1;33m\u001b[0m\u001b[0m\n\u001b[0;32m    692\u001b[0m     \u001b[1;32mdef\u001b[0m \u001b[0m_iter_test_masks\u001b[0m\u001b[1;33m(\u001b[0m\u001b[0mself\u001b[0m\u001b[1;33m,\u001b[0m \u001b[0mX\u001b[0m\u001b[1;33m,\u001b[0m \u001b[0my\u001b[0m\u001b[1;33m=\u001b[0m\u001b[1;32mNone\u001b[0m\u001b[1;33m,\u001b[0m \u001b[0mgroups\u001b[0m\u001b[1;33m=\u001b[0m\u001b[1;32mNone\u001b[0m\u001b[1;33m)\u001b[0m\u001b[1;33m:\u001b[0m\u001b[1;33m\u001b[0m\u001b[1;33m\u001b[0m\u001b[0m\n\u001b[1;32m--> 693\u001b[1;33m         \u001b[0mtest_folds\u001b[0m \u001b[1;33m=\u001b[0m \u001b[0mself\u001b[0m\u001b[1;33m.\u001b[0m\u001b[0m_make_test_folds\u001b[0m\u001b[1;33m(\u001b[0m\u001b[0mX\u001b[0m\u001b[1;33m,\u001b[0m \u001b[0my\u001b[0m\u001b[1;33m)\u001b[0m\u001b[1;33m\u001b[0m\u001b[1;33m\u001b[0m\u001b[0m\n\u001b[0m\u001b[0;32m    694\u001b[0m         \u001b[1;32mfor\u001b[0m \u001b[0mi\u001b[0m \u001b[1;32min\u001b[0m \u001b[0mrange\u001b[0m\u001b[1;33m(\u001b[0m\u001b[0mself\u001b[0m\u001b[1;33m.\u001b[0m\u001b[0mn_splits\u001b[0m\u001b[1;33m)\u001b[0m\u001b[1;33m:\u001b[0m\u001b[1;33m\u001b[0m\u001b[1;33m\u001b[0m\u001b[0m\n\u001b[0;32m    695\u001b[0m             \u001b[1;32myield\u001b[0m \u001b[0mtest_folds\u001b[0m \u001b[1;33m==\u001b[0m \u001b[0mi\u001b[0m\u001b[1;33m\u001b[0m\u001b[1;33m\u001b[0m\u001b[0m\n",
      "\u001b[1;32m~\\Anaconda3\\lib\\site-packages\\sklearn\\model_selection\\_split.py\u001b[0m in \u001b[0;36m_make_test_folds\u001b[1;34m(self, X, y)\u001b[0m\n\u001b[0;32m    660\u001b[0m         \u001b[0mmin_groups\u001b[0m \u001b[1;33m=\u001b[0m \u001b[0mnp\u001b[0m\u001b[1;33m.\u001b[0m\u001b[0mmin\u001b[0m\u001b[1;33m(\u001b[0m\u001b[0my_counts\u001b[0m\u001b[1;33m)\u001b[0m\u001b[1;33m\u001b[0m\u001b[1;33m\u001b[0m\u001b[0m\n\u001b[0;32m    661\u001b[0m         \u001b[1;32mif\u001b[0m \u001b[0mnp\u001b[0m\u001b[1;33m.\u001b[0m\u001b[0mall\u001b[0m\u001b[1;33m(\u001b[0m\u001b[0mself\u001b[0m\u001b[1;33m.\u001b[0m\u001b[0mn_splits\u001b[0m \u001b[1;33m>\u001b[0m \u001b[0my_counts\u001b[0m\u001b[1;33m)\u001b[0m\u001b[1;33m:\u001b[0m\u001b[1;33m\u001b[0m\u001b[1;33m\u001b[0m\u001b[0m\n\u001b[1;32m--> 662\u001b[1;33m             raise ValueError(\"n_splits=%d cannot be greater than the\"\n\u001b[0m\u001b[0;32m    663\u001b[0m                              \u001b[1;34m\" number of members in each class.\"\u001b[0m\u001b[1;33m\u001b[0m\u001b[1;33m\u001b[0m\u001b[0m\n\u001b[0;32m    664\u001b[0m                              % (self.n_splits))\n",
      "\u001b[1;31mValueError\u001b[0m: n_splits=6 cannot be greater than the number of members in each class."
     ]
    }
   ],
   "source": [
    "lsscore_selected = cross_val_score(lr, x, y, cv = 6).mean()\n",
    "print(\"this cv score is:\", lsscore_selected, \"\\nThe accuracy score is:\", lss)"
   ]
  },
  {
   "cell_type": "markdown",
   "id": "eb2e35d7",
   "metadata": {},
   "source": [
    "AUC ROC Curve:"
   ]
  },
  {
   "cell_type": "code",
   "execution_count": 83,
   "id": "e3c95dcf",
   "metadata": {},
   "outputs": [
    {
     "ename": "ValueError",
     "evalue": "multiclass format is not supported",
     "output_type": "error",
     "traceback": [
      "\u001b[1;31m---------------------------------------------------------------------------\u001b[0m",
      "\u001b[1;31mValueError\u001b[0m                                Traceback (most recent call last)",
      "\u001b[1;32m<ipython-input-83-981e54556609>\u001b[0m in \u001b[0;36m<module>\u001b[1;34m\u001b[0m\n\u001b[0;32m      1\u001b[0m \u001b[1;32mfrom\u001b[0m \u001b[0msklearn\u001b[0m\u001b[1;33m.\u001b[0m\u001b[0mmetrics\u001b[0m \u001b[1;32mimport\u001b[0m \u001b[0mroc_curve\u001b[0m\u001b[1;33m,\u001b[0m \u001b[0mauc\u001b[0m\u001b[1;33m\u001b[0m\u001b[1;33m\u001b[0m\u001b[0m\n\u001b[1;32m----> 2\u001b[1;33m \u001b[0mfpr\u001b[0m\u001b[1;33m,\u001b[0m \u001b[0mtpr\u001b[0m\u001b[1;33m,\u001b[0m \u001b[0mthresholds\u001b[0m \u001b[1;33m=\u001b[0m \u001b[0mroc_curve\u001b[0m\u001b[1;33m(\u001b[0m\u001b[0mpred_test\u001b[0m\u001b[1;33m,\u001b[0m \u001b[0my_test\u001b[0m\u001b[1;33m)\u001b[0m\u001b[1;33m\u001b[0m\u001b[1;33m\u001b[0m\u001b[0m\n\u001b[0m\u001b[0;32m      3\u001b[0m \u001b[0mroc_auc\u001b[0m \u001b[1;33m=\u001b[0m \u001b[0mauc\u001b[0m\u001b[1;33m(\u001b[0m\u001b[0mfpr\u001b[0m\u001b[1;33m,\u001b[0m \u001b[0mtpr\u001b[0m\u001b[1;33m)\u001b[0m\u001b[1;33m\u001b[0m\u001b[1;33m\u001b[0m\u001b[0m\n\u001b[0;32m      4\u001b[0m \u001b[1;33m\u001b[0m\u001b[0m\n\u001b[0;32m      5\u001b[0m \u001b[0mplt\u001b[0m\u001b[1;33m.\u001b[0m\u001b[0mfigure\u001b[0m\u001b[1;33m(\u001b[0m\u001b[1;33m)\u001b[0m\u001b[1;33m\u001b[0m\u001b[1;33m\u001b[0m\u001b[0m\n",
      "\u001b[1;32m~\\Anaconda3\\lib\\site-packages\\sklearn\\utils\\validation.py\u001b[0m in \u001b[0;36minner_f\u001b[1;34m(*args, **kwargs)\u001b[0m\n\u001b[0;32m     61\u001b[0m             \u001b[0mextra_args\u001b[0m \u001b[1;33m=\u001b[0m \u001b[0mlen\u001b[0m\u001b[1;33m(\u001b[0m\u001b[0margs\u001b[0m\u001b[1;33m)\u001b[0m \u001b[1;33m-\u001b[0m \u001b[0mlen\u001b[0m\u001b[1;33m(\u001b[0m\u001b[0mall_args\u001b[0m\u001b[1;33m)\u001b[0m\u001b[1;33m\u001b[0m\u001b[1;33m\u001b[0m\u001b[0m\n\u001b[0;32m     62\u001b[0m             \u001b[1;32mif\u001b[0m \u001b[0mextra_args\u001b[0m \u001b[1;33m<=\u001b[0m \u001b[1;36m0\u001b[0m\u001b[1;33m:\u001b[0m\u001b[1;33m\u001b[0m\u001b[1;33m\u001b[0m\u001b[0m\n\u001b[1;32m---> 63\u001b[1;33m                 \u001b[1;32mreturn\u001b[0m \u001b[0mf\u001b[0m\u001b[1;33m(\u001b[0m\u001b[1;33m*\u001b[0m\u001b[0margs\u001b[0m\u001b[1;33m,\u001b[0m \u001b[1;33m**\u001b[0m\u001b[0mkwargs\u001b[0m\u001b[1;33m)\u001b[0m\u001b[1;33m\u001b[0m\u001b[1;33m\u001b[0m\u001b[0m\n\u001b[0m\u001b[0;32m     64\u001b[0m \u001b[1;33m\u001b[0m\u001b[0m\n\u001b[0;32m     65\u001b[0m             \u001b[1;31m# extra_args > 0\u001b[0m\u001b[1;33m\u001b[0m\u001b[1;33m\u001b[0m\u001b[1;33m\u001b[0m\u001b[0m\n",
      "\u001b[1;32m~\\Anaconda3\\lib\\site-packages\\sklearn\\metrics\\_ranking.py\u001b[0m in \u001b[0;36mroc_curve\u001b[1;34m(y_true, y_score, pos_label, sample_weight, drop_intermediate)\u001b[0m\n\u001b[0;32m    911\u001b[0m \u001b[1;33m\u001b[0m\u001b[0m\n\u001b[0;32m    912\u001b[0m     \"\"\"\n\u001b[1;32m--> 913\u001b[1;33m     fps, tps, thresholds = _binary_clf_curve(\n\u001b[0m\u001b[0;32m    914\u001b[0m         y_true, y_score, pos_label=pos_label, sample_weight=sample_weight)\n\u001b[0;32m    915\u001b[0m \u001b[1;33m\u001b[0m\u001b[0m\n",
      "\u001b[1;32m~\\Anaconda3\\lib\\site-packages\\sklearn\\metrics\\_ranking.py\u001b[0m in \u001b[0;36m_binary_clf_curve\u001b[1;34m(y_true, y_score, pos_label, sample_weight)\u001b[0m\n\u001b[0;32m    689\u001b[0m     if not (y_type == \"binary\" or\n\u001b[0;32m    690\u001b[0m             (y_type == \"multiclass\" and pos_label is not None)):\n\u001b[1;32m--> 691\u001b[1;33m         \u001b[1;32mraise\u001b[0m \u001b[0mValueError\u001b[0m\u001b[1;33m(\u001b[0m\u001b[1;34m\"{0} format is not supported\"\u001b[0m\u001b[1;33m.\u001b[0m\u001b[0mformat\u001b[0m\u001b[1;33m(\u001b[0m\u001b[0my_type\u001b[0m\u001b[1;33m)\u001b[0m\u001b[1;33m)\u001b[0m\u001b[1;33m\u001b[0m\u001b[1;33m\u001b[0m\u001b[0m\n\u001b[0m\u001b[0;32m    692\u001b[0m \u001b[1;33m\u001b[0m\u001b[0m\n\u001b[0;32m    693\u001b[0m     \u001b[0mcheck_consistent_length\u001b[0m\u001b[1;33m(\u001b[0m\u001b[0my_true\u001b[0m\u001b[1;33m,\u001b[0m \u001b[0my_score\u001b[0m\u001b[1;33m,\u001b[0m \u001b[0msample_weight\u001b[0m\u001b[1;33m)\u001b[0m\u001b[1;33m\u001b[0m\u001b[1;33m\u001b[0m\u001b[0m\n",
      "\u001b[1;31mValueError\u001b[0m: multiclass format is not supported"
     ]
    }
   ],
   "source": [
    "from sklearn.metrics import roc_curve, auc\n",
    "fpr, tpr, thresholds = roc_curve(pred_test, y_test)\n",
    "roc_auc = auc(fpr, tpr)\n",
    "\n",
    "plt.figure()\n",
    "plt.plot(fpr, tpr, color = 'darkorange', lw=10, label='ROC curve (area = %0.2f)' % roc_auc)\n",
    "plt.plot([8, 1], [0, 1], color='navy', lw=10, linestyle='--')\n",
    "plt.xlim([0.0, 1.0])\n",
    "plt.ylim([0.0, 1.05])\n",
    "plt.xlabei('False Positive Rate')\n",
    "plt.ylabel('True Positive Rate')\n",
    "plt.title('Receiver operating characteristic')\n",
    "plt.legend(loc= \"lower right\")\n",
    "plt.show()"
   ]
  },
  {
   "cell_type": "code",
   "execution_count": 84,
   "id": "9fcef781",
   "metadata": {},
   "outputs": [],
   "source": [
    "#Model saving\n",
    "import pickle\n",
    "filename = 'inhouse_diabetes.pkl'\n",
    "pickle.dump(lr, open(filename,'wb'))"
   ]
  },
  {
   "cell_type": "code",
   "execution_count": 85,
   "id": "3536244a",
   "metadata": {},
   "outputs": [
    {
     "data": {
      "text/html": [
       "<div>\n",
       "<style scoped>\n",
       "    .dataframe tbody tr th:only-of-type {\n",
       "        vertical-align: middle;\n",
       "    }\n",
       "\n",
       "    .dataframe tbody tr th {\n",
       "        vertical-align: top;\n",
       "    }\n",
       "\n",
       "    .dataframe thead th {\n",
       "        text-align: right;\n",
       "    }\n",
       "</style>\n",
       "<table border=\"1\" class=\"dataframe\">\n",
       "  <thead>\n",
       "    <tr style=\"text-align: right;\">\n",
       "      <th></th>\n",
       "      <th>original</th>\n",
       "      <th>Predicted</th>\n",
       "    </tr>\n",
       "  </thead>\n",
       "  <tbody>\n",
       "    <tr>\n",
       "      <th>0</th>\n",
       "      <td>126431</td>\n",
       "      <td>74000</td>\n",
       "    </tr>\n",
       "    <tr>\n",
       "      <th>1</th>\n",
       "      <td>132261</td>\n",
       "      <td>74000</td>\n",
       "    </tr>\n",
       "    <tr>\n",
       "      <th>2</th>\n",
       "      <td>95408</td>\n",
       "      <td>92000</td>\n",
       "    </tr>\n",
       "    <tr>\n",
       "      <th>3</th>\n",
       "      <td>122400</td>\n",
       "      <td>101000</td>\n",
       "    </tr>\n",
       "    <tr>\n",
       "      <th>4</th>\n",
       "      <td>104428</td>\n",
       "      <td>101000</td>\n",
       "    </tr>\n",
       "    <tr>\n",
       "      <th>...</th>\n",
       "      <td>...</td>\n",
       "      <td>...</td>\n",
       "    </tr>\n",
       "    <tr>\n",
       "      <th>75</th>\n",
       "      <td>192253</td>\n",
       "      <td>88600</td>\n",
       "    </tr>\n",
       "    <tr>\n",
       "      <th>76</th>\n",
       "      <td>155750</td>\n",
       "      <td>101000</td>\n",
       "    </tr>\n",
       "    <tr>\n",
       "      <th>77</th>\n",
       "      <td>78162</td>\n",
       "      <td>88600</td>\n",
       "    </tr>\n",
       "    <tr>\n",
       "      <th>78</th>\n",
       "      <td>103750</td>\n",
       "      <td>74000</td>\n",
       "    </tr>\n",
       "    <tr>\n",
       "      <th>79</th>\n",
       "      <td>128400</td>\n",
       "      <td>74000</td>\n",
       "    </tr>\n",
       "  </tbody>\n",
       "</table>\n",
       "<p>80 rows × 2 columns</p>\n",
       "</div>"
      ],
      "text/plain": [
       "    original  Predicted\n",
       "0     126431      74000\n",
       "1     132261      74000\n",
       "2      95408      92000\n",
       "3     122400     101000\n",
       "4     104428     101000\n",
       "..       ...        ...\n",
       "75    192253      88600\n",
       "76    155750     101000\n",
       "77     78162      88600\n",
       "78    103750      74000\n",
       "79    128400      74000\n",
       "\n",
       "[80 rows x 2 columns]"
      ]
     },
     "execution_count": 85,
     "metadata": {},
     "output_type": "execute_result"
    }
   ],
   "source": [
    "#conclusion\n",
    "import numpy as np\n",
    "a=np.array(y_test)\n",
    "predicted = np.array(lr.predict(x_test))\n",
    "df_com = pd.DataFrame({\"original\" : a, \"Predicted\": predicted},index = range(len(a)))\n",
    "df_com"
   ]
  },
  {
   "cell_type": "code",
   "execution_count": 86,
   "id": "21721bd4",
   "metadata": {},
   "outputs": [
    {
     "data": {
      "text/html": [
       "<div>\n",
       "<style scoped>\n",
       "    .dataframe tbody tr th:only-of-type {\n",
       "        vertical-align: middle;\n",
       "    }\n",
       "\n",
       "    .dataframe tbody tr th {\n",
       "        vertical-align: top;\n",
       "    }\n",
       "\n",
       "    .dataframe thead th {\n",
       "        text-align: right;\n",
       "    }\n",
       "</style>\n",
       "<table border=\"1\" class=\"dataframe\">\n",
       "  <thead>\n",
       "    <tr style=\"text-align: right;\">\n",
       "      <th></th>\n",
       "      <th>original</th>\n",
       "      <th>Predicted</th>\n",
       "    </tr>\n",
       "  </thead>\n",
       "  <tbody>\n",
       "    <tr>\n",
       "      <th>0</th>\n",
       "      <td>126431</td>\n",
       "      <td>74000</td>\n",
       "    </tr>\n",
       "    <tr>\n",
       "      <th>1</th>\n",
       "      <td>132261</td>\n",
       "      <td>74000</td>\n",
       "    </tr>\n",
       "    <tr>\n",
       "      <th>2</th>\n",
       "      <td>95408</td>\n",
       "      <td>92000</td>\n",
       "    </tr>\n",
       "    <tr>\n",
       "      <th>3</th>\n",
       "      <td>122400</td>\n",
       "      <td>101000</td>\n",
       "    </tr>\n",
       "    <tr>\n",
       "      <th>4</th>\n",
       "      <td>104428</td>\n",
       "      <td>101000</td>\n",
       "    </tr>\n",
       "    <tr>\n",
       "      <th>...</th>\n",
       "      <td>...</td>\n",
       "      <td>...</td>\n",
       "    </tr>\n",
       "    <tr>\n",
       "      <th>75</th>\n",
       "      <td>192253</td>\n",
       "      <td>88600</td>\n",
       "    </tr>\n",
       "    <tr>\n",
       "      <th>76</th>\n",
       "      <td>155750</td>\n",
       "      <td>101000</td>\n",
       "    </tr>\n",
       "    <tr>\n",
       "      <th>77</th>\n",
       "      <td>78162</td>\n",
       "      <td>88600</td>\n",
       "    </tr>\n",
       "    <tr>\n",
       "      <th>78</th>\n",
       "      <td>103750</td>\n",
       "      <td>74000</td>\n",
       "    </tr>\n",
       "    <tr>\n",
       "      <th>79</th>\n",
       "      <td>128400</td>\n",
       "      <td>74000</td>\n",
       "    </tr>\n",
       "  </tbody>\n",
       "</table>\n",
       "<p>80 rows × 2 columns</p>\n",
       "</div>"
      ],
      "text/plain": [
       "    original  Predicted\n",
       "0     126431      74000\n",
       "1     132261      74000\n",
       "2      95408      92000\n",
       "3     122400     101000\n",
       "4     104428     101000\n",
       "..       ...        ...\n",
       "75    192253      88600\n",
       "76    155750     101000\n",
       "77     78162      88600\n",
       "78    103750      74000\n",
       "79    128400      74000\n",
       "\n",
       "[80 rows x 2 columns]"
      ]
     },
     "execution_count": 86,
     "metadata": {},
     "output_type": "execute_result"
    }
   ],
   "source": [
    "df_com"
   ]
  },
  {
   "cell_type": "code",
   "execution_count": null,
   "id": "4d6ea5d1",
   "metadata": {},
   "outputs": [],
   "source": []
  }
 ],
 "metadata": {
  "kernelspec": {
   "display_name": "Python 3",
   "language": "python",
   "name": "python3"
  },
  "language_info": {
   "codemirror_mode": {
    "name": "ipython",
    "version": 3
   },
   "file_extension": ".py",
   "mimetype": "text/x-python",
   "name": "python",
   "nbconvert_exporter": "python",
   "pygments_lexer": "ipython3",
   "version": "3.8.8"
  }
 },
 "nbformat": 4,
 "nbformat_minor": 5
}
