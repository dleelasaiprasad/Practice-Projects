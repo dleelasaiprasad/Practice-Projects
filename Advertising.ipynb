{
 "cells": [
  {
   "cell_type": "markdown",
   "id": "cb35372f",
   "metadata": {},
   "source": [
    "# Advertising"
   ]
  },
  {
   "cell_type": "code",
   "execution_count": 1,
   "id": "e3915dc7",
   "metadata": {},
   "outputs": [],
   "source": [
    "#importing required libraries\n",
    "import pandas as pd\n",
    "import numpy as np\n",
    "import matplotlib.pyplot as plt\n",
    "import seaborn as sns\n",
    "\n",
    "import warnings\n",
    "warnings.filterwarnings('ignore')"
   ]
  },
  {
   "cell_type": "code",
   "execution_count": 2,
   "id": "9d7921ec",
   "metadata": {},
   "outputs": [
    {
     "data": {
      "text/html": [
       "<div>\n",
       "<style scoped>\n",
       "    .dataframe tbody tr th:only-of-type {\n",
       "        vertical-align: middle;\n",
       "    }\n",
       "\n",
       "    .dataframe tbody tr th {\n",
       "        vertical-align: top;\n",
       "    }\n",
       "\n",
       "    .dataframe thead th {\n",
       "        text-align: right;\n",
       "    }\n",
       "</style>\n",
       "<table border=\"1\" class=\"dataframe\">\n",
       "  <thead>\n",
       "    <tr style=\"text-align: right;\">\n",
       "      <th></th>\n",
       "      <th>Unnamed: 0</th>\n",
       "      <th>TV</th>\n",
       "      <th>radio</th>\n",
       "      <th>newspaper</th>\n",
       "      <th>sales</th>\n",
       "    </tr>\n",
       "  </thead>\n",
       "  <tbody>\n",
       "    <tr>\n",
       "      <th>0</th>\n",
       "      <td>1</td>\n",
       "      <td>230.1</td>\n",
       "      <td>37.8</td>\n",
       "      <td>69.2</td>\n",
       "      <td>22.1</td>\n",
       "    </tr>\n",
       "    <tr>\n",
       "      <th>1</th>\n",
       "      <td>2</td>\n",
       "      <td>44.5</td>\n",
       "      <td>39.3</td>\n",
       "      <td>45.1</td>\n",
       "      <td>10.4</td>\n",
       "    </tr>\n",
       "    <tr>\n",
       "      <th>2</th>\n",
       "      <td>3</td>\n",
       "      <td>17.2</td>\n",
       "      <td>45.9</td>\n",
       "      <td>69.3</td>\n",
       "      <td>9.3</td>\n",
       "    </tr>\n",
       "    <tr>\n",
       "      <th>3</th>\n",
       "      <td>4</td>\n",
       "      <td>151.5</td>\n",
       "      <td>41.3</td>\n",
       "      <td>58.5</td>\n",
       "      <td>18.5</td>\n",
       "    </tr>\n",
       "    <tr>\n",
       "      <th>4</th>\n",
       "      <td>5</td>\n",
       "      <td>180.8</td>\n",
       "      <td>10.8</td>\n",
       "      <td>58.4</td>\n",
       "      <td>12.9</td>\n",
       "    </tr>\n",
       "  </tbody>\n",
       "</table>\n",
       "</div>"
      ],
      "text/plain": [
       "   Unnamed: 0     TV  radio  newspaper  sales\n",
       "0           1  230.1   37.8       69.2   22.1\n",
       "1           2   44.5   39.3       45.1   10.4\n",
       "2           3   17.2   45.9       69.3    9.3\n",
       "3           4  151.5   41.3       58.5   18.5\n",
       "4           5  180.8   10.8       58.4   12.9"
      ]
     },
     "execution_count": 2,
     "metadata": {},
     "output_type": "execute_result"
    }
   ],
   "source": [
    "df = pd.read_csv('https://raw.githubusercontent.com/dsrscientist/DSData/master/Advertising.csv')    #importing dataset\n",
    "df.head()"
   ]
  },
  {
   "cell_type": "code",
   "execution_count": 3,
   "id": "b824f016",
   "metadata": {},
   "outputs": [
    {
     "data": {
      "text/plain": [
       "(200, 5)"
      ]
     },
     "execution_count": 3,
     "metadata": {},
     "output_type": "execute_result"
    }
   ],
   "source": [
    "df.shape  #checking the shape of dataframe"
   ]
  },
  {
   "cell_type": "code",
   "execution_count": 4,
   "id": "483e901b",
   "metadata": {},
   "outputs": [
    {
     "data": {
      "text/plain": [
       "Index(['Unnamed: 0', 'TV', 'radio', 'newspaper', 'sales'], dtype='object')"
      ]
     },
     "execution_count": 4,
     "metadata": {},
     "output_type": "execute_result"
    }
   ],
   "source": [
    "df.columns"
   ]
  },
  {
   "cell_type": "code",
   "execution_count": 13,
   "id": "82bbd1e1",
   "metadata": {},
   "outputs": [],
   "source": [
    "df = df.drop('Unnamed: 0',axis=1) #droping the column"
   ]
  },
  {
   "cell_type": "code",
   "execution_count": 14,
   "id": "66067805",
   "metadata": {},
   "outputs": [
    {
     "data": {
      "text/html": [
       "<div>\n",
       "<style scoped>\n",
       "    .dataframe tbody tr th:only-of-type {\n",
       "        vertical-align: middle;\n",
       "    }\n",
       "\n",
       "    .dataframe tbody tr th {\n",
       "        vertical-align: top;\n",
       "    }\n",
       "\n",
       "    .dataframe thead th {\n",
       "        text-align: right;\n",
       "    }\n",
       "</style>\n",
       "<table border=\"1\" class=\"dataframe\">\n",
       "  <thead>\n",
       "    <tr style=\"text-align: right;\">\n",
       "      <th></th>\n",
       "      <th>TV</th>\n",
       "      <th>radio</th>\n",
       "      <th>newspaper</th>\n",
       "      <th>sales</th>\n",
       "    </tr>\n",
       "  </thead>\n",
       "  <tbody>\n",
       "    <tr>\n",
       "      <th>count</th>\n",
       "      <td>200.000000</td>\n",
       "      <td>200.000000</td>\n",
       "      <td>200.000000</td>\n",
       "      <td>200.000000</td>\n",
       "    </tr>\n",
       "    <tr>\n",
       "      <th>mean</th>\n",
       "      <td>147.042500</td>\n",
       "      <td>23.264000</td>\n",
       "      <td>30.554000</td>\n",
       "      <td>14.022500</td>\n",
       "    </tr>\n",
       "    <tr>\n",
       "      <th>std</th>\n",
       "      <td>85.854236</td>\n",
       "      <td>14.846809</td>\n",
       "      <td>21.778621</td>\n",
       "      <td>5.217457</td>\n",
       "    </tr>\n",
       "    <tr>\n",
       "      <th>min</th>\n",
       "      <td>0.700000</td>\n",
       "      <td>0.000000</td>\n",
       "      <td>0.300000</td>\n",
       "      <td>1.600000</td>\n",
       "    </tr>\n",
       "    <tr>\n",
       "      <th>25%</th>\n",
       "      <td>74.375000</td>\n",
       "      <td>9.975000</td>\n",
       "      <td>12.750000</td>\n",
       "      <td>10.375000</td>\n",
       "    </tr>\n",
       "    <tr>\n",
       "      <th>50%</th>\n",
       "      <td>149.750000</td>\n",
       "      <td>22.900000</td>\n",
       "      <td>25.750000</td>\n",
       "      <td>12.900000</td>\n",
       "    </tr>\n",
       "    <tr>\n",
       "      <th>75%</th>\n",
       "      <td>218.825000</td>\n",
       "      <td>36.525000</td>\n",
       "      <td>45.100000</td>\n",
       "      <td>17.400000</td>\n",
       "    </tr>\n",
       "    <tr>\n",
       "      <th>max</th>\n",
       "      <td>296.400000</td>\n",
       "      <td>49.600000</td>\n",
       "      <td>114.000000</td>\n",
       "      <td>27.000000</td>\n",
       "    </tr>\n",
       "  </tbody>\n",
       "</table>\n",
       "</div>"
      ],
      "text/plain": [
       "               TV       radio   newspaper       sales\n",
       "count  200.000000  200.000000  200.000000  200.000000\n",
       "mean   147.042500   23.264000   30.554000   14.022500\n",
       "std     85.854236   14.846809   21.778621    5.217457\n",
       "min      0.700000    0.000000    0.300000    1.600000\n",
       "25%     74.375000    9.975000   12.750000   10.375000\n",
       "50%    149.750000   22.900000   25.750000   12.900000\n",
       "75%    218.825000   36.525000   45.100000   17.400000\n",
       "max    296.400000   49.600000  114.000000   27.000000"
      ]
     },
     "execution_count": 14,
     "metadata": {},
     "output_type": "execute_result"
    }
   ],
   "source": [
    "df.describe() #for satistical summary"
   ]
  },
  {
   "cell_type": "code",
   "execution_count": 15,
   "id": "35b2bba5",
   "metadata": {},
   "outputs": [
    {
     "data": {
      "text/plain": [
       "TV           0\n",
       "radio        0\n",
       "newspaper    0\n",
       "sales        0\n",
       "dtype: int64"
      ]
     },
     "execution_count": 15,
     "metadata": {},
     "output_type": "execute_result"
    }
   ],
   "source": [
    "df.isnull().sum()   #check for null values"
   ]
  },
  {
   "cell_type": "code",
   "execution_count": 16,
   "id": "4b59ad5a",
   "metadata": {},
   "outputs": [
    {
     "data": {
      "image/png": "[encoded data removed]",
      "text/plain": [
       "<Figure size 432x288 with 2 Axes>"
      ]
     },
     "metadata": {
      "needs_background": "light"
     },
     "output_type": "display_data"
    }
   ],
   "source": [
    "#generating heatmap of null values\n",
    "sns.heatmap(df.isnull())\n",
    "plt.title(\"Null values\")\n",
    "plt.show()"
   ]
  },
  {
   "cell_type": "code",
   "execution_count": 18,
   "id": "4dd61fed",
   "metadata": {},
   "outputs": [
    {
     "data": {
      "text/plain": [
       "TV           float64\n",
       "radio        float64\n",
       "newspaper    float64\n",
       "sales        float64\n",
       "dtype: object"
      ]
     },
     "execution_count": 18,
     "metadata": {},
     "output_type": "execute_result"
    }
   ],
   "source": [
    "df.dtypes  #checking the data types of each column"
   ]
  },
  {
   "cell_type": "code",
   "execution_count": 19,
   "id": "89fb1870",
   "metadata": {},
   "outputs": [
    {
     "data": {
      "text/html": [
       "<div>\n",
       "<style scoped>\n",
       "    .dataframe tbody tr th:only-of-type {\n",
       "        vertical-align: middle;\n",
       "    }\n",
       "\n",
       "    .dataframe tbody tr th {\n",
       "        vertical-align: top;\n",
       "    }\n",
       "\n",
       "    .dataframe thead th {\n",
       "        text-align: right;\n",
       "    }\n",
       "</style>\n",
       "<table border=\"1\" class=\"dataframe\">\n",
       "  <thead>\n",
       "    <tr style=\"text-align: right;\">\n",
       "      <th></th>\n",
       "      <th>TV</th>\n",
       "      <th>radio</th>\n",
       "      <th>newspaper</th>\n",
       "      <th>sales</th>\n",
       "    </tr>\n",
       "  </thead>\n",
       "  <tbody>\n",
       "    <tr>\n",
       "      <th>TV</th>\n",
       "      <td>1.000000</td>\n",
       "      <td>0.054809</td>\n",
       "      <td>0.056648</td>\n",
       "      <td>0.782224</td>\n",
       "    </tr>\n",
       "    <tr>\n",
       "      <th>radio</th>\n",
       "      <td>0.054809</td>\n",
       "      <td>1.000000</td>\n",
       "      <td>0.354104</td>\n",
       "      <td>0.576223</td>\n",
       "    </tr>\n",
       "    <tr>\n",
       "      <th>newspaper</th>\n",
       "      <td>0.056648</td>\n",
       "      <td>0.354104</td>\n",
       "      <td>1.000000</td>\n",
       "      <td>0.228299</td>\n",
       "    </tr>\n",
       "    <tr>\n",
       "      <th>sales</th>\n",
       "      <td>0.782224</td>\n",
       "      <td>0.576223</td>\n",
       "      <td>0.228299</td>\n",
       "      <td>1.000000</td>\n",
       "    </tr>\n",
       "  </tbody>\n",
       "</table>\n",
       "</div>"
      ],
      "text/plain": [
       "                 TV     radio  newspaper     sales\n",
       "TV         1.000000  0.054809   0.056648  0.782224\n",
       "radio      0.054809  1.000000   0.354104  0.576223\n",
       "newspaper  0.056648  0.354104   1.000000  0.228299\n",
       "sales      0.782224  0.576223   0.228299  1.000000"
      ]
     },
     "execution_count": 19,
     "metadata": {},
     "output_type": "execute_result"
    }
   ],
   "source": [
    "#lets check for coreleation\n",
    "df.corr()"
   ]
  },
  {
   "cell_type": "code",
   "execution_count": 21,
   "id": "d7950f8f",
   "metadata": {},
   "outputs": [
    {
     "data": {
      "image/png": "[encoded data removed]",
      "text/plain": [
       "<Figure size 504x216 with 2 Axes>"
      ]
     },
     "metadata": {
      "needs_background": "light"
     },
     "output_type": "display_data"
    }
   ],
   "source": [
    "#Correleation heatmap\n",
    "corr_mat=df.corr()\n",
    "plt.figure(figsize=[7,3])\n",
    "sns.heatmap(corr_mat,annot=True)\n",
    "plt.title(\"Correlation matrix\")\n",
    "plt.show()"
   ]
  },
  {
   "cell_type": "code",
   "execution_count": 22,
   "id": "b4dab6b2",
   "metadata": {},
   "outputs": [
    {
     "data": {
      "image/png": "[encoded data removed]",
      "text/plain": [
       "<Figure size 1296x864 with 66 Axes>"
      ]
     },
     "metadata": {
      "needs_background": "light"
     },
     "output_type": "display_data"
    }
   ],
   "source": [
    "#Cheking data distribution of data\n",
    "df.plot(kind=\"density\", subplots=True,layout=(6,11), sharex=False, legend= False, fontsize=1, figsize=(18,12))\n",
    "plt.show()"
   ]
  },
  {
   "cell_type": "code",
   "execution_count": 24,
   "id": "70d45789",
   "metadata": {},
   "outputs": [
    {
     "data": {
      "text/plain": [
       "Index(['TV', 'radio', 'newspaper', 'sales'], dtype='object')"
      ]
     },
     "execution_count": 24,
     "metadata": {},
     "output_type": "execute_result"
    }
   ],
   "source": [
    "df.columns"
   ]
  },
  {
   "cell_type": "code",
   "execution_count": 25,
   "id": "508701a2",
   "metadata": {},
   "outputs": [],
   "source": [
    "#Here skewness is present.\n",
    "#splitting the independent and target variable columns into x and y to remove skewness.\n",
    "x=df.drop(\"sales\", axis = 1)\n",
    "y=df[\"sales\"]"
   ]
  },
  {
   "cell_type": "code",
   "execution_count": 26,
   "id": "a73bb579",
   "metadata": {},
   "outputs": [
    {
     "data": {
      "text/plain": [
       "TV          -0.069853\n",
       "radio        0.094175\n",
       "newspaper    0.894720\n",
       "dtype: float64"
      ]
     },
     "execution_count": 26,
     "metadata": {},
     "output_type": "execute_result"
    }
   ],
   "source": [
    "#checking skewness\n",
    "x.skew()    #here data is highly skewed\n",
    "#considering the range of (-5,5)"
   ]
  },
  {
   "cell_type": "code",
   "execution_count": 27,
   "id": "1f09c2fc",
   "metadata": {},
   "outputs": [
    {
     "data": {
      "text/plain": [
       "TV          -0.315199\n",
       "radio       -0.242968\n",
       "newspaper   -0.077942\n",
       "dtype: float64"
      ]
     },
     "execution_count": 27,
     "metadata": {},
     "output_type": "execute_result"
    }
   ],
   "source": [
    "#removing skewness using power transform method\n",
    "from sklearn.preprocessing import power_transform\n",
    "x_new = power_transform(x)\n",
    "x=pd.DataFrame(x_new,columns=x.columns)\n",
    "x.skew()  #validating if skewness is removed or not"
   ]
  },
  {
   "cell_type": "code",
   "execution_count": 29,
   "id": "c03486f8",
   "metadata": {},
   "outputs": [
    {
     "data": {
      "image/png": "[encoded data removed]",
      "text/plain": [
       "<Figure size 360x144 with 1 Axes>"
      ]
     },
     "metadata": {
      "needs_background": "light"
     },
     "output_type": "display_data"
    }
   ],
   "source": [
    "#above result shows skewness is removed\n",
    "#now checking for outliers\n",
    "x.iloc[:,0:].boxplot(figsize=[5,2])\n",
    "plt.subplots_adjust(bottom=0.25)\n",
    "plt.show()"
   ]
  },
  {
   "cell_type": "code",
   "execution_count": 36,
   "id": "178ff568",
   "metadata": {},
   "outputs": [
    {
     "data": {
      "text/plain": [
       "array([[ 0.94867429,  0.96224689,  1.51433531],\n",
       "       [-1.19131426,  1.0401788 ,  0.78768252],\n",
       "       [-1.6477566 ,  1.37070964,  1.51699753],\n",
       "       [ 0.14102023,  1.14238689,  1.21465643],\n",
       "       [ 0.45271493, -0.74865064,  1.21170398],\n",
       "       [-1.82382233,  1.51501853,  1.66502354],\n",
       "       [-1.00249116,  0.69372704, -0.1077535 ],\n",
       "       [-0.210275  , -0.10158544, -0.84409341],\n",
       "       [-1.82609501, -1.63345378, -2.13259669],\n",
       "       [ 0.64764492, -1.56676988, -0.22900395],\n",
       "       [-0.88377378, -1.20298758, -0.07226156],\n",
       "       [ 0.79708355,  0.18072579, -1.60261898],\n",
       "       [-1.52641627,  0.81900563,  1.42512925],\n",
       "       [-0.48036844, -1.02813642, -1.22982506],\n",
       "       [ 0.69106577,  0.6992403 ,  0.81860579],\n",
       "       [ 0.60295713,  1.45770359,  1.04432344],\n",
       "       [-0.86079972,  0.89906999,  2.52943514],\n",
       "       [ 1.4355201 ,  1.05563142,  1.13383286],\n",
       "       [-0.84199328, -0.04209908, -0.39356015],\n",
       "       [ 0.09508551,  0.17453165, -0.34671544],\n",
       "       [ 0.8337607 ,  0.40367061,  1.05996548],\n",
       "       [ 1.01958629, -1.27567304, -0.1077535 ],\n",
       "       [-1.72701642, -0.35739289,  0.93875739],\n",
       "       [ 0.93109798, -0.28631129,  0.02589311],\n",
       "       [-0.93569772, -0.60431061, -0.39356015],\n",
       "       [ 1.26290943, -1.4550585 , -0.3237259 ],\n",
       "       [ 0.04659013,  0.49664406, -0.76867281],\n",
       "       [ 1.0456669 , -0.30040383, -0.1386789 ],\n",
       "       [ 1.12918152,  0.3682981 , -0.1386789 ],\n",
       "       [-0.82328646, -0.35021379,  0.63452018],\n",
       "       [ 1.54129731,  0.43876195,  0.72114861],\n",
       "       [-0.29553337, -0.25134036,  0.55235877],\n",
       "       [-0.48404243, -1.71918898,  0.20071936],\n",
       "       [ 1.28829734, -0.07502706, -2.32472495],\n",
       "       [-0.50245749, -1.7342107 , -1.20981332],\n",
       "       [ 1.52114819, -1.3853128 , -1.10471076],\n",
       "       [ 1.3004967 ,  1.2675887 , -1.47330873],\n",
       "       [-0.76905257,  1.53874417,  0.80833914],\n",
       "       [-1.21245403,  0.34455612,  0.4155984 ],\n",
       "       [ 0.92816503,  0.95701091,  0.28742321],\n",
       "       [ 0.67493776,  0.07409584,  0.27034854],\n",
       "       [ 0.41309098,  0.72671408,  0.55615392],\n",
       "       [ 1.54769995,  0.40367061, -1.95904851],\n",
       "       [ 0.71920943, -0.95499286,  0.03545918],\n",
       "       [-1.50359538,  0.28462118,  0.72469411],\n",
       "       [ 0.39319467,  0.08679116,  0.26605961],\n",
       "       [-0.57689562, -0.82396106,  0.43960934],\n",
       "       [ 1.04373768,  1.15250515, -0.3817378 ],\n",
       "       [ 0.92033882, -0.36458821,  0.94852755],\n",
       "       [-0.87294338, -0.67550361,  0.48300508],\n",
       "       [ 0.64764492, -1.50354208,  0.3953996 ],\n",
       "       [-0.44500506, -0.84958728, -1.65883577],\n",
       "       [ 0.81395585,  1.16260524,  0.59004665],\n",
       "       [ 0.47140703,  1.38529598,  1.22055211],\n",
       "       [ 1.2610261 ,  0.46779569, -0.54176985],\n",
       "       [ 0.63852563,  1.53874417,  1.25857888],\n",
       "       [-1.85624738,  0.42709558,  0.65646046],\n",
       "       [-0.02802214, -0.12834141, -0.49726342],\n",
       "       [ 0.75824197,  1.54820925,  0.51793191],\n",
       "       [ 0.75724354,  0.50813245, -1.03293213],\n",
       "       [-1.05927427, -1.64727037, -0.21815975],\n",
       "       [ 1.24783212,  1.21283741,  1.10022212],\n",
       "       [ 1.03794746, -0.38627294,  0.07797929],\n",
       "       [-0.41714955,  0.51386586, -1.11394312],\n",
       "       [-0.08546826,  1.21783637,  0.15154706],\n",
       "       [-0.84467375, -0.87549189, -2.1571572 ],\n",
       "       [-1.39531449,  0.21769395, -1.88378271],\n",
       "       [ 0.0066178 , -0.45966823, -0.95619942],\n",
       "       [ 1.01958629,  0.39191142, -0.8911416 ],\n",
       "       [ 0.81792069,  1.2725405 ,  0.07329661],\n",
       "       [ 0.64055308,  0.5708121 ,  0.55615392],\n",
       "       [-0.3321763 , -0.4745618 ,  0.27462933],\n",
       "       [-1.47420382,  0.70474737, -0.33518557],\n",
       "       [-0.10474749, -1.21318999,  0.25745713],\n",
       "       [ 0.7841573 ,  0.21769395, -0.73224866],\n",
       "       [-1.65352738,  1.26263268,  2.01064695],\n",
       "       [-1.46224158, -1.70439494, -0.25638211],\n",
       "       [-0.20680098,  0.45039797, -0.65484297],\n",
       "       [-1.90271957,  0.53102334, -1.02420602],\n",
       "       [-0.25915513, -1.01885558, -0.1283175 ],\n",
       "       [-0.74679627,  0.34455612, -0.17008941],\n",
       "       [ 1.04277291, -1.3853128 ,  0.48691113],\n",
       "       [-0.76118235, -0.05523482,  0.30858709],\n",
       "       [-0.85272745,  1.30216339,  0.43562451],\n",
       "       [ 0.78515237,  1.22782124,  0.36271243],\n",
       "       [ 0.58051341, -0.1824681 ,  1.41963599],\n",
       "       [-0.74810183,  0.39191142, -0.53534269],\n",
       "       [-0.32151022,  1.10682827,  1.35009138],\n",
       "       [-0.59445094,  0.27253204,  1.62418784],\n",
       "       [-0.3321763 ,  1.46250027,  0.99685054],\n",
       "       [-0.04935604, -1.29701657, -1.03293213],\n",
       "       [-1.44360046, -1.71918898,  0.32955606],\n",
       "       [ 0.8268345 ,  0.7321905 ,  1.22937273],\n",
       "       [ 1.14922339,  0.89377076,  1.59579653],\n",
       "       [-0.36073275, -0.49704225, -0.89912378],\n",
       "       [ 0.26831445,  0.62707446,  1.04432344],\n",
       "       [ 0.62533398, -1.4550585 , -1.3679351 ],\n",
       "       [ 0.49522053, -0.00946213, -0.18598289],\n",
       "       [ 1.51197614,  1.19279775,  0.99045745],\n",
       "       [-0.03924063,  1.16260524,  0.8151881 ],\n",
       "       [ 0.87322688, -1.36277082,  0.94527481],\n",
       "       [ 1.57327016,  0.88315609,  2.2628248 ],\n",
       "       [ 1.42441703, -0.80702634, -0.21815975],\n",
       "       [ 0.52616407, -0.26528466, -0.41743473],\n",
       "       [ 1.02732204,  0.77578583, -1.4371576 ],\n",
       "       [-0.00900053,  1.39500055,  1.22937273],\n",
       "       [-1.50533991, -0.73221674,  0.18741746],\n",
       "       [-0.56814506, -1.91962741, -0.12315678],\n",
       "       [-1.72906885, -1.90076688, -0.00306944],\n",
       "       [ 1.19202117,  0.35644335, -1.41364623],\n",
       "       [ 0.90662534, -0.97304835,  1.15501188],\n",
       "       [ 1.06108536,  0.97270342, -0.12315678],\n",
       "       [ 0.39948386, -0.39353456, -1.84832983],\n",
       "       [ 0.74625251, -0.0355487 , -0.91521378],\n",
       "       [-0.72337219,  1.41436293,  0.39133878],\n",
       "       [-0.76380392,  0.81362329,  1.03804144],\n",
       "       [ 0.00550359, -0.4745618 , -0.00306944],\n",
       "       [-0.74679627, -1.82997283, -0.6140794 ],\n",
       "       [-0.1469415 ,  0.91493549,  1.76974284],\n",
       "       [-1.60617806, -0.35021379, -0.17008941],\n",
       "       [ 0.02885793,  0.35050382,  0.82542768],\n",
       "       [-1.61739376,  0.0357579 ,  0.96473213],\n",
       "       [ 0.88896054, -1.59299019, -0.56119394],\n",
       "       [-0.17678774,  0.79203663, -0.78347482],\n",
       "       [ 0.94281959,  0.66606674,  1.64467302],\n",
       "       [-0.60829585, -0.66750027,  0.01146189],\n",
       "       [-1.84451116,  1.01950683,  0.9711866 ],\n",
       "       [-0.69751107, -1.9798635 , -1.04171092],\n",
       "       [ 0.85253082,  1.51977089, -1.71817136],\n",
       "       [-0.9730961 , -0.65156482,  0.71759813],\n",
       "       [-2.04026249,  1.05563142, -1.08642518],\n",
       "       [ 1.2845405 , -1.52845902,  0.71404265],\n",
       "       [-1.83065941,  0.37421339, -1.90202575],\n",
       "       [ 0.84759549,  0.7321905 ,  0.78768252],\n",
       "       [-1.30833884,  1.0039509 ,  1.41688552],\n",
       "       [-1.1347862 ,  1.42402092, -1.10471076],\n",
       "       [-1.49489926,  1.02468221, -1.03293213],\n",
       "       [ 1.36405418,  0.47358005,  1.2498484 ],\n",
       "       [-1.2139708 ,  0.2966758 , -0.26744284],\n",
       "       [ 0.49522053,  1.2725405 , -1.97889407],\n",
       "       [-0.78616198, -0.27928757, -0.74672069],\n",
       "       [ 0.58562018,  0.83511859,  1.68019945],\n",
       "       [ 0.85450412,  0.71574298,  0.52562487],\n",
       "       [-0.39426242, -1.21318999,  0.38727085],\n",
       "       [-0.49631074, -0.43746469,  0.56372647],\n",
       "       [ 0.01774834, -1.66126392, -1.05942991],\n",
       "       [ 1.0456669 , -1.05622936, -1.08642518],\n",
       "       [ 1.07551559,  1.51977089,  0.75987942],\n",
       "       [-1.29103896,  1.09151903, -0.82108927],\n",
       "       [-1.18830853,  0.29065278, -0.26190454],\n",
       "       [ 1.42904484, -0.50457379,  0.49081078],\n",
       "       [-0.20101603, -0.95499286,  0.90922967],\n",
       "       [ 0.62533398,  0.13716541, -0.65484297],\n",
       "       [ 0.35322947,  1.0607726 ,  0.51793191],\n",
       "       [ 0.52513474, -0.00296885, -1.01553176],\n",
       "       [-1.93665721, -0.68353104, -1.39057916],\n",
       "       [-0.52465633,  1.25270792,  0.96796131],\n",
       "       [ 0.12246872, -1.74947332, -0.06724139],\n",
       "       [-1.75822712,  0.91493549,  0.79113681],\n",
       "       [-0.07867963, -0.1824681 ,  0.3953996 ],\n",
       "       [ 0.36587519, -0.20298441,  0.23144984],\n",
       "       [-0.62724967,  0.85652391,  0.92895126],\n",
       "       [ 0.53130856, -0.20298441, -0.00306944],\n",
       "       [ 0.27045056,  0.90965233, -1.20981332],\n",
       "       [-0.24514238, -0.44484785, -1.42534498],\n",
       "       [ 0.99148599, -1.46701964,  1.90420913],\n",
       "       [-1.63438885,  0.95176976, -0.20737541],\n",
       "       [ 0.71820605, -1.26510158, -0.32944703],\n",
       "       [ 0.80403524,  0.15589202,  1.18797267],\n",
       "       [ 1.46230082, -0.76519122, -1.31304986],\n",
       "       [-1.10987617, -0.68353104, -0.38763953],\n",
       "       [ 0.28112073, -0.01596668,  0.86598739],\n",
       "       [-1.60245911, -0.06841773, -0.47232241],\n",
       "       [ 0.32257166, -1.07517365, -0.75400514],\n",
       "       [ 0.87322688, -1.46701964, -0.73224866],\n",
       "       [ 1.39381826,  1.51501853,  0.67098058],\n",
       "       [ 1.12535894,  0.54811736, -0.27856754],\n",
       "       [ 0.34161695, -1.00961537,  0.41961731],\n",
       "       [ 1.39196069, -1.60632069, -0.09754949],\n",
       "       [ 0.29283811, -0.81547901, -0.43554699],\n",
       "       [ 0.19634785, -1.56676988, -1.12323656],\n",
       "       [ 0.83474968, -1.2441519 ,  0.08265171],\n",
       "       [-1.02082882, -1.21318999,  0.18741746],\n",
       "       [ 1.49268741,  1.22782124,  1.58280405],\n",
       "       [ 1.17682728,  0.00998415,  0.20071936],\n",
       "       [ 0.70012304,  1.33163754, -0.31802204],\n",
       "       [ 0.0088456 , -1.63345378,  0.04498207],\n",
       "       [ 0.55902662,  0.46200391, -0.39949982],\n",
       "       [ 1.47796614, -0.50457379, -1.64450612],\n",
       "       [-1.61927178, -0.64363221, -0.11287487],\n",
       "       [-1.267656  ,  1.13225036, -1.37920552],\n",
       "       [-0.75856261, -0.74865064, -1.35676548],\n",
       "       [-1.6477566 , -1.3853128 ,  0.27034854],\n",
       "       [ 0.30559723,  1.1777216 , -1.65883577],\n",
       "       [ 0.12137572,  0.84583242, -1.35676548],\n",
       "       [-1.28790757, -1.43143631, -0.68257581],\n",
       "       [-0.52094879, -1.29701657, -1.14201102],\n",
       "       [ 0.41309098, -0.87549189, -1.31304986],\n",
       "       [ 1.45584317,  1.1777216 ,  1.43335009],\n",
       "       [ 0.96816082, -0.93708342, -1.08642518]])"
      ]
     },
     "execution_count": 36,
     "metadata": {},
     "output_type": "execute_result"
    }
   ],
   "source": [
    "#applying scaling to normalise data\n",
    "from sklearn.preprocessing import StandardScaler\n",
    "sc=StandardScaler()\n",
    "x=sc.fit_transform(x)\n",
    "x"
   ]
  },
  {
   "cell_type": "code",
   "execution_count": 38,
   "id": "5ed6c109",
   "metadata": {},
   "outputs": [
    {
     "ename": "ValueError",
     "evalue": "Unknown label type: 'continuous'",
     "output_type": "error",
     "traceback": [
      "\u001b[1;31m---------------------------------------------------------------------------\u001b[0m",
      "\u001b[1;31mValueError\u001b[0m                                Traceback (most recent call last)",
      "\u001b[1;32m<ipython-input-38-8cee87a69b16>\u001b[0m in \u001b[0;36m<module>\u001b[1;34m\u001b[0m\n\u001b[0;32m      6\u001b[0m \u001b[1;32mfrom\u001b[0m \u001b[0msklearn\u001b[0m\u001b[1;33m.\u001b[0m\u001b[0mlinear_model\u001b[0m \u001b[1;32mimport\u001b[0m \u001b[0mLogisticRegression\u001b[0m\u001b[1;33m\u001b[0m\u001b[1;33m\u001b[0m\u001b[0m\n\u001b[0;32m      7\u001b[0m \u001b[0mLR\u001b[0m \u001b[1;33m=\u001b[0m \u001b[0mLogisticRegression\u001b[0m\u001b[1;33m(\u001b[0m\u001b[1;33m)\u001b[0m\u001b[1;33m\u001b[0m\u001b[1;33m\u001b[0m\u001b[0m\n\u001b[1;32m----> 8\u001b[1;33m \u001b[0mLR\u001b[0m\u001b[1;33m.\u001b[0m\u001b[0mfit\u001b[0m\u001b[1;33m(\u001b[0m\u001b[0mx_train\u001b[0m\u001b[1;33m,\u001b[0m \u001b[0my_train\u001b[0m\u001b[1;33m)\u001b[0m\u001b[1;33m\u001b[0m\u001b[1;33m\u001b[0m\u001b[0m\n\u001b[0m\u001b[0;32m      9\u001b[0m \u001b[0mpredlr\u001b[0m \u001b[1;33m=\u001b[0m \u001b[0mLR\u001b[0m\u001b[1;33m.\u001b[0m\u001b[0mpredict\u001b[0m\u001b[1;33m(\u001b[0m\u001b[0mx_test\u001b[0m\u001b[1;33m)\u001b[0m\u001b[1;33m\u001b[0m\u001b[1;33m\u001b[0m\u001b[0m\n\u001b[0;32m     10\u001b[0m \u001b[0mprint\u001b[0m \u001b[1;33m(\u001b[0m\u001b[1;34m\"Accuracy\"\u001b[0m\u001b[1;33m,\u001b[0m\u001b[0maccuracy_score\u001b[0m\u001b[1;33m(\u001b[0m\u001b[0my_test\u001b[0m\u001b[1;33m,\u001b[0m \u001b[0mpredlr\u001b[0m\u001b[1;33m)\u001b[0m\u001b[1;33m*\u001b[0m\u001b[1;36m100\u001b[0m\u001b[1;33m)\u001b[0m\u001b[1;33m\u001b[0m\u001b[1;33m\u001b[0m\u001b[0m\n",
      "\u001b[1;32m~\\Anaconda3\\lib\\site-packages\\sklearn\\linear_model\\_logistic.py\u001b[0m in \u001b[0;36mfit\u001b[1;34m(self, X, y, sample_weight)\u001b[0m\n\u001b[0;32m   1345\u001b[0m                                    \u001b[0morder\u001b[0m\u001b[1;33m=\u001b[0m\u001b[1;34m\"C\"\u001b[0m\u001b[1;33m,\u001b[0m\u001b[1;33m\u001b[0m\u001b[1;33m\u001b[0m\u001b[0m\n\u001b[0;32m   1346\u001b[0m                                    accept_large_sparse=solver != 'liblinear')\n\u001b[1;32m-> 1347\u001b[1;33m         \u001b[0mcheck_classification_targets\u001b[0m\u001b[1;33m(\u001b[0m\u001b[0my\u001b[0m\u001b[1;33m)\u001b[0m\u001b[1;33m\u001b[0m\u001b[1;33m\u001b[0m\u001b[0m\n\u001b[0m\u001b[0;32m   1348\u001b[0m         \u001b[0mself\u001b[0m\u001b[1;33m.\u001b[0m\u001b[0mclasses_\u001b[0m \u001b[1;33m=\u001b[0m \u001b[0mnp\u001b[0m\u001b[1;33m.\u001b[0m\u001b[0munique\u001b[0m\u001b[1;33m(\u001b[0m\u001b[0my\u001b[0m\u001b[1;33m)\u001b[0m\u001b[1;33m\u001b[0m\u001b[1;33m\u001b[0m\u001b[0m\n\u001b[0;32m   1349\u001b[0m \u001b[1;33m\u001b[0m\u001b[0m\n",
      "\u001b[1;32m~\\Anaconda3\\lib\\site-packages\\sklearn\\utils\\multiclass.py\u001b[0m in \u001b[0;36mcheck_classification_targets\u001b[1;34m(y)\u001b[0m\n\u001b[0;32m    181\u001b[0m     if y_type not in ['binary', 'multiclass', 'multiclass-multioutput',\n\u001b[0;32m    182\u001b[0m                       'multilabel-indicator', 'multilabel-sequences']:\n\u001b[1;32m--> 183\u001b[1;33m         \u001b[1;32mraise\u001b[0m \u001b[0mValueError\u001b[0m\u001b[1;33m(\u001b[0m\u001b[1;34m\"Unknown label type: %r\"\u001b[0m \u001b[1;33m%\u001b[0m \u001b[0my_type\u001b[0m\u001b[1;33m)\u001b[0m\u001b[1;33m\u001b[0m\u001b[1;33m\u001b[0m\u001b[0m\n\u001b[0m\u001b[0;32m    184\u001b[0m \u001b[1;33m\u001b[0m\u001b[0m\n\u001b[0;32m    185\u001b[0m \u001b[1;33m\u001b[0m\u001b[0m\n",
      "\u001b[1;31mValueError\u001b[0m: Unknown label type: 'continuous'"
     ]
    }
   ],
   "source": [
    "#Creating train test split at random state 479\n",
    "x_train, x_test, y_train, y_test = train_test_split(x,y,test_size=.20,random_state=79)\n",
    "\n",
    "#Logistic Regression\n",
    "\n",
    "from sklearn.linear_model import LogisticRegression\n",
    "LR = LogisticRegression()\n",
    "LR.fit(x_train, y_train)\n",
    "predlr = LR.predict(x_test)\n",
    "print (\"Accuracy\",accuracy_score(y_test, predlr)*100)\n",
    "print (confusion_matrix(y_test, predlr))\n",
    "print(classification_report(y_test,predlr))"
   ]
  },
  {
   "cell_type": "code",
   "execution_count": 34,
   "id": "6bc9a270",
   "metadata": {},
   "outputs": [
    {
     "ename": "SyntaxError",
     "evalue": "invalid syntax (<ipython-input-34-575d5e0b6891>, line 1)",
     "output_type": "error",
     "traceback": [
      "\u001b[1;36m  File \u001b[1;32m\"<ipython-input-34-575d5e0b6891>\"\u001b[1;36m, line \u001b[1;32m1\u001b[0m\n\u001b[1;33m    pred_lr = 1r.predict(x_test)\u001b[0m\n\u001b[1;37m               ^\u001b[0m\n\u001b[1;31mSyntaxError\u001b[0m\u001b[1;31m:\u001b[0m invalid syntax\n"
     ]
    }
   ],
   "source": []
  },
  {
   "cell_type": "code",
   "execution_count": null,
   "id": "09976c69",
   "metadata": {},
   "outputs": [],
   "source": []
  }
 ],
 "metadata": {
  "kernelspec": {
   "display_name": "Python 3",
   "language": "python",
   "name": "python3"
  },
  "language_info": {
   "codemirror_mode": {
    "name": "ipython",
    "version": 3
   },
   "file_extension": ".py",
   "mimetype": "text/x-python",
   "name": "python",
   "nbconvert_exporter": "python",
   "pygments_lexer": "ipython3",
   "version": "3.8.8"
  }
 },
 "nbformat": 4,
 "nbformat_minor": 5
}
